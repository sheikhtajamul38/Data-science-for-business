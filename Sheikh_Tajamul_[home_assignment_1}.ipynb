{
  "cells": [
    {
      "cell_type": "markdown",
      "id": "2bc961b7",
      "metadata": {
        "id": "2bc961b7"
      },
      "source": [
        "# Submit your solution to the google form (link is available in telegram channel), due to 02/05/2023 23:59 Moscow time."
      ]
    },
    {
      "cell_type": "code",
      "execution_count": null,
      "id": "fed0fe80",
      "metadata": {
        "id": "fed0fe80"
      },
      "outputs": [],
      "source": [
        "import pandas as pd\n",
        "import numpy as np"
      ]
    },
    {
      "cell_type": "code",
      "execution_count": null,
      "id": "8ab2dbb6",
      "metadata": {
        "id": "8ab2dbb6"
      },
      "outputs": [],
      "source": [
        "\n",
        "url = 'https://raw.githubusercontent.com/kurmukovai/ds-for-business/main/home-assignment-1/train_dataset.csv'\n",
        "df = pd.read_csv(url)\n",
        "\n",
        "\n"
      ]
    },
    {
      "cell_type": "markdown",
      "id": "3a34d7dd",
      "metadata": {
        "id": "3a34d7dd"
      },
      "source": [
        "You are asked to build a model to predict the cost of acquiring a customer, the table contains the following features:\n",
        "1. Store specific information:\n",
        "    - store_sales(in millions) - store_sales(in million dollars)\n",
        "    - unit_sales(in millions) - unit_sales(in millions) in stores Quantity\n",
        "    - Store_sqft - STORE AREA AVAILABLE IN SQFT\n",
        "    - Units_per_case - UNITS/CASE UNITS AVAILABLE IN EACH STORE SHELVES\n",
        "    - Coffee_bar - COFFEE BAR available in store\n",
        "    - Video_store - VIDEO STORE/gaming store available\n",
        "    - Salad_bar - SALAD BAR available in store\n",
        "    - Prepared_food - food prepared available in store\n",
        "    - Florist - flower shelves available in store\n",
        "2. Customer related information:\n",
        "    - Total_children - TOTAL CHILDREN IN HOME\n",
        "    - avg_cars_at home(approx) - avg_cars_at home(approx)\n",
        "    - Num_children_at_home - num_children_at_home AS PER CUSTOMERS FILLED DETAILS\n",
        "    - Cost - COST ON ACQUIRING A CUSTOMERS in dollars\n",
        "3. Information about specific product (which was bought by a customer in the store):\n",
        "    - Gross_weight - gross_weight OF ITEM\n",
        "    - Recyclable_package - FOOD ITEM IS recyclable_package\n",
        "    - Low_fat - LOW_FAT FOOD ITEM IS LOW FAT\n",
        "    \n",
        "    \n",
        "![cfm](https://github.com/kurmukovai/ds-for-business/blob/main/home-assignment-1/convinient_food_mart.jpg?raw=1)\n",
        "    \n",
        "Recall, that this table contains already aggregated, anonymized, obfuscated and partially synthetic data. The dataset contains multiple rows per store, per customer, per item, but we do not have `customer_id`, `purchase_id`, `item_id`, `store_id` fields, thus making the analysis somehow limited. Though, it is ideal for our first home assignment.\n",
        "\n",
        "---\n",
        "\n",
        "Your goal for this home assignment is two-fold:\n",
        "1. Make you comfortable with data wrangling:\n",
        "    - Extract rows/columns statistics\n",
        "    - Visualize the dependencies\n",
        "    - Gain some insights\n",
        "2. Build a simple, but correct and full machine learning pipeline\n",
        "    - Select proper performance metrics\n",
        "    - Split the data into train and test subsets\n",
        "    - Run a k-fold cross-validation on a training part to select optimal hyperparameters of the model\n",
        "    - Train a model with optimal hyperparameters on the whole train set\n",
        "    - Make a predictions on test set\n",
        "    - Analyse the generalizability of the model by comparing its performance on train and test sets\n",
        "    - Comment on whether the resulting model is \"good\" or \"bad\" from business point of view"
      ]
    },
    {
      "cell_type": "markdown",
      "id": "35ad87ab",
      "metadata": {
        "id": "35ad87ab"
      },
      "source": [
        "# Analyze general data information"
      ]
    },
    {
      "cell_type": "markdown",
      "id": "064f8374",
      "metadata": {
        "id": "064f8374"
      },
      "source": [
        "## Question 0. What is the goal of this dataset?"
      ]
    },
    {
      "cell_type": "code",
      "execution_count": null,
      "id": "7153deb3",
      "metadata": {
        "id": "7153deb3",
        "colab": {
          "base_uri": "https://localhost:8080/",
          "height": 144
        },
        "outputId": "ee10ddfd-fb2c-4f83-9303-aa17c3601eaf"
      },
      "outputs": [
        {
          "output_type": "execute_result",
          "data": {
            "text/plain": [
              "   store_sales(in millions)  unit_sales(in millions)  total_children  \\\n",
              "0                      2.68                      2.0             1.0   \n",
              "1                      5.73                      3.0             5.0   \n",
              "2                      2.62                      2.0             1.0   \n",
              "\n",
              "   num_children_at_home  avg_cars_at home(approx).1  gross_weight  \\\n",
              "0                   0.0                         2.0          6.30   \n",
              "1                   5.0                         3.0         18.70   \n",
              "2                   1.0                         1.0          9.21   \n",
              "\n",
              "   recyclable_package  low_fat  units_per_case  store_sqft  coffee_bar  \\\n",
              "0                 1.0      0.0            22.0     30584.0         1.0   \n",
              "1                 1.0      0.0            30.0     20319.0         0.0   \n",
              "2                 0.0      0.0             9.0     20319.0         0.0   \n",
              "\n",
              "   video_store  salad_bar  prepared_food  florist    cost  \n",
              "0          1.0        1.0            1.0      1.0   79.59  \n",
              "1          0.0        0.0            0.0      0.0  118.36  \n",
              "2          0.0        0.0            0.0      0.0   67.20  "
            ],
            "text/html": [
              "\n",
              "  <div id=\"df-8eb343f5-1392-4daf-a593-de6e21f02262\">\n",
              "    <div class=\"colab-df-container\">\n",
              "      <div>\n",
              "<style scoped>\n",
              "    .dataframe tbody tr th:only-of-type {\n",
              "        vertical-align: middle;\n",
              "    }\n",
              "\n",
              "    .dataframe tbody tr th {\n",
              "        vertical-align: top;\n",
              "    }\n",
              "\n",
              "    .dataframe thead th {\n",
              "        text-align: right;\n",
              "    }\n",
              "</style>\n",
              "<table border=\"1\" class=\"dataframe\">\n",
              "  <thead>\n",
              "    <tr style=\"text-align: right;\">\n",
              "      <th></th>\n",
              "      <th>store_sales(in millions)</th>\n",
              "      <th>unit_sales(in millions)</th>\n",
              "      <th>total_children</th>\n",
              "      <th>num_children_at_home</th>\n",
              "      <th>avg_cars_at home(approx).1</th>\n",
              "      <th>gross_weight</th>\n",
              "      <th>recyclable_package</th>\n",
              "      <th>low_fat</th>\n",
              "      <th>units_per_case</th>\n",
              "      <th>store_sqft</th>\n",
              "      <th>coffee_bar</th>\n",
              "      <th>video_store</th>\n",
              "      <th>salad_bar</th>\n",
              "      <th>prepared_food</th>\n",
              "      <th>florist</th>\n",
              "      <th>cost</th>\n",
              "    </tr>\n",
              "  </thead>\n",
              "  <tbody>\n",
              "    <tr>\n",
              "      <th>0</th>\n",
              "      <td>2.68</td>\n",
              "      <td>2.0</td>\n",
              "      <td>1.0</td>\n",
              "      <td>0.0</td>\n",
              "      <td>2.0</td>\n",
              "      <td>6.30</td>\n",
              "      <td>1.0</td>\n",
              "      <td>0.0</td>\n",
              "      <td>22.0</td>\n",
              "      <td>30584.0</td>\n",
              "      <td>1.0</td>\n",
              "      <td>1.0</td>\n",
              "      <td>1.0</td>\n",
              "      <td>1.0</td>\n",
              "      <td>1.0</td>\n",
              "      <td>79.59</td>\n",
              "    </tr>\n",
              "    <tr>\n",
              "      <th>1</th>\n",
              "      <td>5.73</td>\n",
              "      <td>3.0</td>\n",
              "      <td>5.0</td>\n",
              "      <td>5.0</td>\n",
              "      <td>3.0</td>\n",
              "      <td>18.70</td>\n",
              "      <td>1.0</td>\n",
              "      <td>0.0</td>\n",
              "      <td>30.0</td>\n",
              "      <td>20319.0</td>\n",
              "      <td>0.0</td>\n",
              "      <td>0.0</td>\n",
              "      <td>0.0</td>\n",
              "      <td>0.0</td>\n",
              "      <td>0.0</td>\n",
              "      <td>118.36</td>\n",
              "    </tr>\n",
              "    <tr>\n",
              "      <th>2</th>\n",
              "      <td>2.62</td>\n",
              "      <td>2.0</td>\n",
              "      <td>1.0</td>\n",
              "      <td>1.0</td>\n",
              "      <td>1.0</td>\n",
              "      <td>9.21</td>\n",
              "      <td>0.0</td>\n",
              "      <td>0.0</td>\n",
              "      <td>9.0</td>\n",
              "      <td>20319.0</td>\n",
              "      <td>0.0</td>\n",
              "      <td>0.0</td>\n",
              "      <td>0.0</td>\n",
              "      <td>0.0</td>\n",
              "      <td>0.0</td>\n",
              "      <td>67.20</td>\n",
              "    </tr>\n",
              "  </tbody>\n",
              "</table>\n",
              "</div>\n",
              "      <button class=\"colab-df-convert\" onclick=\"convertToInteractive('df-8eb343f5-1392-4daf-a593-de6e21f02262')\"\n",
              "              title=\"Convert this dataframe to an interactive table.\"\n",
              "              style=\"display:none;\">\n",
              "        \n",
              "  <svg xmlns=\"http://www.w3.org/2000/svg\" height=\"24px\"viewBox=\"0 0 24 24\"\n",
              "       width=\"24px\">\n",
              "    <path d=\"M0 0h24v24H0V0z\" fill=\"none\"/>\n",
              "    <path d=\"M18.56 5.44l.94 2.06.94-2.06 2.06-.94-2.06-.94-.94-2.06-.94 2.06-2.06.94zm-11 1L8.5 8.5l.94-2.06 2.06-.94-2.06-.94L8.5 2.5l-.94 2.06-2.06.94zm10 10l.94 2.06.94-2.06 2.06-.94-2.06-.94-.94-2.06-.94 2.06-2.06.94z\"/><path d=\"M17.41 7.96l-1.37-1.37c-.4-.4-.92-.59-1.43-.59-.52 0-1.04.2-1.43.59L10.3 9.45l-7.72 7.72c-.78.78-.78 2.05 0 2.83L4 21.41c.39.39.9.59 1.41.59.51 0 1.02-.2 1.41-.59l7.78-7.78 2.81-2.81c.8-.78.8-2.07 0-2.86zM5.41 20L4 18.59l7.72-7.72 1.47 1.35L5.41 20z\"/>\n",
              "  </svg>\n",
              "      </button>\n",
              "      \n",
              "  <style>\n",
              "    .colab-df-container {\n",
              "      display:flex;\n",
              "      flex-wrap:wrap;\n",
              "      gap: 12px;\n",
              "    }\n",
              "\n",
              "    .colab-df-convert {\n",
              "      background-color: #E8F0FE;\n",
              "      border: none;\n",
              "      border-radius: 50%;\n",
              "      cursor: pointer;\n",
              "      display: none;\n",
              "      fill: #1967D2;\n",
              "      height: 32px;\n",
              "      padding: 0 0 0 0;\n",
              "      width: 32px;\n",
              "    }\n",
              "\n",
              "    .colab-df-convert:hover {\n",
              "      background-color: #E2EBFA;\n",
              "      box-shadow: 0px 1px 2px rgba(60, 64, 67, 0.3), 0px 1px 3px 1px rgba(60, 64, 67, 0.15);\n",
              "      fill: #174EA6;\n",
              "    }\n",
              "\n",
              "    [theme=dark] .colab-df-convert {\n",
              "      background-color: #3B4455;\n",
              "      fill: #D2E3FC;\n",
              "    }\n",
              "\n",
              "    [theme=dark] .colab-df-convert:hover {\n",
              "      background-color: #434B5C;\n",
              "      box-shadow: 0px 1px 3px 1px rgba(0, 0, 0, 0.15);\n",
              "      filter: drop-shadow(0px 1px 2px rgba(0, 0, 0, 0.3));\n",
              "      fill: #FFFFFF;\n",
              "    }\n",
              "  </style>\n",
              "\n",
              "      <script>\n",
              "        const buttonEl =\n",
              "          document.querySelector('#df-8eb343f5-1392-4daf-a593-de6e21f02262 button.colab-df-convert');\n",
              "        buttonEl.style.display =\n",
              "          google.colab.kernel.accessAllowed ? 'block' : 'none';\n",
              "\n",
              "        async function convertToInteractive(key) {\n",
              "          const element = document.querySelector('#df-8eb343f5-1392-4daf-a593-de6e21f02262');\n",
              "          const dataTable =\n",
              "            await google.colab.kernel.invokeFunction('convertToInteractive',\n",
              "                                                     [key], {});\n",
              "          if (!dataTable) return;\n",
              "\n",
              "          const docLinkHtml = 'Like what you see? Visit the ' +\n",
              "            '<a target=\"_blank\" href=https://colab.research.google.com/notebooks/data_table.ipynb>data table notebook</a>'\n",
              "            + ' to learn more about interactive tables.';\n",
              "          element.innerHTML = '';\n",
              "          dataTable['output_type'] = 'display_data';\n",
              "          await google.colab.output.renderOutput(dataTable, element);\n",
              "          const docLink = document.createElement('div');\n",
              "          docLink.innerHTML = docLinkHtml;\n",
              "          element.appendChild(docLink);\n",
              "        }\n",
              "      </script>\n",
              "    </div>\n",
              "  </div>\n",
              "  "
            ]
          },
          "metadata": {},
          "execution_count": 150
        }
      ],
      "source": [
        "df.head(3)"
      ]
    },
    {
      "cell_type": "markdown",
      "id": "125d8cb4",
      "metadata": {
        "id": "125d8cb4"
      },
      "source": [
        "## Question 1. How many observations are in the dataset?"
      ]
    },
    {
      "cell_type": "code",
      "execution_count": null,
      "id": "92288e43",
      "metadata": {
        "id": "92288e43",
        "colab": {
          "base_uri": "https://localhost:8080/"
        },
        "outputId": "766005e6-0f65-4197-c019-6112963e7c27"
      },
      "outputs": [
        {
          "output_type": "stream",
          "name": "stdout",
          "text": [
            "Number of observations: 51363\n"
          ]
        }
      ],
      "source": [
        "num_observations = len(df)\n",
        "print(\"Number of observations:\", num_observations)"
      ]
    },
    {
      "cell_type": "markdown",
      "id": "ba7641fb",
      "metadata": {
        "id": "ba7641fb"
      },
      "source": [
        "## Question 2. How many features are in the dataset? (excluding `target` column)"
      ]
    },
    {
      "cell_type": "code",
      "execution_count": null,
      "id": "ac0b0269",
      "metadata": {
        "id": "ac0b0269",
        "colab": {
          "base_uri": "https://localhost:8080/"
        },
        "outputId": "45abbc93-c47e-40bc-8b58-326c04507ed0"
      },
      "outputs": [
        {
          "output_type": "stream",
          "name": "stdout",
          "text": [
            "The dataset has 15 features.\n"
          ]
        }
      ],
      "source": [
        "num_features = len(df.columns)-1\n",
        "\n",
        "# print the number of features\n",
        "print(\"The dataset has\", num_features, \"features.\")"
      ]
    },
    {
      "cell_type": "markdown",
      "id": "629c78b6",
      "metadata": {
        "id": "629c78b6"
      },
      "source": [
        "## Question 3. What is the difference between numerical and categorical features?\n",
        "\n",
        "Which of the following best describes the difference between categorical and numerical features in machine learning?"
      ]
    },
    {
      "cell_type": "code",
      "execution_count": null,
      "id": "0352f6b4",
      "metadata": {
        "id": "0352f6b4"
      },
      "outputs": [],
      "source": [
        "\n"
      ]
    },
    {
      "cell_type": "markdown",
      "id": "e85dc0df",
      "metadata": {
        "id": "e85dc0df"
      },
      "source": [
        "## Question 4. How many numerical and categorical features are in the dataset?  (excluding `target` column)"
      ]
    },
    {
      "cell_type": "code",
      "execution_count": null,
      "id": "b56944b1",
      "metadata": {
        "id": "b56944b1",
        "colab": {
          "base_uri": "https://localhost:8080/"
        },
        "outputId": "b3dfa5be-3572-44a7-e97a-240dace747ec"
      },
      "outputs": [
        {
          "output_type": "stream",
          "name": "stdout",
          "text": [
            "Number of numerical features: 8\n",
            "Number of categorical features: 7\n"
          ]
        }
      ],
      "source": [
        "binary_cols = []\n",
        "for col in df.columns:\n",
        "    if df[col].nunique() == 2 and set(df[col].unique()) == {0, 1}:\n",
        "        binary_cols.append(col)\n",
        "print(f\"Number of numerical features: {num_features-len(binary_cols)}\")\n",
        "print(f\"Number of categorical features: {len(binary_cols)}\")\n"
      ]
    },
    {
      "cell_type": "markdown",
      "id": "91b1c9d7",
      "metadata": {
        "id": "91b1c9d7"
      },
      "source": [
        "# Analyze store specific information"
      ]
    },
    {
      "cell_type": "markdown",
      "id": "abcb2c65",
      "metadata": {
        "id": "abcb2c65"
      },
      "source": [
        "## In most cases stores which have a Coffee bar, do prepare food"
      ]
    },
    {
      "cell_type": "code",
      "execution_count": null,
      "id": "96309978",
      "metadata": {
        "id": "96309978"
      },
      "outputs": [],
      "source": [
        "from sklearn.metrics import confusion_matrix\n",
        "import seaborn as sns\n",
        "import matplotlib.pyplot as plt"
      ]
    },
    {
      "cell_type": "code",
      "execution_count": null,
      "id": "95c1b717",
      "metadata": {
        "id": "95c1b717",
        "colab": {
          "base_uri": "https://localhost:8080/",
          "height": 472
        },
        "outputId": "6c7c202e-013b-4655-8339-ffd9c6581138"
      },
      "outputs": [
        {
          "output_type": "display_data",
          "data": {
            "text/plain": [
              "<Figure size 640x480 with 1 Axes>"
            ],
            "image/png": "[encoded data removed]"
          },
          "metadata": {}
        }
      ],
      "source": [
        "# Compute a confusion matrix\n",
        "cm = confusion_matrix(df['coffee_bar'], df['prepared_food'])\n",
        "\n",
        "# Create a heatmap with seaborn\n",
        "sns.heatmap(cm, annot=True, cmap='Blues', fmt='g', cbar=False)\n",
        "\n",
        "# Add labels to the x-axis and y-axis\n",
        "plt.xlabel('coffee_bar')\n",
        "plt.ylabel('prepared_food')\n",
        "\n",
        "# Add a title\n",
        "plt.title('Confusion Matrix Heatmap');"
      ]
    },
    {
      "cell_type": "markdown",
      "id": "a755b22e",
      "metadata": {
        "id": "a755b22e"
      },
      "source": [
        "## Question 5. How many stores which have a Salad bar do prepare food?\n",
        "\n",
        "Based on your answer decide if you need to drop one of the (duplicated) columns."
      ]
    },
    {
      "cell_type": "code",
      "execution_count": null,
      "id": "4277e2d7",
      "metadata": {
        "id": "4277e2d7",
        "colab": {
          "base_uri": "https://localhost:8080/"
        },
        "outputId": "4315f681-39d9-49a8-ffdc-f112746c1f0e"
      },
      "outputs": [
        {
          "output_type": "stream",
          "name": "stdout",
          "text": [
            "There are no duplicated columns\n",
            "Number of stores with a Salad bar that prepare food:  30202\n"
          ]
        }
      ],
      "source": [
        "stores_with_saladbar_preparing_food = df[(df['salad_bar'] == 1) & (df['prepared_food'] == 1)]\n",
        "\n",
        "num_stores = len(stores_with_saladbar_preparing_food)\n",
        "\n",
        "duplicated_columns = df.columns[df.columns.duplicated()]\n",
        "\n",
        "if len(duplicated_columns) > 0:\n",
        "    df = df.drop(duplicated_columns[0], axis=1)\n",
        "    print(f\"Dropped column {duplicated_columns[0]}\")\n",
        "else:\n",
        "    print(\"There are no duplicated columns\")\n",
        "\n",
        "# Print the result\n",
        "print(\"Number of stores with a Salad bar that prepare food: \", num_stores)"
      ]
    },
    {
      "cell_type": "markdown",
      "id": "2345eedf",
      "metadata": {
        "id": "2345eedf"
      },
      "source": [
        "## Having a Coffee bar decreases the average media campaign cost"
      ]
    },
    {
      "cell_type": "code",
      "execution_count": null,
      "id": "f41bd65e",
      "metadata": {
        "id": "f41bd65e",
        "colab": {
          "base_uri": "https://localhost:8080/",
          "height": 449
        },
        "outputId": "501792a3-0aa0-451f-83d3-44bd98496d38"
      },
      "outputs": [
        {
          "output_type": "display_data",
          "data": {
            "text/plain": [
              "<Figure size 640x480 with 1 Axes>"
            ],
            "image/png": "[encoded data removed]"
          },
          "metadata": {}
        }
      ],
      "source": [
        "sns.boxplot(data=df, x='coffee_bar', y='cost', width=.3)\n",
        "plt.xlabel('Coffee bar')\n",
        "plt.ylabel('Marketing cost');"
      ]
    },
    {
      "cell_type": "code",
      "execution_count": null,
      "id": "91bae752",
      "metadata": {
        "id": "91bae752",
        "colab": {
          "base_uri": "https://localhost:8080/",
          "height": 144
        },
        "outputId": "5cb4b534-a36a-4346-e1b9-5d0c87f67c14"
      },
      "outputs": [
        {
          "output_type": "execute_result",
          "data": {
            "text/plain": [
              "                  mean  median        std\n",
              "coffee_bar                               \n",
              "0.0         101.659804  105.74  30.162547\n",
              "1.0          97.850422   94.79  29.841456"
            ],
            "text/html": [
              "\n",
              "  <div id=\"df-b9f22446-031c-46c8-8ca5-11e5c67c74c8\">\n",
              "    <div class=\"colab-df-container\">\n",
              "      <div>\n",
              "<style scoped>\n",
              "    .dataframe tbody tr th:only-of-type {\n",
              "        vertical-align: middle;\n",
              "    }\n",
              "\n",
              "    .dataframe tbody tr th {\n",
              "        vertical-align: top;\n",
              "    }\n",
              "\n",
              "    .dataframe thead th {\n",
              "        text-align: right;\n",
              "    }\n",
              "</style>\n",
              "<table border=\"1\" class=\"dataframe\">\n",
              "  <thead>\n",
              "    <tr style=\"text-align: right;\">\n",
              "      <th></th>\n",
              "      <th>mean</th>\n",
              "      <th>median</th>\n",
              "      <th>std</th>\n",
              "    </tr>\n",
              "    <tr>\n",
              "      <th>coffee_bar</th>\n",
              "      <th></th>\n",
              "      <th></th>\n",
              "      <th></th>\n",
              "    </tr>\n",
              "  </thead>\n",
              "  <tbody>\n",
              "    <tr>\n",
              "      <th>0.0</th>\n",
              "      <td>101.659804</td>\n",
              "      <td>105.74</td>\n",
              "      <td>30.162547</td>\n",
              "    </tr>\n",
              "    <tr>\n",
              "      <th>1.0</th>\n",
              "      <td>97.850422</td>\n",
              "      <td>94.79</td>\n",
              "      <td>29.841456</td>\n",
              "    </tr>\n",
              "  </tbody>\n",
              "</table>\n",
              "</div>\n",
              "      <button class=\"colab-df-convert\" onclick=\"convertToInteractive('df-b9f22446-031c-46c8-8ca5-11e5c67c74c8')\"\n",
              "              title=\"Convert this dataframe to an interactive table.\"\n",
              "              style=\"display:none;\">\n",
              "        \n",
              "  <svg xmlns=\"http://www.w3.org/2000/svg\" height=\"24px\"viewBox=\"0 0 24 24\"\n",
              "       width=\"24px\">\n",
              "    <path d=\"M0 0h24v24H0V0z\" fill=\"none\"/>\n",
              "    <path d=\"M18.56 5.44l.94 2.06.94-2.06 2.06-.94-2.06-.94-.94-2.06-.94 2.06-2.06.94zm-11 1L8.5 8.5l.94-2.06 2.06-.94-2.06-.94L8.5 2.5l-.94 2.06-2.06.94zm10 10l.94 2.06.94-2.06 2.06-.94-2.06-.94-.94-2.06-.94 2.06-2.06.94z\"/><path d=\"M17.41 7.96l-1.37-1.37c-.4-.4-.92-.59-1.43-.59-.52 0-1.04.2-1.43.59L10.3 9.45l-7.72 7.72c-.78.78-.78 2.05 0 2.83L4 21.41c.39.39.9.59 1.41.59.51 0 1.02-.2 1.41-.59l7.78-7.78 2.81-2.81c.8-.78.8-2.07 0-2.86zM5.41 20L4 18.59l7.72-7.72 1.47 1.35L5.41 20z\"/>\n",
              "  </svg>\n",
              "      </button>\n",
              "      \n",
              "  <style>\n",
              "    .colab-df-container {\n",
              "      display:flex;\n",
              "      flex-wrap:wrap;\n",
              "      gap: 12px;\n",
              "    }\n",
              "\n",
              "    .colab-df-convert {\n",
              "      background-color: #E8F0FE;\n",
              "      border: none;\n",
              "      border-radius: 50%;\n",
              "      cursor: pointer;\n",
              "      display: none;\n",
              "      fill: #1967D2;\n",
              "      height: 32px;\n",
              "      padding: 0 0 0 0;\n",
              "      width: 32px;\n",
              "    }\n",
              "\n",
              "    .colab-df-convert:hover {\n",
              "      background-color: #E2EBFA;\n",
              "      box-shadow: 0px 1px 2px rgba(60, 64, 67, 0.3), 0px 1px 3px 1px rgba(60, 64, 67, 0.15);\n",
              "      fill: #174EA6;\n",
              "    }\n",
              "\n",
              "    [theme=dark] .colab-df-convert {\n",
              "      background-color: #3B4455;\n",
              "      fill: #D2E3FC;\n",
              "    }\n",
              "\n",
              "    [theme=dark] .colab-df-convert:hover {\n",
              "      background-color: #434B5C;\n",
              "      box-shadow: 0px 1px 3px 1px rgba(0, 0, 0, 0.15);\n",
              "      filter: drop-shadow(0px 1px 2px rgba(0, 0, 0, 0.3));\n",
              "      fill: #FFFFFF;\n",
              "    }\n",
              "  </style>\n",
              "\n",
              "      <script>\n",
              "        const buttonEl =\n",
              "          document.querySelector('#df-b9f22446-031c-46c8-8ca5-11e5c67c74c8 button.colab-df-convert');\n",
              "        buttonEl.style.display =\n",
              "          google.colab.kernel.accessAllowed ? 'block' : 'none';\n",
              "\n",
              "        async function convertToInteractive(key) {\n",
              "          const element = document.querySelector('#df-b9f22446-031c-46c8-8ca5-11e5c67c74c8');\n",
              "          const dataTable =\n",
              "            await google.colab.kernel.invokeFunction('convertToInteractive',\n",
              "                                                     [key], {});\n",
              "          if (!dataTable) return;\n",
              "\n",
              "          const docLinkHtml = 'Like what you see? Visit the ' +\n",
              "            '<a target=\"_blank\" href=https://colab.research.google.com/notebooks/data_table.ipynb>data table notebook</a>'\n",
              "            + ' to learn more about interactive tables.';\n",
              "          element.innerHTML = '';\n",
              "          dataTable['output_type'] = 'display_data';\n",
              "          await google.colab.output.renderOutput(dataTable, element);\n",
              "          const docLink = document.createElement('div');\n",
              "          docLink.innerHTML = docLinkHtml;\n",
              "          element.appendChild(docLink);\n",
              "        }\n",
              "      </script>\n",
              "    </div>\n",
              "  </div>\n",
              "  "
            ]
          },
          "metadata": {},
          "execution_count": 158
        }
      ],
      "source": [
        "df.groupby('coffee_bar')['cost'].agg(['mean', 'median', 'std'])"
      ]
    },
    {
      "cell_type": "markdown",
      "id": "8a41b144",
      "metadata": {
        "id": "8a41b144"
      },
      "source": [
        "## Question 6. Does having a video store, a salad bar, an option to buy prepared food or a\tflorist decreases the average cost of media campaign?"
      ]
    },
    {
      "cell_type": "code",
      "execution_count": null,
      "id": "915148c2",
      "metadata": {
        "id": "915148c2",
        "colab": {
          "base_uri": "https://localhost:8080/"
        },
        "outputId": "b5fa8aeb-71f2-4ff6-e68d-11b7407e79f1"
      },
      "outputs": [
        {
          "output_type": "stream",
          "name": "stdout",
          "text": [
            "mean      94.843250\n",
            "median    92.570000\n",
            "std       29.479086\n",
            "Name: cost, dtype: float64\n"
          ]
        }
      ],
      "source": [
        "# filter the rows based on the specified criteria\n",
        "mask = (df['video_store']==1) & (df['salad_bar']==1) & ((df['prepared_food']==1) | (df['florist']==1))\n",
        "filtered_df = df[mask]\n",
        "\n",
        "# calculate the mean, median, and standard deviation of 'cost'\n",
        "result = filtered_df['cost'].agg(['mean', 'median', 'std'])\n",
        "\n",
        "print(result)"
      ]
    },
    {
      "cell_type": "markdown",
      "id": "5ae849f2",
      "metadata": {
        "id": "5ae849f2"
      },
      "source": [
        "## Most of the stores have under 15 mln sales, with 90% of sales being under 12 mln.\n",
        "\n",
        "The distribution is right-skewed (positive skew), with mean around 6.5mln."
      ]
    },
    {
      "cell_type": "code",
      "execution_count": null,
      "id": "3712c5e2",
      "metadata": {
        "id": "3712c5e2",
        "colab": {
          "base_uri": "https://localhost:8080/",
          "height": 472
        },
        "outputId": "200b66d5-9d3a-45ac-93b0-ae2134ee0966"
      },
      "outputs": [
        {
          "output_type": "display_data",
          "data": {
            "text/plain": [
              "<Figure size 640x480 with 1 Axes>"
            ],
            "image/png": "[encoded data removed]"
          },
          "metadata": {}
        }
      ],
      "source": [
        "sns.histplot(df['store_sales(in millions)'], kde=True, bins=20)\n",
        "plt.title(f'Distribution of store sales, in millions $');"
      ]
    },
    {
      "cell_type": "code",
      "execution_count": null,
      "id": "4a54d133",
      "metadata": {
        "id": "4a54d133",
        "colab": {
          "base_uri": "https://localhost:8080/"
        },
        "outputId": "570aec90-2d1f-4a21-ba4e-f8a726f967e9"
      },
      "outputs": [
        {
          "output_type": "execute_result",
          "data": {
            "text/plain": [
              "11.85"
            ]
          },
          "metadata": {},
          "execution_count": 161
        }
      ],
      "source": [
        "df['store_sales(in millions)'].quantile(0.93)"
      ]
    },
    {
      "cell_type": "code",
      "execution_count": null,
      "id": "b7e1c38f",
      "metadata": {
        "id": "b7e1c38f",
        "colab": {
          "base_uri": "https://localhost:8080/"
        },
        "outputId": "1cf3af1c-564f-4316-927b-3cc442aacce7"
      },
      "outputs": [
        {
          "output_type": "execute_result",
          "data": {
            "text/plain": [
              "6.531791562019353"
            ]
          },
          "metadata": {},
          "execution_count": 162
        }
      ],
      "source": [
        "df['store_sales(in millions)'].mean()"
      ]
    },
    {
      "cell_type": "markdown",
      "id": "dc693c3a",
      "metadata": {
        "id": "dc693c3a"
      },
      "source": [
        "## Question 7. What could you say about distribution of marketing costs?\n"
      ]
    },
    {
      "cell_type": "code",
      "execution_count": null,
      "id": "6398664d",
      "metadata": {
        "id": "6398664d",
        "colab": {
          "base_uri": "https://localhost:8080/",
          "height": 472
        },
        "outputId": "1b8cc745-1b49-4b1f-9c5c-80b4fa36a76a"
      },
      "outputs": [
        {
          "output_type": "display_data",
          "data": {
            "text/plain": [
              "<Figure size 640x480 with 1 Axes>"
            ],
            "image/png": "[encoded data removed]"
          },
          "metadata": {}
        }
      ],
      "source": [
        "plt.hist(df['cost'], bins=20)\n",
        "plt.xlabel('Marketing Cost')\n",
        "plt.ylabel('Frequency')\n",
        "plt.title('Histogram of Marketing Costs')\n",
        "plt.show()\n",
        "\n",
        "\n"
      ]
    },
    {
      "cell_type": "markdown",
      "id": "71605abb",
      "metadata": {
        "id": "71605abb"
      },
      "source": [
        "## Question 8. What percentage of sales go into marketing cost?\n",
        "\n",
        "Assuming that all rows with the same `store_sales(in millions)` come from the same store, and that all rows are from unique customers, the total sales are $7979 \\text{mln}, \\$ $, and the total costs are $5101736\\$$.\n"
      ]
    },
    {
      "cell_type": "code",
      "execution_count": null,
      "id": "428d7352",
      "metadata": {
        "id": "428d7352",
        "colab": {
          "base_uri": "https://localhost:8080/"
        },
        "outputId": "96241812-651a-4a15-e923-d1db3b1e05a2"
      },
      "outputs": [
        {
          "output_type": "execute_result",
          "data": {
            "text/plain": [
              "7979.009999999999"
            ]
          },
          "metadata": {},
          "execution_count": 164
        }
      ],
      "source": [
        "df['store_sales(in millions)'].unique().sum()"
      ]
    },
    {
      "cell_type": "code",
      "execution_count": null,
      "id": "41249f78",
      "metadata": {
        "id": "41249f78",
        "colab": {
          "base_uri": "https://localhost:8080/"
        },
        "outputId": "078567de-79b2-4ec1-a85b-84ee0daf6860"
      },
      "outputs": [
        {
          "output_type": "execute_result",
          "data": {
            "text/plain": [
              "5101736.01"
            ]
          },
          "metadata": {},
          "execution_count": 165
        }
      ],
      "source": [
        "df['cost'].sum()"
      ]
    },
    {
      "cell_type": "code",
      "execution_count": null,
      "id": "34a7080a",
      "metadata": {
        "id": "34a7080a",
        "colab": {
          "base_uri": "https://localhost:8080/"
        },
        "outputId": "a98ee48f-b094-49b6-cfcf-7a68e2ef1af6"
      },
      "outputs": [
        {
          "output_type": "stream",
          "name": "stdout",
          "text": [
            "The percentage of sales that go into marketing cost is: 0.06%\n"
          ]
        }
      ],
      "source": [
        "marketing_cost = df['cost'].sum()\n",
        "sales = df['store_sales(in millions)'].unique().sum()\n",
        "percentage = (marketing_cost / (sales * 10**6)) * 100\n",
        "print(f\"The percentage of sales that go into marketing cost is: {percentage:.2f}%\")\n"
      ]
    },
    {
      "cell_type": "markdown",
      "id": "cdbed01d",
      "metadata": {
        "id": "cdbed01d"
      },
      "source": [
        "## Here is a plot of sales vs store area\n",
        "\n",
        "It seems that while there is no clear dependence (stores with the largest sales vary in the square foot area a lot),\n",
        "there are some obvious clusters, e.g. stores with about 25000 square feet area and sales between 3 and 7 mln."
      ]
    },
    {
      "cell_type": "code",
      "execution_count": null,
      "id": "3abe0bbd",
      "metadata": {
        "id": "3abe0bbd",
        "colab": {
          "base_uri": "https://localhost:8080/",
          "height": 502
        },
        "outputId": "d848677d-cc0f-4fea-be6d-d59b37c91c2f"
      },
      "outputs": [
        {
          "output_type": "stream",
          "name": "stderr",
          "text": [
            "<ipython-input-167-2c8531bf5be0>:6: UserWarning: Ignoring `palette` because no `hue` variable has been assigned.\n",
            "  sns.kdeplot(data=sub, x='store_sales(in millions)', y='store_sqft',\n"
          ]
        },
        {
          "output_type": "execute_result",
          "data": {
            "text/plain": [
              "<Axes: xlabel='store_sales(in millions)', ylabel='store_sqft'>"
            ]
          },
          "metadata": {},
          "execution_count": 167
        },
        {
          "output_type": "display_data",
          "data": {
            "text/plain": [
              "<Figure size 640x480 with 1 Axes>"
            ],
            "image/png": "[encoded data removed]"
          },
          "metadata": {}
        }
      ],
      "source": [
        "sub = df[['store_sales(in millions)','store_sqft']].drop_duplicates()\n",
        "sub = sub[::20]\n",
        "\n",
        "plt.scatter(sub['store_sales(in millions)'], sub['store_sqft'], s=3, alpha=0.6)\n",
        "\n",
        "sns.kdeplot(data=sub, x='store_sales(in millions)', y='store_sqft',\n",
        "            palette=\"deep\", alpha=0.5, levels=10, fill=True)"
      ]
    },
    {
      "cell_type": "code",
      "execution_count": null,
      "id": "4ba72040",
      "metadata": {
        "id": "4ba72040"
      },
      "outputs": [],
      "source": []
    },
    {
      "cell_type": "markdown",
      "id": "d2fa52c7",
      "metadata": {
        "id": "d2fa52c7"
      },
      "source": [
        "## Question 9. What is the average sales per squre foot area?"
      ]
    },
    {
      "cell_type": "code",
      "execution_count": null,
      "id": "e282ce45",
      "metadata": {
        "id": "e282ce45",
        "colab": {
          "base_uri": "https://localhost:8080/"
        },
        "outputId": "6a53022a-fb9e-4672-d8bf-b4d7ca94317d"
      },
      "outputs": [
        {
          "output_type": "stream",
          "name": "stdout",
          "text": [
            "The average sales per square foot area is $233.45\n"
          ]
        }
      ],
      "source": [
        "\n",
        "total_sales = df['store_sales(in millions)'].sum() * 10**6\n",
        "total_sqft_area = df['store_sqft'].sum()\n",
        "\n",
        "avg_sales_per_sqft = total_sales / total_sqft_area\n",
        "\n",
        "print(f\"The average sales per square foot area is ${round(avg_sales_per_sqft, 2)}\")\n"
      ]
    },
    {
      "cell_type": "markdown",
      "id": "30b8ed4d",
      "metadata": {
        "id": "30b8ed4d"
      },
      "source": [
        "## Interestingly, the marketing costs in  stores with >=10 mln sales is not much different from the costs in stores with lower <10mln sales"
      ]
    },
    {
      "cell_type": "code",
      "execution_count": null,
      "id": "fba710fc",
      "metadata": {
        "id": "fba710fc",
        "colab": {
          "base_uri": "https://localhost:8080/"
        },
        "outputId": "f9a13391-3dbf-49e3-c600-5f745d5fb59a"
      },
      "outputs": [
        {
          "output_type": "execute_result",
          "data": {
            "text/plain": [
              "99.60226463674017"
            ]
          },
          "metadata": {},
          "execution_count": 169
        }
      ],
      "source": [
        "df[df['store_sales(in millions)'] >= 10]['cost'].mean()"
      ]
    },
    {
      "cell_type": "code",
      "execution_count": null,
      "id": "b5480421",
      "metadata": {
        "id": "b5480421",
        "colab": {
          "base_uri": "https://localhost:8080/"
        },
        "outputId": "d0007faf-da58-420d-d449-9cf044ab554f"
      },
      "outputs": [
        {
          "output_type": "execute_result",
          "data": {
            "text/plain": [
              "99.26912514730145"
            ]
          },
          "metadata": {},
          "execution_count": 170
        }
      ],
      "source": [
        "df[df['store_sales(in millions)'] < 10]['cost'].mean()"
      ]
    },
    {
      "cell_type": "code",
      "execution_count": null,
      "id": "b57d0087",
      "metadata": {
        "id": "b57d0087",
        "colab": {
          "base_uri": "https://localhost:8080/"
        },
        "outputId": "ab363707-9d8b-49ed-9e20-2c0bdd9da44c"
      },
      "outputs": [
        {
          "output_type": "execute_result",
          "data": {
            "text/plain": [
              "99.32706442380702"
            ]
          },
          "metadata": {},
          "execution_count": 171
        }
      ],
      "source": [
        "df['cost'].mean()"
      ]
    },
    {
      "cell_type": "markdown",
      "id": "0e2dcd7c",
      "metadata": {
        "id": "0e2dcd7c"
      },
      "source": [
        "## Question 10. Is there any dependence between size of the store in square feet and the cost of marketing?\n",
        "\n",
        "Select all that apply\n"
      ]
    },
    {
      "cell_type": "code",
      "execution_count": null,
      "id": "9e670cda",
      "metadata": {
        "id": "9e670cda",
        "colab": {
          "base_uri": "https://localhost:8080/"
        },
        "outputId": "555151de-5a5a-4bb5-8505-2d72aa51c115"
      },
      "outputs": [
        {
          "output_type": "stream",
          "name": "stdout",
          "text": [
            "Correlation between store_sqft and cost: -0.037818226460586586\n",
            "Mean cost per sqft by store size:\n",
            "store_sqft\n",
            "20319.0    105.467157\n",
            "21215.0    103.337065\n",
            "22478.0    104.588277\n",
            "23112.0    102.076669\n",
            "23593.0     97.578442\n",
            "23598.0    100.926735\n",
            "23688.0    101.308932\n",
            "23759.0    106.249491\n",
            "24597.0    106.596124\n",
            "27694.0     84.414833\n",
            "28206.0    105.725507\n",
            "30268.0     94.927259\n",
            "30584.0    102.012442\n",
            "30797.0     89.859905\n",
            "33858.0     98.253732\n",
            "34452.0     96.903361\n",
            "34791.0    100.228878\n",
            "36509.0    117.328392\n",
            "38382.0    114.848429\n",
            "39696.0     98.745556\n",
            "Name: cost, dtype: float64\n",
            "T-test result for difference in marketing costs between small and large stores:\n",
            "The difference in marketing costs between small and large stores is negligible (<2%)\n"
          ]
        }
      ],
      "source": [
        "\n",
        "from scipy.stats import ttest_ind\n",
        "\n",
        "mean_cost_by_sqft = df.groupby('store_sqft')['cost'].mean()\n",
        "\n",
        "corr = np.corrcoef(df['store_sqft'], df['cost'])[0, 1]\n",
        "\n",
        "\n",
        "small_stores = df[df['store_sqft'] < 100]['cost']\n",
        "large_stores = df[df['store_sqft'] >= 100]['cost']\n",
        "t_stat, p_val = ttest_ind(small_stores, large_stores)\n",
        "\n",
        "\n",
        "print(\"Correlation between store_sqft and cost:\", corr)\n",
        "print(\"Mean cost per sqft by store size:\")\n",
        "print(mean_cost_by_sqft[mean_cost_by_sqft < 150])\n",
        "print(\"T-test result for difference in marketing costs between small and large stores:\")\n",
        "if p_val < 0.05:\n",
        "    print(\"The difference in marketing costs between small and large stores is significant (>5%)\")\n",
        "else:\n",
        "    print(\"The difference in marketing costs between small and large stores is negligible (<2%)\")\n"
      ]
    },
    {
      "cell_type": "markdown",
      "id": "8f8a5844",
      "metadata": {
        "id": "8f8a5844"
      },
      "source": [
        "## Let's investigate the stores with the smallest cost to aqcuire a customers"
      ]
    },
    {
      "cell_type": "code",
      "execution_count": null,
      "id": "28e5947b",
      "metadata": {
        "id": "28e5947b",
        "colab": {
          "base_uri": "https://localhost:8080/"
        },
        "outputId": "d813f579-69ab-4ded-f15f-3d3d2866ca58"
      },
      "outputs": [
        {
          "output_type": "execute_result",
          "data": {
            "text/plain": [
              "50.79"
            ]
          },
          "metadata": {},
          "execution_count": 173
        }
      ],
      "source": [
        "df.cost.min()"
      ]
    },
    {
      "cell_type": "code",
      "execution_count": null,
      "id": "346a09fa",
      "metadata": {
        "id": "346a09fa"
      },
      "outputs": [],
      "source": [
        "sub = df.query('cost==50.79')"
      ]
    },
    {
      "cell_type": "code",
      "execution_count": null,
      "id": "1e98cb18",
      "metadata": {
        "id": "1e98cb18"
      },
      "outputs": [],
      "source": [
        "store_columns = [\n",
        "    'store_sales(in millions)','unit_sales(in millions)',\n",
        "    'store_sqft','coffee_bar','video_store',\n",
        "    'salad_bar','prepared_food','florist'\n",
        "]"
      ]
    },
    {
      "cell_type": "markdown",
      "id": "1422c6c7",
      "metadata": {
        "id": "1422c6c7"
      },
      "source": [
        "First, these are mostly small stores with sales under 10mln"
      ]
    },
    {
      "cell_type": "code",
      "execution_count": null,
      "id": "2a7d01bf",
      "metadata": {
        "id": "2a7d01bf",
        "colab": {
          "base_uri": "https://localhost:8080/",
          "height": 472
        },
        "outputId": "19daa1cf-ba61-4b1a-d266-05f4d123e1c7"
      },
      "outputs": [
        {
          "output_type": "display_data",
          "data": {
            "text/plain": [
              "<Figure size 640x480 with 1 Axes>"
            ],
            "image/png": "[encoded data removed]"
          },
          "metadata": {}
        }
      ],
      "source": [
        "sns.histplot(sub['store_sales(in millions)'], kde=True, bins=20)\n",
        "plt.title(f'Distribution of store sales, in millions $');"
      ]
    },
    {
      "cell_type": "code",
      "execution_count": null,
      "id": "a2f63d9c",
      "metadata": {
        "id": "a2f63d9c",
        "colab": {
          "base_uri": "https://localhost:8080/"
        },
        "outputId": "f8d66be9-54ea-493b-f5fa-015957cf914b"
      },
      "outputs": [
        {
          "output_type": "execute_result",
          "data": {
            "text/plain": [
              "(27694.0, 0.0)"
            ]
          },
          "metadata": {},
          "execution_count": 177
        }
      ],
      "source": [
        "sub['store_sqft'].mean(), sub['store_sqft'].std()"
      ]
    },
    {
      "cell_type": "code",
      "execution_count": null,
      "id": "f7c893cb",
      "metadata": {
        "id": "f7c893cb",
        "colab": {
          "base_uri": "https://localhost:8080/"
        },
        "outputId": "399031b2-d76d-415c-91f7-ac26071912bf"
      },
      "outputs": [
        {
          "output_type": "execute_result",
          "data": {
            "text/plain": [
              "array([27694.])"
            ]
          },
          "metadata": {},
          "execution_count": 178
        }
      ],
      "source": [
        "sub['store_sqft'].unique()"
      ]
    },
    {
      "cell_type": "markdown",
      "id": "e01e1cce",
      "metadata": {
        "id": "e01e1cce"
      },
      "source": [
        "Second, it seems they all have **all** additional services"
      ]
    },
    {
      "cell_type": "code",
      "execution_count": null,
      "id": "48c5f56e",
      "metadata": {
        "id": "48c5f56e",
        "colab": {
          "base_uri": "https://localhost:8080/"
        },
        "outputId": "ca9e70af-7b0e-4866-9a6a-3759de7815db"
      },
      "outputs": [
        {
          "output_type": "stream",
          "name": "stdout",
          "text": [
            "coffee_bar [1.]\n",
            "video_store [1.]\n",
            "salad_bar [1.]\n",
            "prepared_food [1.]\n",
            "florist [1.]\n"
          ]
        }
      ],
      "source": [
        "for col in ['coffee_bar','video_store',\n",
        "    'salad_bar','prepared_food','florist']:\n",
        "    print(col, sub[col].unique())"
      ]
    },
    {
      "cell_type": "markdown",
      "id": "8f9d0fa4",
      "metadata": {
        "id": "8f9d0fa4"
      },
      "source": [
        "## What about stores with the largest cost to aqcuire a customers?"
      ]
    },
    {
      "cell_type": "code",
      "execution_count": null,
      "id": "827d23df",
      "metadata": {
        "id": "827d23df",
        "colab": {
          "base_uri": "https://localhost:8080/"
        },
        "outputId": "2d05f634-b0d4-4bc5-be9b-e91988bf3dd7"
      },
      "outputs": [
        {
          "output_type": "execute_result",
          "data": {
            "text/plain": [
              "149.75"
            ]
          },
          "metadata": {},
          "execution_count": 180
        }
      ],
      "source": [
        "df.cost.max()"
      ]
    },
    {
      "cell_type": "code",
      "execution_count": null,
      "id": "c92020d9",
      "metadata": {
        "id": "c92020d9"
      },
      "outputs": [],
      "source": [
        "sub = df.query('cost==149.75')"
      ]
    },
    {
      "cell_type": "code",
      "execution_count": null,
      "id": "724761af",
      "metadata": {
        "id": "724761af",
        "colab": {
          "base_uri": "https://localhost:8080/",
          "height": 472
        },
        "outputId": "9144963a-74e7-4ff3-f95f-04a2e66c8fbb"
      },
      "outputs": [
        {
          "output_type": "display_data",
          "data": {
            "text/plain": [
              "<Figure size 640x480 with 1 Axes>"
            ],
            "image/png": "[encoded data removed]"
          },
          "metadata": {}
        }
      ],
      "source": [
        "sns.histplot(sub['store_sales(in millions)'], kde=True, bins=20)\n",
        "plt.title(f'Distribution of store sales, in millions $');"
      ]
    },
    {
      "cell_type": "code",
      "execution_count": null,
      "id": "74c60825",
      "metadata": {
        "id": "74c60825",
        "colab": {
          "base_uri": "https://localhost:8080/"
        },
        "outputId": "8fe9628f-082b-4af0-bcd3-5b617ed4f7b0"
      },
      "outputs": [
        {
          "output_type": "execute_result",
          "data": {
            "text/plain": [
              "(23688.0, 0.0)"
            ]
          },
          "metadata": {},
          "execution_count": 183
        }
      ],
      "source": [
        "sub['store_sqft'].mean(), sub['store_sqft'].std()"
      ]
    },
    {
      "cell_type": "code",
      "execution_count": null,
      "id": "7fb1fe96",
      "metadata": {
        "id": "7fb1fe96",
        "colab": {
          "base_uri": "https://localhost:8080/"
        },
        "outputId": "af691b31-e9db-484f-9dff-1f080abd3cbd"
      },
      "outputs": [
        {
          "output_type": "stream",
          "name": "stdout",
          "text": [
            "coffee_bar [1.]\n",
            "video_store [1.]\n",
            "salad_bar [1.]\n",
            "prepared_food [1.]\n",
            "florist [1.]\n"
          ]
        }
      ],
      "source": [
        "for col in ['coffee_bar','video_store',\n",
        "    'salad_bar','prepared_food','florist']:\n",
        "    print(col, sub[col].unique())"
      ]
    },
    {
      "cell_type": "markdown",
      "id": "933d2ded",
      "metadata": {
        "id": "933d2ded"
      },
      "source": [
        "They are also mostly small stores with under 10mln sales and all services included. It seems that the difference is not explained by the stores. Could it be explained by customers?"
      ]
    },
    {
      "cell_type": "markdown",
      "id": "ff8ff19f",
      "metadata": {
        "id": "ff8ff19f"
      },
      "source": [
        "## Question 10. Do distribution of number of kids vary for the lowest cost and largest cost rows?\n",
        "\n",
        "1. Try using `countplot` instead of `histplot`.\n",
        "2. Use total number of kids (instead of kids at home)"
      ]
    },
    {
      "cell_type": "code",
      "execution_count": null,
      "id": "0d938044",
      "metadata": {
        "id": "0d938044",
        "colab": {
          "base_uri": "https://localhost:8080/",
          "height": 927
        },
        "outputId": "fa11b230-5f3e-4f43-92dd-acdb48f5ecfd"
      },
      "outputs": [
        {
          "output_type": "display_data",
          "data": {
            "text/plain": [
              "<Figure size 640x480 with 1 Axes>"
            ],
            "image/png": "[encoded data removed]"
          },
          "metadata": {}
        },
        {
          "output_type": "display_data",
          "data": {
            "text/plain": [
              "<Figure size 640x480 with 1 Axes>"
            ],
            "image/png": "[encoded data removed]"
          },
          "metadata": {}
        }
      ],
      "source": [
        "import seaborn as sns\n",
        "\n",
        "lowest_cost = df[df['cost'] == df['cost'].min()]\n",
        "highest_cost = df[df['cost'] == df['cost'].max()]\n",
        "\n",
        "sns.countplot(x='total_children', data=lowest_cost)\n",
        "plt.title('Distribution of Total Children in Lowest Cost Rows')\n",
        "plt.show()\n",
        "\n",
        "sns.countplot(x='total_children', data=highest_cost)\n",
        "plt.title('Distribution of Total Children in Highest Cost Rows')\n",
        "plt.show()\n",
        "\n"
      ]
    },
    {
      "cell_type": "markdown",
      "id": "7614e2b8",
      "metadata": {
        "id": "7614e2b8"
      },
      "source": [
        "## Feel free to investigate other features"
      ]
    },
    {
      "cell_type": "code",
      "execution_count": null,
      "id": "8a837b33",
      "metadata": {
        "id": "8a837b33"
      },
      "outputs": [],
      "source": []
    },
    {
      "cell_type": "markdown",
      "id": "58134d33",
      "metadata": {
        "id": "58134d33"
      },
      "source": [
        "# Build Machine Learning pipeline"
      ]
    },
    {
      "cell_type": "markdown",
      "id": "dcb661ae",
      "metadata": {
        "id": "dcb661ae"
      },
      "source": [
        "- What are the proper performance metrics for this task?\n",
        "- Compare cross-validation performance of 5 ML models\n",
        "- Compute models' performance on test set\n",
        "- Analyse the generalizability of the model by comparing its performance on train and test sets\n",
        "- Comment on whether the resulting model is \"good\" or \"bad\" from business point of view"
      ]
    },
    {
      "cell_type": "markdown",
      "id": "cb798665",
      "metadata": {
        "id": "cb798665"
      },
      "source": [
        "## Question 11. What are the proper performance metrics for this task?\n"
      ]
    },
    {
      "cell_type": "code",
      "execution_count": null,
      "id": "fe30bc3f",
      "metadata": {
        "id": "fe30bc3f"
      },
      "outputs": [],
      "source": [
        "#MAE\n",
        "#RMSLE"
      ]
    },
    {
      "cell_type": "markdown",
      "id": "81ffa93c",
      "metadata": {
        "id": "81ffa93c"
      },
      "source": [
        "## Split your data into Train and Test subsets using `train_test_split`, use 70% to 30% ratio for train and test.\n",
        "\n",
        "## Question 12.  How many observations are in your `train` set?\n"
      ]
    },
    {
      "cell_type": "code",
      "execution_count": null,
      "id": "fe248c1f",
      "metadata": {
        "id": "fe248c1f"
      },
      "outputs": [],
      "source": [
        "from sklearn.model_selection import train_test_split\n",
        "\n",
        "train_df, test_df = train_test_split(df, test_size=0.3, random_state=42)\n"
      ]
    },
    {
      "cell_type": "code",
      "execution_count": null,
      "id": "2c63dd6c",
      "metadata": {
        "id": "2c63dd6c",
        "colab": {
          "base_uri": "https://localhost:8080/"
        },
        "outputId": "abd484ea-2e8c-4710-b19c-af6a2c8919a7"
      },
      "outputs": [
        {
          "output_type": "execute_result",
          "data": {
            "text/plain": [
              "35954"
            ]
          },
          "metadata": {},
          "execution_count": 187
        }
      ],
      "source": [
        "train_df.shape[0]\n"
      ]
    },
    {
      "cell_type": "markdown",
      "id": "ba0a2d32",
      "metadata": {
        "id": "ba0a2d32"
      },
      "source": [
        "## We will compare the performance of 5 ML models:\n",
        "\n",
        "1. Linear Regression\n",
        "2. Decision Tree\n",
        "3. Random Forest\n",
        "4. KNN\n",
        "5. Gradient Boosting"
      ]
    },
    {
      "cell_type": "code",
      "execution_count": null,
      "id": "f72c7877",
      "metadata": {
        "id": "f72c7877",
        "colab": {
          "base_uri": "https://localhost:8080/"
        },
        "outputId": "f1df5555-19d8-4175-ab6a-5130d9ba3c59"
      },
      "outputs": [
        {
          "output_type": "stream",
          "name": "stdout",
          "text": [
            "Linear Regression: 25.717956 (0.117060)\n",
            "Decision Tree: 32.281890 (0.310946)\n",
            "Random Forest: 25.484038 (0.092655)\n",
            "KNN: 26.685742 (0.092906)\n",
            "Gradient Boosting: 25.197002 (0.102915)\n"
          ]
        }
      ],
      "source": [
        "from sklearn.model_selection import cross_val_score\n",
        "from sklearn.linear_model import LinearRegression\n",
        "from sklearn.tree import DecisionTreeRegressor\n",
        "from sklearn.ensemble import RandomForestRegressor, GradientBoostingRegressor\n",
        "from sklearn.neighbors import KNeighborsRegressor\n",
        "\n",
        "X = df.drop('cost', axis=1)\n",
        "y = df['cost']\n",
        "\n",
        "\n",
        "models = [\n",
        "    ('Linear Regression', LinearRegression()),\n",
        "    ('Decision Tree', DecisionTreeRegressor()),\n",
        "    ('Random Forest', RandomForestRegressor()),\n",
        "    ('KNN', KNeighborsRegressor()),\n",
        "    ('Gradient Boosting', GradientBoostingRegressor())\n",
        "]\n",
        "\n",
        "# evaluate each model using cross-validation\n",
        "results = []\n",
        "for name, model in models:\n",
        "    cv_scores = cross_val_score(model, X, y, cv=5, scoring='neg_mean_absolute_error')\n",
        "    results.append((name, cv_scores.mean(), cv_scores.std()))\n",
        "\n",
        "\n",
        "for name, mean_score, std_score in results:\n",
        "    print('%s: %f (%f)' % (name, -mean_score, std_score))"
      ]
    },
    {
      "cell_type": "markdown",
      "id": "9751277c",
      "metadata": {
        "id": "9751277c"
      },
      "source": [
        "## Question 13. Which of the models require feature standartization?\n"
      ]
    },
    {
      "cell_type": "code",
      "execution_count": null,
      "id": "c911b094",
      "metadata": {
        "id": "c911b094",
        "colab": {
          "base_uri": "https://localhost:8080/"
        },
        "outputId": "c7fc9656-8ca0-4ca5-8906-ab2c61c565f9"
      },
      "outputs": [
        {
          "output_type": "stream",
          "name": "stdout",
          "text": [
            "RMSE: 29.803645352519176\n"
          ]
        }
      ],
      "source": [
        "from sklearn.preprocessing import StandardScaler\n",
        "from sklearn.linear_model import LinearRegression\n",
        "from sklearn.metrics import mean_squared_error\n",
        "from sklearn.model_selection import train_test_split\n",
        "X = df.drop(['cost'], axis=1)\n",
        "y = df['cost']\n",
        "\n",
        "X_train, X_test, y_train, y_test = train_test_split(X, y, test_size=0.3, random_state=42)\n",
        "\n",
        "scaler = StandardScaler()\n",
        "X_train_std = scaler.fit_transform(X_train)\n",
        "X_test_std = scaler.transform(X_test)\n",
        "\n",
        "linreg = LinearRegression()\n",
        "linreg.fit(X_train_std, y_train)\n",
        "\n",
        "y_pred = linreg.predict(X_test_std)\n",
        "\n",
        "# Calculate the RMSE\n",
        "rmse = mean_squared_error(y_test, y_pred, squared=False)\n",
        "print(\"RMSE:\", rmse)"
      ]
    },
    {
      "cell_type": "markdown",
      "id": "11a26388",
      "metadata": {
        "id": "11a26388"
      },
      "source": [
        "## We will use `GridSearchCV` method to run 5 fold cross-validation and select models' hyperparameters\n",
        "\n",
        "see example below (on Iris dataset)\n",
        "\n",
        "https://scikit-learn.org/stable/modules/generated/sklearn.model_selection.GridSearchCV.html"
      ]
    },
    {
      "cell_type": "code",
      "execution_count": null,
      "id": "daec05ee",
      "metadata": {
        "id": "daec05ee",
        "colab": {
          "base_uri": "https://localhost:8080/"
        },
        "outputId": "aa95d1dd-d0a1-426f-a0ec-bad96adae7cb"
      },
      "outputs": [
        {
          "output_type": "stream",
          "name": "stdout",
          "text": [
            "0.9800000000000001\n"
          ]
        }
      ],
      "source": [
        "from sklearn import svm, datasets\n",
        "from sklearn.model_selection import GridSearchCV\n",
        "\n",
        "iris = datasets.load_iris()\n",
        "\n",
        "parameters = {'kernel':('linear', 'rbf'), 'C':[1, 10]}\n",
        "\n",
        "svc = svm.SVC()\n",
        "clf = GridSearchCV(svc, parameters, cv=5, scoring='accuracy', refit=True)\n",
        "clf.fit(iris.data, iris.target)\n",
        "print(clf.best_score_)"
      ]
    },
    {
      "cell_type": "code",
      "execution_count": null,
      "id": "ecb22821",
      "metadata": {
        "id": "ecb22821"
      },
      "outputs": [],
      "source": []
    },
    {
      "cell_type": "markdown",
      "id": "0a673d5a",
      "metadata": {
        "id": "0a673d5a"
      },
      "source": [
        "## Explore hyperparameters of different ML models\n",
        "\n",
        "## Question 14. What does `fit_intercept` parameter responcible for in Linear Regression?\n"
      ]
    },
    {
      "cell_type": "code",
      "execution_count": null,
      "id": "9db10dc3",
      "metadata": {
        "id": "9db10dc3"
      },
      "outputs": [],
      "source": [
        "from sklearn.linear_model import LinearRegression\n",
        "from sklearn.model_selection import GridSearchCV\n",
        "from sklearn.metrics import mean_squared_error\n",
        "from sklearn.metrics import mean_absolute_error"
      ]
    },
    {
      "cell_type": "code",
      "execution_count": null,
      "id": "e3a146b9",
      "metadata": {
        "id": "e3a146b9",
        "colab": {
          "base_uri": "https://localhost:8080/"
        },
        "outputId": "b12d8639-2591-4540-b95d-b4eb95db29f8"
      },
      "outputs": [
        {
          "output_type": "stream",
          "name": "stdout",
          "text": [
            "Best parameters for fit_intercept=True: {'fit_intercept': True}\n",
            "RMSE score for fit_intercept=True: 29.801181443572737\n",
            "Best parameters for fit_intercept=False: {'fit_intercept': False}\n",
            "RMSE score for fit_intercept=False: 103.67290435071584\n"
          ]
        }
      ],
      "source": [
        "\n",
        "from sklearn.preprocessing import StandardScaler\n",
        "scaler = StandardScaler()\n",
        "X_std = scaler.fit_transform(X_train)\n",
        "param_grid = {'fit_intercept': [True, False]}\n",
        "\n",
        "lr = LinearRegression()\n",
        "\n",
        "grid = GridSearchCV(lr, param_grid, scoring='neg_root_mean_squared_error', cv=5)\n",
        "\n",
        "grid.fit(X_std, y_train)\n",
        "print(\"Best parameters for fit_intercept=True: {}\".format(grid.cv_results_['params'][grid.best_index_]))\n",
        "print(\"RMSE score for fit_intercept=True: {}\".format(-grid.best_score_))\n",
        "print(\"Best parameters for fit_intercept=False: {}\".format(grid.cv_results_['params'][1-grid.best_index_]))\n",
        "print(\"RMSE score for fit_intercept=False: {}\".format(-grid.cv_results_['mean_test_score'][1-grid.best_index_]))\n"
      ]
    },
    {
      "cell_type": "markdown",
      "id": "c9dcafbc",
      "metadata": {
        "id": "c9dcafbc"
      },
      "source": [
        "Train Linear Regression model using GridSearchCV, compare models with `fit_intercept=True` and `fit_intercept=False`"
      ]
    },
    {
      "cell_type": "markdown",
      "id": "7f5ee109",
      "metadata": {
        "id": "7f5ee109"
      },
      "source": [
        "## Question 15. What does `max_depth` and `min_samples_split` responcible for in Decision Tree Regressor?\n"
      ]
    },
    {
      "cell_type": "code",
      "execution_count": null,
      "id": "e501897b",
      "metadata": {
        "id": "e501897b"
      },
      "outputs": [],
      "source": [
        "from sklearn.tree import DecisionTreeRegressor\n",
        "from sklearn.metrics import mean_squared_error\n",
        "from sklearn.model_selection import GridSearchCV"
      ]
    },
    {
      "cell_type": "code",
      "execution_count": null,
      "id": "369142e8",
      "metadata": {
        "id": "369142e8",
        "colab": {
          "base_uri": "https://localhost:8080/"
        },
        "outputId": "2916480d-82a1-43c2-9f64-c4536e691dbd"
      },
      "outputs": [
        {
          "output_type": "stream",
          "name": "stdout",
          "text": [
            "Best parameters: {'max_depth': 4, 'min_samples_split': 2}\n",
            "RMSE score: 29.271764325622563\n"
          ]
        }
      ],
      "source": [
        "\n",
        "dt_reg = DecisionTreeRegressor(random_state=42)\n",
        "param_grid = {'max_depth': [2, 4, 6, 8, 10],\n",
        "              'min_samples_split': [2, 4, 6, 8, 10]}\n",
        "\n",
        "grid_search = GridSearchCV(dt_reg, param_grid, cv=5, scoring='neg_root_mean_squared_error')\n",
        "grid_search.fit(X_train, y_train)\n",
        "\n",
        "print(\"Best parameters:\", grid_search.best_params_)\n",
        "print(\"RMSE score:\", -grid_search.best_score_)\n"
      ]
    },
    {
      "cell_type": "markdown",
      "id": "414512a5",
      "metadata": {
        "id": "414512a5"
      },
      "source": [
        "Train Decision Tree Regressor model using GridSearchCV, ask ChatGPT for reasonable set of hyperparameters (`max_depth` and `min_samples_split`) values for search."
      ]
    },
    {
      "cell_type": "markdown",
      "id": "8c8d8055",
      "metadata": {
        "id": "8c8d8055"
      },
      "source": [
        "## Question 16. What does `n_estimators` and `max_depth` responcible for in Random Forest Regressor?\n"
      ]
    },
    {
      "cell_type": "code",
      "execution_count": null,
      "id": "fe8c73e8",
      "metadata": {
        "id": "fe8c73e8"
      },
      "outputs": [],
      "source": [
        "from sklearn.ensemble import RandomForestRegressor"
      ]
    },
    {
      "cell_type": "code",
      "execution_count": null,
      "id": "fc4cec91",
      "metadata": {
        "id": "fc4cec91",
        "colab": {
          "base_uri": "https://localhost:8080/"
        },
        "outputId": "8a0178e9-ecf4-4709-84d5-72a518535440"
      },
      "outputs": [
        {
          "output_type": "stream",
          "name": "stdout",
          "text": [
            "Best parameters: {'max_depth': 8, 'n_estimators': 300}\n",
            "RMSE score: -0.05689363549711257\n"
          ]
        }
      ],
      "source": [
        "param_grid = {\n",
        "    'max_depth': [4, 6, 8, 10],\n",
        "    'n_estimators': [100, 200, 300, 400]\n",
        "}\n",
        "\n",
        "\n",
        "rf_model = RandomForestRegressor()\n",
        "\n",
        "rf_cv = GridSearchCV(rf_model, param_grid, cv=5, n_jobs=-1)\n",
        "rf_cv.fit(X_train, y_train)\n",
        "\n",
        "print(\"Best parameters:\", rf_cv.best_params_)\n",
        "print(\"RMSE score:\", -rf_cv.best_score_)\n"
      ]
    },
    {
      "cell_type": "markdown",
      "id": "2dc574ea",
      "metadata": {
        "id": "2dc574ea"
      },
      "source": [
        "Train Random Forest Regressor model using GridSearchCV, ask ChatGPT for reasonable set of hyperparameters (`max_depth` and `n_estimators`) values for search.\n"
      ]
    },
    {
      "cell_type": "markdown",
      "id": "ec7b119f",
      "metadata": {
        "id": "ec7b119f"
      },
      "source": [
        "## Question 17. What does `n_neighbors` responcible for in K Neighbors Regressor?\n"
      ]
    },
    {
      "cell_type": "code",
      "execution_count": null,
      "id": "3e1b7ba9",
      "metadata": {
        "id": "3e1b7ba9"
      },
      "outputs": [],
      "source": [
        "from sklearn.neighbors import KNeighborsRegressor"
      ]
    },
    {
      "cell_type": "code",
      "execution_count": null,
      "id": "b8ec6039",
      "metadata": {
        "id": "b8ec6039",
        "colab": {
          "base_uri": "https://localhost:8080/"
        },
        "outputId": "ef1cbeca-3b21-4571-c68a-75283f75dcda"
      },
      "outputs": [
        {
          "output_type": "stream",
          "name": "stdout",
          "text": [
            "Best parameters: {'n_neighbors': 11}\n",
            "RMSE score: 30.668827852707743\n"
          ]
        }
      ],
      "source": [
        "scaler = StandardScaler()\n",
        "X_train_scaled = scaler.fit_transform(X_train)\n",
        "\n",
        "knn = KNeighborsRegressor()\n",
        "\n",
        "param_grid = {'n_neighbors': [3, 5, 7, 9, 11]}\n",
        "\n",
        "grid = GridSearchCV(knn, param_grid, cv=5, scoring='neg_root_mean_squared_error')\n",
        "\n",
        "grid.fit(X_train_scaled, y_train)\n",
        "print(\"Best parameters:\", grid.best_params_)\n",
        "print(\"RMSE score:\", -grid.best_score_)\n"
      ]
    },
    {
      "cell_type": "markdown",
      "id": "24818de3",
      "metadata": {
        "id": "24818de3"
      },
      "source": [
        "Train KNeighborsRegressor model using GridSearchCV, ask ChatGPT for reasonable set of hyperparameter `n_neighbors` values for search."
      ]
    },
    {
      "cell_type": "markdown",
      "id": "9b0be221",
      "metadata": {
        "id": "9b0be221"
      },
      "source": [
        "## Question 18. How `n_neighbors` affects KNN performance?\n"
      ]
    },
    {
      "cell_type": "code",
      "execution_count": null,
      "id": "8c09f25d",
      "metadata": {
        "id": "8c09f25d"
      },
      "outputs": [],
      "source": [
        "#it seems like the best n_neighbors value for our dataset dataset is 11,\n",
        "#indicating that a slightly smoother model with more bias is preferred over a more complex model with higher variance."
      ]
    },
    {
      "cell_type": "markdown",
      "id": "ec3369f0",
      "metadata": {
        "id": "ec3369f0"
      },
      "source": [
        "## Question 19. How `learning_rate` and `n_estimators` affect Gradient Boosting Regressor performance?\n"
      ]
    },
    {
      "cell_type": "code",
      "execution_count": null,
      "id": "cadda585",
      "metadata": {
        "id": "cadda585"
      },
      "outputs": [],
      "source": [
        "from sklearn.ensemble import GradientBoostingRegressor"
      ]
    },
    {
      "cell_type": "code",
      "execution_count": null,
      "id": "adcec8f1",
      "metadata": {
        "id": "adcec8f1",
        "colab": {
          "base_uri": "https://localhost:8080/"
        },
        "outputId": "fa5ff662-7ed0-4a22-f849-3089dfd5fae0"
      },
      "outputs": [
        {
          "output_type": "stream",
          "name": "stdout",
          "text": [
            "Best parameters: {'learning_rate': 0.01, 'max_depth': 6, 'n_estimators': 300}\n",
            "RMSE score: 29.16200269464224\n"
          ]
        }
      ],
      "source": [
        "\n",
        "gb = GradientBoostingRegressor()\n",
        "param_grid = {\n",
        "    'learning_rate': [0.01, 0.1, 1],\n",
        "    'n_estimators': [100, 300, 500],\n",
        "    'max_depth': [2, 4, 6]\n",
        "}\n",
        "\n",
        "gb_cv = GridSearchCV(gb, param_grid, cv=5, scoring='neg_root_mean_squared_error')\n",
        "\n",
        "gb_cv.fit(X_train_scaled, y_train)\n",
        "\n",
        "print(\"Best parameters:\", gb_cv.best_params_)\n",
        "print(\"RMSE score:\", np.abs(gb_cv.best_score_))\n"
      ]
    },
    {
      "cell_type": "markdown",
      "id": "1cd16302",
      "metadata": {
        "id": "1cd16302"
      },
      "source": [
        "Train Gradient Boosting Regressor model using GridSearchCV, ask ChatGPT for reasonable set of hyperparameters `learning_rate`, `n_estimators` and `max_depth` values for search."
      ]
    },
    {
      "cell_type": "markdown",
      "id": "13dfc8cf",
      "metadata": {
        "id": "13dfc8cf"
      },
      "source": [
        "## Question 20. Test 5 ML models performance on Test set, which model perform the best?\n",
        "\n",
        "\n",
        "- Linear Regression\n",
        "- Decision Tree\n",
        "- Random Forest\n",
        "- KNN\n",
        "- Gradient Boosting\n"
      ]
    },
    {
      "cell_type": "code",
      "execution_count": null,
      "id": "c61441f7",
      "metadata": {
        "id": "c61441f7",
        "colab": {
          "base_uri": "https://localhost:8080/"
        },
        "outputId": "1289049a-a8c0-45a8-b426-d48359c967e4"
      },
      "outputs": [
        {
          "output_type": "stream",
          "name": "stdout",
          "text": [
            "MSE for each model:\n",
            "Linear Regression: 888.2806858505791\n",
            "Decision Tree: 853.5663737967583\n",
            "Random Forest: 848.2006675982142\n",
            "KNN: 943.6634888739487\n",
            "Gradient Boosting: 850.1359479740742\n",
            "\n",
            "MAE for each model:\n",
            "Linear Regression: 25.78153286551498\n",
            "Decision Tree: 25.270534715848264\n",
            "Random Forest: 25.214544443558587\n",
            "KNN: 26.26111534581325\n",
            "Gradient Boosting: 25.24940603414461\n"
          ]
        }
      ],
      "source": [
        "# Fit each model on the training data with the optimal hyperparameters obtained above\n",
        "linreg = LinearRegression().fit(X_train_scaled, y_train)\n",
        "dt = DecisionTreeRegressor(max_depth=6, min_samples_split=10, min_samples_leaf=10).fit(X_train_scaled, y_train)\n",
        "rf = RandomForestRegressor(max_depth=8, n_estimators=300).fit(X_train_scaled, y_train)\n",
        "knn = KNeighborsRegressor(n_neighbors=11).fit(X_train_scaled, y_train)\n",
        "gb = GradientBoostingRegressor(learning_rate=0.01, max_depth=6, n_estimators=300).fit(X_train_scaled, y_train)\n",
        "\n",
        "\n",
        "X_test_scaled = scaler.fit_transform(X_test)\n",
        "# Make predictions on the test set\n",
        "y_pred_linreg = linreg.predict(X_test_scaled)\n",
        "y_pred_dt = dt.predict(X_test_scaled)\n",
        "y_pred_rf = rf.predict(X_test_scaled)\n",
        "y_pred_knn = knn.predict(X_test_scaled)\n",
        "y_pred_gb = gb.predict(X_test_scaled)\n",
        "\n",
        "# Calculate the MSE and MAE for each model\n",
        "mse_linreg = mean_squared_error(y_test, y_pred_linreg)\n",
        "mae_linreg = mean_absolute_error(y_test, y_pred_linreg)\n",
        "\n",
        "mse_dt = mean_squared_error(y_test, y_pred_dt)\n",
        "mae_dt = mean_absolute_error(y_test, y_pred_dt)\n",
        "\n",
        "mse_rf = mean_squared_error(y_test, y_pred_rf)\n",
        "mae_rf = mean_absolute_error(y_test, y_pred_rf)\n",
        "\n",
        "mse_knn = mean_squared_error(y_test, y_pred_knn)\n",
        "mae_knn = mean_absolute_error(y_test, y_pred_knn)\n",
        "\n",
        "mse_gb = mean_squared_error(y_test, y_pred_gb)\n",
        "mae_gb = mean_absolute_error(y_test, y_pred_gb)\n",
        "\n",
        "print(\"MSE for each model:\")\n",
        "print(\"Linear Regression:\", mse_linreg)\n",
        "print(\"Decision Tree:\", mse_dt)\n",
        "print(\"Random Forest:\", mse_rf)\n",
        "print(\"KNN:\", mse_knn)\n",
        "print(\"Gradient Boosting:\", mse_gb)\n",
        "\n",
        "print(\"\\nMAE for each model:\")\n",
        "print(\"Linear Regression:\", mae_linreg)\n",
        "print(\"Decision Tree:\", mae_dt)\n",
        "print(\"Random Forest:\", mae_rf)\n",
        "print(\"KNN:\", mae_knn)\n",
        "print(\"Gradient Boosting:\", mae_gb)\n"
      ]
    },
    {
      "cell_type": "markdown",
      "id": "00006ff5",
      "metadata": {
        "id": "00006ff5"
      },
      "source": [
        "## Question 21. What is the `MAE` of the best perfroming model? (report `MAE` with 2 decimal places)"
      ]
    },
    {
      "cell_type": "code",
      "execution_count": null,
      "id": "90738cb5",
      "metadata": {
        "id": "90738cb5"
      },
      "outputs": [],
      "source": [
        "#The best performing model in terms of MAE is Random Forest, with a value of 25.21."
      ]
    },
    {
      "cell_type": "markdown",
      "id": "996f6291",
      "metadata": {
        "id": "996f6291"
      },
      "source": [
        "## Question 22. Comment on whether the resulting model is \"good\" or \"bad\" from business point of view, given that the mean cost is 99$"
      ]
    },
    {
      "cell_type": "code",
      "execution_count": null,
      "id": "07c10851",
      "metadata": {
        "id": "07c10851"
      },
      "outputs": [],
      "source": []
    },
    {
      "cell_type": "markdown",
      "source": [
        "Based on the results obtained, the best performing model is Random Forest with an MSE of 848.20 and an MAE of 25.21. From a business point of view, this model can be considered good as the average cost in the dataset is 99$$.\n",
        "The mean absolute error of 25.21 means that the model's predictions are expected to deviate by approximately $25 on average from the actual cost. This level of deviation is generally acceptable for most businesses, especially considering the complexity of the problem and the amount of available data."
      ],
      "metadata": {
        "id": "e-vEiMesSNQA"
      },
      "id": "e-vEiMesSNQA"
    },
    {
      "cell_type": "markdown",
      "id": "e6704522",
      "metadata": {
        "id": "e6704522"
      },
      "source": [
        "## Upload your Jupyter Notebook or Orange project."
      ]
    },
    {
      "cell_type": "code",
      "execution_count": null,
      "id": "9277a482",
      "metadata": {
        "id": "9277a482"
      },
      "outputs": [],
      "source": []
    },
    {
      "cell_type": "code",
      "execution_count": null,
      "id": "387028aa",
      "metadata": {
        "id": "387028aa"
      },
      "outputs": [],
      "source": []
    }
  ],
  "metadata": {
    "kernelspec": {
      "display_name": "Python 3 (ipykernel)",
      "language": "python",
      "name": "python3"
    },
    "language_info": {
      "codemirror_mode": {
        "name": "ipython",
        "version": 3
      },
      "file_extension": ".py",
      "mimetype": "text/x-python",
      "name": "python",
      "nbconvert_exporter": "python",
      "pygments_lexer": "ipython3",
      "version": "3.9.13"
    },
    "colab": {
      "provenance": []
    }
  },
  "nbformat": 4,
  "nbformat_minor": 5
}