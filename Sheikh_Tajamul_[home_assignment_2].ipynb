{
  "cells": [
    {
      "cell_type": "markdown",
      "id": "f4dd5721",
      "metadata": {
        "id": "f4dd5721"
      },
      "source": [
        "# Download the data"
      ]
    },
    {
      "cell_type": "code",
      "execution_count": null,
      "id": "60d506ae",
      "metadata": {
        "id": "60d506ae"
      },
      "outputs": [],
      "source": [
        "#https://www.kaggle.com/datasets/sakshigoyal7/credit-card-customers"
      ]
    },
    {
      "cell_type": "code",
      "execution_count": null,
      "id": "8b5c30b1",
      "metadata": {
        "id": "8b5c30b1"
      },
      "outputs": [],
      "source": [
        "# !kaggle datasets download -d sakshigoyal7/credit-card-customers"
      ]
    },
    {
      "cell_type": "code",
      "execution_count": null,
      "id": "92d687c1",
      "metadata": {
        "id": "92d687c1"
      },
      "outputs": [],
      "source": [
        "# ls"
      ]
    },
    {
      "cell_type": "code",
      "execution_count": null,
      "id": "bbef17ac",
      "metadata": {
        "id": "bbef17ac"
      },
      "outputs": [],
      "source": [
        "# !unzip credit-card-customers.zip"
      ]
    },
    {
      "cell_type": "code",
      "execution_count": null,
      "id": "85690076",
      "metadata": {
        "id": "85690076"
      },
      "outputs": [],
      "source": [
        "# ls"
      ]
    },
    {
      "cell_type": "markdown",
      "id": "f09dbf81",
      "metadata": {
        "id": "f09dbf81"
      },
      "source": [
        "# Read the data"
      ]
    },
    {
      "cell_type": "code",
      "execution_count": null,
      "id": "144628f0",
      "metadata": {
        "id": "144628f0"
      },
      "outputs": [],
      "source": [
        "import pandas as pd"
      ]
    },
    {
      "cell_type": "code",
      "execution_count": null,
      "id": "316c60dc",
      "metadata": {
        "id": "316c60dc"
      },
      "outputs": [],
      "source": [
        "import pandas as pd\n",
        "import urllib.request\n",
        "\n",
        "url = 'https://github.com/kurmukovai/ds-for-business/raw/main/home-assignment-2/BankChurners.csv'\n",
        "local_file_path = 'BankChurners.csv'\n",
        "\n",
        "# Download the file\n",
        "urllib.request.urlretrieve(url, local_file_path)\n",
        "\n",
        "# Read the file using pandas\n",
        "df = pd.read_csv(local_file_path)\n",
        "# We will drop two last columns from the table\n",
        "df = df.drop([\n",
        "    'Naive_Bayes_Classifier_Attrition_Flag_Card_Category_Contacts_Count_12_mon_Dependent_count_Education_Level_Months_Inactive_12_mon_1',\n",
        "    'Naive_Bayes_Classifier_Attrition_Flag_Card_Category_Contacts_Count_12_mon_Dependent_count_Education_Level_Months_Inactive_12_mon_2'],\n",
        "    axis=1)"
      ]
    },
    {
      "cell_type": "code",
      "execution_count": null,
      "id": "08732d15",
      "metadata": {
        "id": "08732d15",
        "colab": {
          "base_uri": "https://localhost:8080/",
          "height": 776
        },
        "outputId": "7b61690c-f9ed-4ca5-ab94-ad84bf06ca77"
      },
      "outputs": [
        {
          "output_type": "execute_result",
          "data": {
            "text/plain": [
              "    CLIENTNUM     Attrition_Flag  Customer_Age Gender  Dependent_count  \\\n",
              "0   768805383  Existing Customer            45      M                3   \n",
              "1   818770008  Existing Customer            49      F                5   \n",
              "2   713982108  Existing Customer            51      M                3   \n",
              "3   769911858  Existing Customer            40      F                4   \n",
              "4   709106358  Existing Customer            40      M                3   \n",
              "5   713061558  Existing Customer            44      M                2   \n",
              "6   810347208  Existing Customer            51      M                4   \n",
              "7   818906208  Existing Customer            32      M                0   \n",
              "8   710930508  Existing Customer            37      M                3   \n",
              "9   719661558  Existing Customer            48      M                2   \n",
              "10  708790833  Existing Customer            42      M                5   \n",
              "11  710821833  Existing Customer            65      M                1   \n",
              "12  710599683  Existing Customer            56      M                1   \n",
              "\n",
              "   Education_Level Marital_Status Income_Category Card_Category  \\\n",
              "0      High School        Married     $60K - $80K          Blue   \n",
              "1         Graduate         Single  Less than $40K          Blue   \n",
              "2         Graduate        Married    $80K - $120K          Blue   \n",
              "3      High School        Unknown  Less than $40K          Blue   \n",
              "4       Uneducated        Married     $60K - $80K          Blue   \n",
              "5         Graduate        Married     $40K - $60K          Blue   \n",
              "6          Unknown        Married         $120K +          Gold   \n",
              "7      High School        Unknown     $60K - $80K        Silver   \n",
              "8       Uneducated         Single     $60K - $80K          Blue   \n",
              "9         Graduate         Single    $80K - $120K          Blue   \n",
              "10      Uneducated        Unknown         $120K +          Blue   \n",
              "11         Unknown        Married     $40K - $60K          Blue   \n",
              "12         College         Single    $80K - $120K          Blue   \n",
              "\n",
              "    Months_on_book  ...  Months_Inactive_12_mon  Contacts_Count_12_mon  \\\n",
              "0               39  ...                       1                      3   \n",
              "1               44  ...                       1                      2   \n",
              "2               36  ...                       1                      0   \n",
              "3               34  ...                       4                      1   \n",
              "4               21  ...                       1                      0   \n",
              "5               36  ...                       1                      2   \n",
              "6               46  ...                       1                      3   \n",
              "7               27  ...                       2                      2   \n",
              "8               36  ...                       2                      0   \n",
              "9               36  ...                       3                      3   \n",
              "10              31  ...                       3                      2   \n",
              "11              54  ...                       2                      3   \n",
              "12              36  ...                       6                      0   \n",
              "\n",
              "    Credit_Limit  Total_Revolving_Bal  Avg_Open_To_Buy  Total_Amt_Chng_Q4_Q1  \\\n",
              "0        12691.0                  777          11914.0                 1.335   \n",
              "1         8256.0                  864           7392.0                 1.541   \n",
              "2         3418.0                    0           3418.0                 2.594   \n",
              "3         3313.0                 2517            796.0                 1.405   \n",
              "4         4716.0                    0           4716.0                 2.175   \n",
              "5         4010.0                 1247           2763.0                 1.376   \n",
              "6        34516.0                 2264          32252.0                 1.975   \n",
              "7        29081.0                 1396          27685.0                 2.204   \n",
              "8        22352.0                 2517          19835.0                 3.355   \n",
              "9        11656.0                 1677           9979.0                 1.524   \n",
              "10        6748.0                 1467           5281.0                 0.831   \n",
              "11        9095.0                 1587           7508.0                 1.433   \n",
              "12       11751.0                    0          11751.0                 3.397   \n",
              "\n",
              "    Total_Trans_Amt  Total_Trans_Ct  Total_Ct_Chng_Q4_Q1  \\\n",
              "0              1144              42                1.625   \n",
              "1              1291              33                3.714   \n",
              "2              1887              20                2.333   \n",
              "3              1171              20                2.333   \n",
              "4               816              28                2.500   \n",
              "5              1088              24                0.846   \n",
              "6              1330              31                0.722   \n",
              "7              1538              36                0.714   \n",
              "8              1350              24                1.182   \n",
              "9              1441              32                0.882   \n",
              "10             1201              42                0.680   \n",
              "11             1314              26                1.364   \n",
              "12             1539              17                3.250   \n",
              "\n",
              "    Avg_Utilization_Ratio  \n",
              "0                   0.061  \n",
              "1                   0.105  \n",
              "2                   0.000  \n",
              "3                   0.760  \n",
              "4                   0.000  \n",
              "5                   0.311  \n",
              "6                   0.066  \n",
              "7                   0.048  \n",
              "8                   0.113  \n",
              "9                   0.144  \n",
              "10                  0.217  \n",
              "11                  0.174  \n",
              "12                  0.000  \n",
              "\n",
              "[13 rows x 21 columns]"
            ],
            "text/html": [
              "\n",
              "  <div id=\"df-f51733d6-4fd2-4276-8122-ad4665a9ab87\">\n",
              "    <div class=\"colab-df-container\">\n",
              "      <div>\n",
              "<style scoped>\n",
              "    .dataframe tbody tr th:only-of-type {\n",
              "        vertical-align: middle;\n",
              "    }\n",
              "\n",
              "    .dataframe tbody tr th {\n",
              "        vertical-align: top;\n",
              "    }\n",
              "\n",
              "    .dataframe thead th {\n",
              "        text-align: right;\n",
              "    }\n",
              "</style>\n",
              "<table border=\"1\" class=\"dataframe\">\n",
              "  <thead>\n",
              "    <tr style=\"text-align: right;\">\n",
              "      <th></th>\n",
              "      <th>CLIENTNUM</th>\n",
              "      <th>Attrition_Flag</th>\n",
              "      <th>Customer_Age</th>\n",
              "      <th>Gender</th>\n",
              "      <th>Dependent_count</th>\n",
              "      <th>Education_Level</th>\n",
              "      <th>Marital_Status</th>\n",
              "      <th>Income_Category</th>\n",
              "      <th>Card_Category</th>\n",
              "      <th>Months_on_book</th>\n",
              "      <th>...</th>\n",
              "      <th>Months_Inactive_12_mon</th>\n",
              "      <th>Contacts_Count_12_mon</th>\n",
              "      <th>Credit_Limit</th>\n",
              "      <th>Total_Revolving_Bal</th>\n",
              "      <th>Avg_Open_To_Buy</th>\n",
              "      <th>Total_Amt_Chng_Q4_Q1</th>\n",
              "      <th>Total_Trans_Amt</th>\n",
              "      <th>Total_Trans_Ct</th>\n",
              "      <th>Total_Ct_Chng_Q4_Q1</th>\n",
              "      <th>Avg_Utilization_Ratio</th>\n",
              "    </tr>\n",
              "  </thead>\n",
              "  <tbody>\n",
              "    <tr>\n",
              "      <th>0</th>\n",
              "      <td>768805383</td>\n",
              "      <td>Existing Customer</td>\n",
              "      <td>45</td>\n",
              "      <td>M</td>\n",
              "      <td>3</td>\n",
              "      <td>High School</td>\n",
              "      <td>Married</td>\n",
              "      <td>$60K - $80K</td>\n",
              "      <td>Blue</td>\n",
              "      <td>39</td>\n",
              "      <td>...</td>\n",
              "      <td>1</td>\n",
              "      <td>3</td>\n",
              "      <td>12691.0</td>\n",
              "      <td>777</td>\n",
              "      <td>11914.0</td>\n",
              "      <td>1.335</td>\n",
              "      <td>1144</td>\n",
              "      <td>42</td>\n",
              "      <td>1.625</td>\n",
              "      <td>0.061</td>\n",
              "    </tr>\n",
              "    <tr>\n",
              "      <th>1</th>\n",
              "      <td>818770008</td>\n",
              "      <td>Existing Customer</td>\n",
              "      <td>49</td>\n",
              "      <td>F</td>\n",
              "      <td>5</td>\n",
              "      <td>Graduate</td>\n",
              "      <td>Single</td>\n",
              "      <td>Less than $40K</td>\n",
              "      <td>Blue</td>\n",
              "      <td>44</td>\n",
              "      <td>...</td>\n",
              "      <td>1</td>\n",
              "      <td>2</td>\n",
              "      <td>8256.0</td>\n",
              "      <td>864</td>\n",
              "      <td>7392.0</td>\n",
              "      <td>1.541</td>\n",
              "      <td>1291</td>\n",
              "      <td>33</td>\n",
              "      <td>3.714</td>\n",
              "      <td>0.105</td>\n",
              "    </tr>\n",
              "    <tr>\n",
              "      <th>2</th>\n",
              "      <td>713982108</td>\n",
              "      <td>Existing Customer</td>\n",
              "      <td>51</td>\n",
              "      <td>M</td>\n",
              "      <td>3</td>\n",
              "      <td>Graduate</td>\n",
              "      <td>Married</td>\n",
              "      <td>$80K - $120K</td>\n",
              "      <td>Blue</td>\n",
              "      <td>36</td>\n",
              "      <td>...</td>\n",
              "      <td>1</td>\n",
              "      <td>0</td>\n",
              "      <td>3418.0</td>\n",
              "      <td>0</td>\n",
              "      <td>3418.0</td>\n",
              "      <td>2.594</td>\n",
              "      <td>1887</td>\n",
              "      <td>20</td>\n",
              "      <td>2.333</td>\n",
              "      <td>0.000</td>\n",
              "    </tr>\n",
              "    <tr>\n",
              "      <th>3</th>\n",
              "      <td>769911858</td>\n",
              "      <td>Existing Customer</td>\n",
              "      <td>40</td>\n",
              "      <td>F</td>\n",
              "      <td>4</td>\n",
              "      <td>High School</td>\n",
              "      <td>Unknown</td>\n",
              "      <td>Less than $40K</td>\n",
              "      <td>Blue</td>\n",
              "      <td>34</td>\n",
              "      <td>...</td>\n",
              "      <td>4</td>\n",
              "      <td>1</td>\n",
              "      <td>3313.0</td>\n",
              "      <td>2517</td>\n",
              "      <td>796.0</td>\n",
              "      <td>1.405</td>\n",
              "      <td>1171</td>\n",
              "      <td>20</td>\n",
              "      <td>2.333</td>\n",
              "      <td>0.760</td>\n",
              "    </tr>\n",
              "    <tr>\n",
              "      <th>4</th>\n",
              "      <td>709106358</td>\n",
              "      <td>Existing Customer</td>\n",
              "      <td>40</td>\n",
              "      <td>M</td>\n",
              "      <td>3</td>\n",
              "      <td>Uneducated</td>\n",
              "      <td>Married</td>\n",
              "      <td>$60K - $80K</td>\n",
              "      <td>Blue</td>\n",
              "      <td>21</td>\n",
              "      <td>...</td>\n",
              "      <td>1</td>\n",
              "      <td>0</td>\n",
              "      <td>4716.0</td>\n",
              "      <td>0</td>\n",
              "      <td>4716.0</td>\n",
              "      <td>2.175</td>\n",
              "      <td>816</td>\n",
              "      <td>28</td>\n",
              "      <td>2.500</td>\n",
              "      <td>0.000</td>\n",
              "    </tr>\n",
              "    <tr>\n",
              "      <th>5</th>\n",
              "      <td>713061558</td>\n",
              "      <td>Existing Customer</td>\n",
              "      <td>44</td>\n",
              "      <td>M</td>\n",
              "      <td>2</td>\n",
              "      <td>Graduate</td>\n",
              "      <td>Married</td>\n",
              "      <td>$40K - $60K</td>\n",
              "      <td>Blue</td>\n",
              "      <td>36</td>\n",
              "      <td>...</td>\n",
              "      <td>1</td>\n",
              "      <td>2</td>\n",
              "      <td>4010.0</td>\n",
              "      <td>1247</td>\n",
              "      <td>2763.0</td>\n",
              "      <td>1.376</td>\n",
              "      <td>1088</td>\n",
              "      <td>24</td>\n",
              "      <td>0.846</td>\n",
              "      <td>0.311</td>\n",
              "    </tr>\n",
              "    <tr>\n",
              "      <th>6</th>\n",
              "      <td>810347208</td>\n",
              "      <td>Existing Customer</td>\n",
              "      <td>51</td>\n",
              "      <td>M</td>\n",
              "      <td>4</td>\n",
              "      <td>Unknown</td>\n",
              "      <td>Married</td>\n",
              "      <td>$120K +</td>\n",
              "      <td>Gold</td>\n",
              "      <td>46</td>\n",
              "      <td>...</td>\n",
              "      <td>1</td>\n",
              "      <td>3</td>\n",
              "      <td>34516.0</td>\n",
              "      <td>2264</td>\n",
              "      <td>32252.0</td>\n",
              "      <td>1.975</td>\n",
              "      <td>1330</td>\n",
              "      <td>31</td>\n",
              "      <td>0.722</td>\n",
              "      <td>0.066</td>\n",
              "    </tr>\n",
              "    <tr>\n",
              "      <th>7</th>\n",
              "      <td>818906208</td>\n",
              "      <td>Existing Customer</td>\n",
              "      <td>32</td>\n",
              "      <td>M</td>\n",
              "      <td>0</td>\n",
              "      <td>High School</td>\n",
              "      <td>Unknown</td>\n",
              "      <td>$60K - $80K</td>\n",
              "      <td>Silver</td>\n",
              "      <td>27</td>\n",
              "      <td>...</td>\n",
              "      <td>2</td>\n",
              "      <td>2</td>\n",
              "      <td>29081.0</td>\n",
              "      <td>1396</td>\n",
              "      <td>27685.0</td>\n",
              "      <td>2.204</td>\n",
              "      <td>1538</td>\n",
              "      <td>36</td>\n",
              "      <td>0.714</td>\n",
              "      <td>0.048</td>\n",
              "    </tr>\n",
              "    <tr>\n",
              "      <th>8</th>\n",
              "      <td>710930508</td>\n",
              "      <td>Existing Customer</td>\n",
              "      <td>37</td>\n",
              "      <td>M</td>\n",
              "      <td>3</td>\n",
              "      <td>Uneducated</td>\n",
              "      <td>Single</td>\n",
              "      <td>$60K - $80K</td>\n",
              "      <td>Blue</td>\n",
              "      <td>36</td>\n",
              "      <td>...</td>\n",
              "      <td>2</td>\n",
              "      <td>0</td>\n",
              "      <td>22352.0</td>\n",
              "      <td>2517</td>\n",
              "      <td>19835.0</td>\n",
              "      <td>3.355</td>\n",
              "      <td>1350</td>\n",
              "      <td>24</td>\n",
              "      <td>1.182</td>\n",
              "      <td>0.113</td>\n",
              "    </tr>\n",
              "    <tr>\n",
              "      <th>9</th>\n",
              "      <td>719661558</td>\n",
              "      <td>Existing Customer</td>\n",
              "      <td>48</td>\n",
              "      <td>M</td>\n",
              "      <td>2</td>\n",
              "      <td>Graduate</td>\n",
              "      <td>Single</td>\n",
              "      <td>$80K - $120K</td>\n",
              "      <td>Blue</td>\n",
              "      <td>36</td>\n",
              "      <td>...</td>\n",
              "      <td>3</td>\n",
              "      <td>3</td>\n",
              "      <td>11656.0</td>\n",
              "      <td>1677</td>\n",
              "      <td>9979.0</td>\n",
              "      <td>1.524</td>\n",
              "      <td>1441</td>\n",
              "      <td>32</td>\n",
              "      <td>0.882</td>\n",
              "      <td>0.144</td>\n",
              "    </tr>\n",
              "    <tr>\n",
              "      <th>10</th>\n",
              "      <td>708790833</td>\n",
              "      <td>Existing Customer</td>\n",
              "      <td>42</td>\n",
              "      <td>M</td>\n",
              "      <td>5</td>\n",
              "      <td>Uneducated</td>\n",
              "      <td>Unknown</td>\n",
              "      <td>$120K +</td>\n",
              "      <td>Blue</td>\n",
              "      <td>31</td>\n",
              "      <td>...</td>\n",
              "      <td>3</td>\n",
              "      <td>2</td>\n",
              "      <td>6748.0</td>\n",
              "      <td>1467</td>\n",
              "      <td>5281.0</td>\n",
              "      <td>0.831</td>\n",
              "      <td>1201</td>\n",
              "      <td>42</td>\n",
              "      <td>0.680</td>\n",
              "      <td>0.217</td>\n",
              "    </tr>\n",
              "    <tr>\n",
              "      <th>11</th>\n",
              "      <td>710821833</td>\n",
              "      <td>Existing Customer</td>\n",
              "      <td>65</td>\n",
              "      <td>M</td>\n",
              "      <td>1</td>\n",
              "      <td>Unknown</td>\n",
              "      <td>Married</td>\n",
              "      <td>$40K - $60K</td>\n",
              "      <td>Blue</td>\n",
              "      <td>54</td>\n",
              "      <td>...</td>\n",
              "      <td>2</td>\n",
              "      <td>3</td>\n",
              "      <td>9095.0</td>\n",
              "      <td>1587</td>\n",
              "      <td>7508.0</td>\n",
              "      <td>1.433</td>\n",
              "      <td>1314</td>\n",
              "      <td>26</td>\n",
              "      <td>1.364</td>\n",
              "      <td>0.174</td>\n",
              "    </tr>\n",
              "    <tr>\n",
              "      <th>12</th>\n",
              "      <td>710599683</td>\n",
              "      <td>Existing Customer</td>\n",
              "      <td>56</td>\n",
              "      <td>M</td>\n",
              "      <td>1</td>\n",
              "      <td>College</td>\n",
              "      <td>Single</td>\n",
              "      <td>$80K - $120K</td>\n",
              "      <td>Blue</td>\n",
              "      <td>36</td>\n",
              "      <td>...</td>\n",
              "      <td>6</td>\n",
              "      <td>0</td>\n",
              "      <td>11751.0</td>\n",
              "      <td>0</td>\n",
              "      <td>11751.0</td>\n",
              "      <td>3.397</td>\n",
              "      <td>1539</td>\n",
              "      <td>17</td>\n",
              "      <td>3.250</td>\n",
              "      <td>0.000</td>\n",
              "    </tr>\n",
              "  </tbody>\n",
              "</table>\n",
              "<p>13 rows × 21 columns</p>\n",
              "</div>\n",
              "      <button class=\"colab-df-convert\" onclick=\"convertToInteractive('df-f51733d6-4fd2-4276-8122-ad4665a9ab87')\"\n",
              "              title=\"Convert this dataframe to an interactive table.\"\n",
              "              style=\"display:none;\">\n",
              "        \n",
              "  <svg xmlns=\"http://www.w3.org/2000/svg\" height=\"24px\"viewBox=\"0 0 24 24\"\n",
              "       width=\"24px\">\n",
              "    <path d=\"M0 0h24v24H0V0z\" fill=\"none\"/>\n",
              "    <path d=\"M18.56 5.44l.94 2.06.94-2.06 2.06-.94-2.06-.94-.94-2.06-.94 2.06-2.06.94zm-11 1L8.5 8.5l.94-2.06 2.06-.94-2.06-.94L8.5 2.5l-.94 2.06-2.06.94zm10 10l.94 2.06.94-2.06 2.06-.94-2.06-.94-.94-2.06-.94 2.06-2.06.94z\"/><path d=\"M17.41 7.96l-1.37-1.37c-.4-.4-.92-.59-1.43-.59-.52 0-1.04.2-1.43.59L10.3 9.45l-7.72 7.72c-.78.78-.78 2.05 0 2.83L4 21.41c.39.39.9.59 1.41.59.51 0 1.02-.2 1.41-.59l7.78-7.78 2.81-2.81c.8-.78.8-2.07 0-2.86zM5.41 20L4 18.59l7.72-7.72 1.47 1.35L5.41 20z\"/>\n",
              "  </svg>\n",
              "      </button>\n",
              "      \n",
              "  <style>\n",
              "    .colab-df-container {\n",
              "      display:flex;\n",
              "      flex-wrap:wrap;\n",
              "      gap: 12px;\n",
              "    }\n",
              "\n",
              "    .colab-df-convert {\n",
              "      background-color: #E8F0FE;\n",
              "      border: none;\n",
              "      border-radius: 50%;\n",
              "      cursor: pointer;\n",
              "      display: none;\n",
              "      fill: #1967D2;\n",
              "      height: 32px;\n",
              "      padding: 0 0 0 0;\n",
              "      width: 32px;\n",
              "    }\n",
              "\n",
              "    .colab-df-convert:hover {\n",
              "      background-color: #E2EBFA;\n",
              "      box-shadow: 0px 1px 2px rgba(60, 64, 67, 0.3), 0px 1px 3px 1px rgba(60, 64, 67, 0.15);\n",
              "      fill: #174EA6;\n",
              "    }\n",
              "\n",
              "    [theme=dark] .colab-df-convert {\n",
              "      background-color: #3B4455;\n",
              "      fill: #D2E3FC;\n",
              "    }\n",
              "\n",
              "    [theme=dark] .colab-df-convert:hover {\n",
              "      background-color: #434B5C;\n",
              "      box-shadow: 0px 1px 3px 1px rgba(0, 0, 0, 0.15);\n",
              "      filter: drop-shadow(0px 1px 2px rgba(0, 0, 0, 0.3));\n",
              "      fill: #FFFFFF;\n",
              "    }\n",
              "  </style>\n",
              "\n",
              "      <script>\n",
              "        const buttonEl =\n",
              "          document.querySelector('#df-f51733d6-4fd2-4276-8122-ad4665a9ab87 button.colab-df-convert');\n",
              "        buttonEl.style.display =\n",
              "          google.colab.kernel.accessAllowed ? 'block' : 'none';\n",
              "\n",
              "        async function convertToInteractive(key) {\n",
              "          const element = document.querySelector('#df-f51733d6-4fd2-4276-8122-ad4665a9ab87');\n",
              "          const dataTable =\n",
              "            await google.colab.kernel.invokeFunction('convertToInteractive',\n",
              "                                                     [key], {});\n",
              "          if (!dataTable) return;\n",
              "\n",
              "          const docLinkHtml = 'Like what you see? Visit the ' +\n",
              "            '<a target=\"_blank\" href=https://colab.research.google.com/notebooks/data_table.ipynb>data table notebook</a>'\n",
              "            + ' to learn more about interactive tables.';\n",
              "          element.innerHTML = '';\n",
              "          dataTable['output_type'] = 'display_data';\n",
              "          await google.colab.output.renderOutput(dataTable, element);\n",
              "          const docLink = document.createElement('div');\n",
              "          docLink.innerHTML = docLinkHtml;\n",
              "          element.appendChild(docLink);\n",
              "        }\n",
              "      </script>\n",
              "    </div>\n",
              "  </div>\n",
              "  "
            ]
          },
          "metadata": {},
          "execution_count": 8
        }
      ],
      "source": [
        "df.head(13)"
      ]
    },
    {
      "cell_type": "markdown",
      "id": "a5ab9bbc",
      "metadata": {
        "id": "a5ab9bbc"
      },
      "source": [
        "# Columns description\n",
        "\n",
        "- CLIENTNUM - Client number. Unique identifier for the customer holding the account\n",
        "- Attrition_Flag - Internal event (customer activity) variable, Existing Customer or Attrited Customer\n",
        "- Customer_Age - Demographic variable - Customer's Age in Years\n",
        "- Gender - Demographic variable - M=Male, F=Female\n",
        "- Dependent_count - Demographic variable - Number of dependents\n",
        "- Education_Level - Demographic variable - Educational Qualification of the account holder (example: high school, college graduate, etc.)\n",
        "- Marital_Status - Demographic variable - Married, Single, Divorced, Unknown\n",
        "- Income_Category - Demographic variable - Annual Income Category of the account holder (< $40K, $40K - 60K, $60K - $80K, $80K-$120K, >\n",
        "- Card_Category - Product Variable - Type of Card (Blue, Silver, Gold, Platinum)\n",
        "- Months_on_book - Period of relationship with bank\n",
        "- Total_Relationship_Count - Total no. of products held by the customer\n",
        "- Months_Inactive_12_mon - No. of months inactive in the last 12 months\n",
        "- Contacts_Count_12_mon - No. of Contacts in the last 12 months\n",
        "- Credit_Limit - Credit Limit on the Credit Card\n",
        "- Total_Revolving_Bal - Total Revolving Balance on the Credit Card\n",
        "- Avg_Open_To_Buy - Open to Buy Credit Line (Average of last 12 months)\n",
        "- Total_Amt_Chng_Q4_Q1 - Change in Transaction Amount (Q4 over Q1)\n",
        "- Total_Trans_Amt - Total Transaction Amount (Last 12 months)\n",
        "- Total_Trans_Ct - Total Transaction Count (Last 12 months)\n",
        "- Total_Ct_Chng_Q4_Q1 - Change in Transaction Count (Q4 over Q1)\n",
        "- Avg_Utilization_Ratio - Average Card Utilization Ratio\n",
        "\n",
        "Your goal is to predict whether the client will churn or not."
      ]
    },
    {
      "cell_type": "code",
      "execution_count": null,
      "id": "36279dd6",
      "metadata": {
        "id": "36279dd6"
      },
      "outputs": [],
      "source": []
    },
    {
      "cell_type": "markdown",
      "id": "1fb23b1d",
      "metadata": {
        "id": "1fb23b1d"
      },
      "source": [
        "# 1. What is the target column?\n",
        "\n",
        "- Attrition_Flag\n",
        "- Marital_Status\n",
        "- Gender\n",
        "- Months_on_book\n",
        "- Avg_Utilization_Ratio"
      ]
    },
    {
      "cell_type": "code",
      "execution_count": null,
      "id": "b7210854",
      "metadata": {
        "id": "b7210854",
        "colab": {
          "base_uri": "https://localhost:8080/"
        },
        "outputId": "e6f22168-28e6-4d32-901b-9850ae632f0a"
      },
      "outputs": [
        {
          "output_type": "stream",
          "name": "stdout",
          "text": [
            "Column names:\n",
            "Index(['CLIENTNUM', 'Attrition_Flag', 'Customer_Age', 'Gender',\n",
            "       'Dependent_count', 'Education_Level', 'Marital_Status',\n",
            "       'Income_Category', 'Card_Category', 'Months_on_book',\n",
            "       'Total_Relationship_Count', 'Months_Inactive_12_mon',\n",
            "       'Contacts_Count_12_mon', 'Credit_Limit', 'Total_Revolving_Bal',\n",
            "       'Avg_Open_To_Buy', 'Total_Amt_Chng_Q4_Q1', 'Total_Trans_Amt',\n",
            "       'Total_Trans_Ct', 'Total_Ct_Chng_Q4_Q1', 'Avg_Utilization_Ratio'],\n",
            "      dtype='object')\n"
          ]
        }
      ],
      "source": [
        "print(\"Column names:\")\n",
        "print(df.columns)"
      ]
    },
    {
      "cell_type": "code",
      "execution_count": null,
      "id": "3a48a0ac",
      "metadata": {
        "id": "3a48a0ac",
        "colab": {
          "base_uri": "https://localhost:8080/"
        },
        "outputId": "45a76453-0aa0-4fb9-f78d-d3061954555d"
      },
      "outputs": [
        {
          "output_type": "stream",
          "name": "stdout",
          "text": [
            "Column types:\n",
            "CLIENTNUM                     int64\n",
            "Attrition_Flag               object\n",
            "Customer_Age                  int64\n",
            "Gender                       object\n",
            "Dependent_count               int64\n",
            "Education_Level              object\n",
            "Marital_Status               object\n",
            "Income_Category              object\n",
            "Card_Category                object\n",
            "Months_on_book                int64\n",
            "Total_Relationship_Count      int64\n",
            "Months_Inactive_12_mon        int64\n",
            "Contacts_Count_12_mon         int64\n",
            "Credit_Limit                float64\n",
            "Total_Revolving_Bal           int64\n",
            "Avg_Open_To_Buy             float64\n",
            "Total_Amt_Chng_Q4_Q1        float64\n",
            "Total_Trans_Amt               int64\n",
            "Total_Trans_Ct                int64\n",
            "Total_Ct_Chng_Q4_Q1         float64\n",
            "Avg_Utilization_Ratio       float64\n",
            "dtype: object\n"
          ]
        }
      ],
      "source": [
        "print(\"Column types:\")\n",
        "print(df.dtypes)"
      ]
    },
    {
      "cell_type": "code",
      "source": [
        "df['Attrition_Flag'].unique()"
      ],
      "metadata": {
        "colab": {
          "base_uri": "https://localhost:8080/"
        },
        "id": "RE7ES7NeoFFd",
        "outputId": "31d2cb6b-df72-4ab8-b64b-df03c39686e9"
      },
      "id": "RE7ES7NeoFFd",
      "execution_count": null,
      "outputs": [
        {
          "output_type": "execute_result",
          "data": {
            "text/plain": [
              "array(['Existing Customer', 'Attrited Customer'], dtype=object)"
            ]
          },
          "metadata": {},
          "execution_count": 11
        }
      ]
    },
    {
      "cell_type": "markdown",
      "id": "38f9812a",
      "metadata": {
        "id": "38f9812a"
      },
      "source": [
        "# 2. Transform target column\n",
        "\n",
        "Transform target column to 1/0 format, 1 if the client will churn, 0 otherwise. What is the percetange of churned customers?"
      ]
    },
    {
      "cell_type": "code",
      "execution_count": null,
      "id": "54045256",
      "metadata": {
        "id": "54045256"
      },
      "outputs": [],
      "source": [
        "\n",
        "df['Attrition_Flag'] = df['Attrition_Flag'].map({'Attrited Customer': 1, 'Existing Customer': 0})\n",
        "\n"
      ]
    },
    {
      "cell_type": "code",
      "execution_count": null,
      "id": "4d4033bd",
      "metadata": {
        "id": "4d4033bd",
        "colab": {
          "base_uri": "https://localhost:8080/"
        },
        "outputId": "a54578df-66e4-4481-c6d4-91e851241b09"
      },
      "outputs": [
        {
          "output_type": "stream",
          "name": "stdout",
          "text": [
            "Percentage of churned customers: 16.065962279055988\n"
          ]
        }
      ],
      "source": [
        "# Calculate the percentage of churned customers\n",
        "percentage_churned = (df['Attrition_Flag'].sum() / len(df)) * 100\n",
        "\n",
        "# Print the percentage of churned customers\n",
        "print(\"Percentage of churned customers:\", percentage_churned)"
      ]
    },
    {
      "cell_type": "markdown",
      "id": "e584792b",
      "metadata": {
        "id": "e584792b"
      },
      "source": [
        "# Drop `CLIENTNUM` column, as all clients are unique"
      ]
    },
    {
      "cell_type": "code",
      "execution_count": null,
      "id": "6b5341a2",
      "metadata": {
        "id": "6b5341a2"
      },
      "outputs": [],
      "source": [
        "df = df.drop('CLIENTNUM', axis=1)"
      ]
    },
    {
      "cell_type": "code",
      "execution_count": null,
      "id": "5d9ba115",
      "metadata": {
        "id": "5d9ba115",
        "colab": {
          "base_uri": "https://localhost:8080/"
        },
        "outputId": "c51f9922-2165-43fd-97a1-c93ccb3ceffe"
      },
      "outputs": [
        {
          "output_type": "execute_result",
          "data": {
            "text/plain": [
              "0        0\n",
              "1        0\n",
              "2        0\n",
              "3        0\n",
              "4        0\n",
              "        ..\n",
              "10122    0\n",
              "10123    1\n",
              "10124    1\n",
              "10125    1\n",
              "10126    1\n",
              "Name: Attrition_Flag, Length: 10127, dtype: int64"
            ]
          },
          "metadata": {},
          "execution_count": 15
        }
      ],
      "source": [
        "df['Attrition_Flag']"
      ]
    },
    {
      "cell_type": "markdown",
      "id": "55b42e0d",
      "metadata": {
        "id": "55b42e0d"
      },
      "source": [
        "# 3. Analyse columns, which are numerical, which are categorical?\n",
        "\n",
        "How many numerical and categorical columns do you have (excluding target variable)\n"
      ]
    },
    {
      "cell_type": "code",
      "execution_count": null,
      "id": "877bdc4b",
      "metadata": {
        "id": "877bdc4b",
        "colab": {
          "base_uri": "https://localhost:8080/"
        },
        "outputId": "3f0d4eff-b6e2-4f46-97ba-f9fc45c4bcc8"
      },
      "outputs": [
        {
          "output_type": "stream",
          "name": "stdout",
          "text": [
            "14 5\n",
            "Attrition_Flag                int64\n",
            "Customer_Age                  int64\n",
            "Gender                       object\n",
            "Dependent_count               int64\n",
            "Education_Level              object\n",
            "Marital_Status               object\n",
            "Income_Category              object\n",
            "Card_Category                object\n",
            "Months_on_book                int64\n",
            "Total_Relationship_Count      int64\n",
            "Months_Inactive_12_mon        int64\n",
            "Contacts_Count_12_mon         int64\n",
            "Credit_Limit                float64\n",
            "Total_Revolving_Bal           int64\n",
            "Avg_Open_To_Buy             float64\n",
            "Total_Amt_Chng_Q4_Q1        float64\n",
            "Total_Trans_Amt               int64\n",
            "Total_Trans_Ct                int64\n",
            "Total_Ct_Chng_Q4_Q1         float64\n",
            "Avg_Utilization_Ratio       float64\n",
            "dtype: object\n"
          ]
        }
      ],
      "source": [
        "numCols = df.select_dtypes(\"number\").columns\n",
        "catCols = df.select_dtypes(\"object\").columns\n",
        "numCols= list(set(numCols))\n",
        "catCols= list(set(catCols))\n",
        "print(len(numCols)-1,len(catCols)) #target variable is transformed, so we minus it from numCols\n",
        "print(df.dtypes)"
      ]
    },
    {
      "cell_type": "markdown",
      "id": "f66c16da",
      "metadata": {
        "id": "f66c16da"
      },
      "source": [
        "# 4. Perform EDA (optional)\n",
        "\n",
        "Plot 1-5 Graphs looking for interesting data patterns. Each graph must contain a short description. You can use ChatGPT to generate ideas for graphs. If you use ChatGPT include your prompt into the document. Each of 5 graphs worth 1 point.\n",
        "\n",
        "Checklist:\n",
        "1. For each graph:\n",
        "    1. Graph\n",
        "        - has title\n",
        "        - has labels for OX and OY\n",
        "        - has legend\n",
        "    2. Graph description (<100 words)\n",
        "    3. ChatGPT prompt included (if you've used one)\n",
        "2. All graphs in a single pdf document\n",
        "\n",
        "Put all graphs into a single doc file, save it as pdf and upload to the google form. For reference, this whole text is 105 words."
      ]
    },
    {
      "cell_type": "code",
      "execution_count": null,
      "id": "ca5472e3",
      "metadata": {
        "id": "ca5472e3",
        "colab": {
          "base_uri": "https://localhost:8080/",
          "height": 472
        },
        "outputId": "fb7c17f1-7e1a-4cd4-ad26-f67d29c5670e"
      },
      "outputs": [
        {
          "output_type": "display_data",
          "data": {
            "text/plain": [
              "<Figure size 640x480 with 1 Axes>"
            ],
            "image/png": "[encoded data removed]"
          },
          "metadata": {}
        }
      ],
      "source": [
        "import pandas as pd\n",
        "import matplotlib.pyplot as plt\n",
        "\n",
        "# Plot customer age distribution\n",
        "plt.hist(df['Customer_Age'], bins=20)\n",
        "plt.xlabel('Age')\n",
        "plt.ylabel('Count')\n",
        "plt.title('Customer Age Distribution')\n",
        "plt.show()\n"
      ]
    },
    {
      "cell_type": "code",
      "source": [
        "import pandas as pd\n",
        "import matplotlib.pyplot as plt\n",
        "\n",
        "# Plot customer income distribution\n",
        "plt.hist(df['Income_Category'])\n",
        "plt.xlabel('Income Category')\n",
        "plt.ylabel('Count')\n",
        "plt.title('Customer Income Distribution')\n",
        "plt.xticks(rotation=45)\n",
        "plt.show()\n"
      ],
      "metadata": {
        "colab": {
          "base_uri": "https://localhost:8080/",
          "height": 543
        },
        "id": "gYBiE77tvlNb",
        "outputId": "ce3dc988-23e0-4a58-ef03-94df39888fa7"
      },
      "id": "gYBiE77tvlNb",
      "execution_count": null,
      "outputs": [
        {
          "output_type": "display_data",
          "data": {
            "text/plain": [
              "<Figure size 640x480 with 1 Axes>"
            ],
            "image/png": "[encoded data removed]"
          },
          "metadata": {}
        }
      ]
    },
    {
      "cell_type": "code",
      "source": [
        "import pandas as pd\n",
        "import matplotlib.pyplot as plt\n",
        "\n",
        "# Plot credit limit vs. average utilization ratio\n",
        "plt.scatter(df['Credit_Limit'], df['Avg_Utilization_Ratio'], alpha=0.5)\n",
        "plt.xlabel('Credit Limit')\n",
        "plt.ylabel('Average Utilization Ratio')\n",
        "plt.title('Credit Limit vs. Average Utilization Ratio')\n",
        "plt.show()\n"
      ],
      "metadata": {
        "colab": {
          "base_uri": "https://localhost:8080/",
          "height": 472
        },
        "id": "grvzid4YvscR",
        "outputId": "3daf77ae-7feb-4c13-852f-d18cd1abb28d"
      },
      "id": "grvzid4YvscR",
      "execution_count": null,
      "outputs": [
        {
          "output_type": "display_data",
          "data": {
            "text/plain": [
              "<Figure size 640x480 with 1 Axes>"
            ],
            "image/png": "[encoded data removed]"
          },
          "metadata": {}
        }
      ]
    },
    {
      "cell_type": "code",
      "source": [
        "import pandas as pd\n",
        "import matplotlib.pyplot as plt\n",
        "\n",
        "# Plot gender distribution\n",
        "plt.bar(df['Gender'].value_counts().index, df['Gender'].value_counts().values)\n",
        "plt.xlabel('Gender')\n",
        "plt.ylabel('Count')\n",
        "plt.title('Gender Distribution')\n",
        "plt.show()\n"
      ],
      "metadata": {
        "colab": {
          "base_uri": "https://localhost:8080/",
          "height": 472
        },
        "id": "PGlweXN_v3R7",
        "outputId": "749f4fbc-24c3-4151-f891-1f344396bd36"
      },
      "id": "PGlweXN_v3R7",
      "execution_count": null,
      "outputs": [
        {
          "output_type": "display_data",
          "data": {
            "text/plain": [
              "<Figure size 640x480 with 1 Axes>"
            ],
            "image/png": "[encoded data removed]"
          },
          "metadata": {}
        }
      ]
    },
    {
      "cell_type": "code",
      "source": [
        "import pandas as pd\n",
        "import matplotlib.pyplot as plt\n",
        "\n",
        "# Plot education level distribution\n",
        "plt.bar(df['Education_Level'].value_counts().index, df['Education_Level'].value_counts().values)\n",
        "plt.xlabel('Education Level')\n",
        "plt.ylabel('Count')\n",
        "plt.title('Education Level Distribution')\n",
        "plt.xticks(rotation=45)\n",
        "plt.show()\n"
      ],
      "metadata": {
        "colab": {
          "base_uri": "https://localhost:8080/",
          "height": 538
        },
        "id": "hGuaUa6Dv71s",
        "outputId": "41a49ea8-c561-462e-98bd-6d1ba33fd28f"
      },
      "id": "hGuaUa6Dv71s",
      "execution_count": null,
      "outputs": [
        {
          "output_type": "display_data",
          "data": {
            "text/plain": [
              "<Figure size 640x480 with 1 Axes>"
            ],
            "image/png": "[encoded data removed]"
          },
          "metadata": {}
        }
      ]
    },
    {
      "cell_type": "markdown",
      "id": "9eda4c7e",
      "metadata": {
        "id": "9eda4c7e"
      },
      "source": [
        "#  5. What are the different ways to handle categorical columns?\n",
        "\n",
        "\n",
        "Before training machine learning algorithm we need to convert categorical columns\n",
        "\n"
      ]
    },
    {
      "cell_type": "code",
      "execution_count": null,
      "id": "8455e36f",
      "metadata": {
        "id": "8455e36f"
      },
      "outputs": [],
      "source": [
        "#Ordinal Encoding\n",
        "#One-Hot Encoding"
      ]
    },
    {
      "cell_type": "markdown",
      "id": "588def7a",
      "metadata": {
        "id": "588def7a"
      },
      "source": [
        "# 6. Encode categorical columns with 1-hot encoding\n",
        "\n",
        "How many binary columns after encoding do you have? Use `OneHotEncoder` from `slearn.preprocessing` module with `sparse=False` parameter. See example below.\n"
      ]
    },
    {
      "cell_type": "code",
      "execution_count": null,
      "id": "f4f05693",
      "metadata": {
        "id": "f4f05693",
        "colab": {
          "base_uri": "https://localhost:8080/",
          "height": 144
        },
        "outputId": "627a518d-aca5-4031-e6e4-31791333f5f3"
      },
      "outputs": [
        {
          "output_type": "execute_result",
          "data": {
            "text/plain": [
              "      Sex  Age\n",
              "0    Male    1\n",
              "1  Female    3\n",
              "2  Female    2"
            ],
            "text/html": [
              "\n",
              "  <div id=\"df-556183ff-4286-46ca-aa91-06988f76bf52\">\n",
              "    <div class=\"colab-df-container\">\n",
              "      <div>\n",
              "<style scoped>\n",
              "    .dataframe tbody tr th:only-of-type {\n",
              "        vertical-align: middle;\n",
              "    }\n",
              "\n",
              "    .dataframe tbody tr th {\n",
              "        vertical-align: top;\n",
              "    }\n",
              "\n",
              "    .dataframe thead th {\n",
              "        text-align: right;\n",
              "    }\n",
              "</style>\n",
              "<table border=\"1\" class=\"dataframe\">\n",
              "  <thead>\n",
              "    <tr style=\"text-align: right;\">\n",
              "      <th></th>\n",
              "      <th>Sex</th>\n",
              "      <th>Age</th>\n",
              "    </tr>\n",
              "  </thead>\n",
              "  <tbody>\n",
              "    <tr>\n",
              "      <th>0</th>\n",
              "      <td>Male</td>\n",
              "      <td>1</td>\n",
              "    </tr>\n",
              "    <tr>\n",
              "      <th>1</th>\n",
              "      <td>Female</td>\n",
              "      <td>3</td>\n",
              "    </tr>\n",
              "    <tr>\n",
              "      <th>2</th>\n",
              "      <td>Female</td>\n",
              "      <td>2</td>\n",
              "    </tr>\n",
              "  </tbody>\n",
              "</table>\n",
              "</div>\n",
              "      <button class=\"colab-df-convert\" onclick=\"convertToInteractive('df-556183ff-4286-46ca-aa91-06988f76bf52')\"\n",
              "              title=\"Convert this dataframe to an interactive table.\"\n",
              "              style=\"display:none;\">\n",
              "        \n",
              "  <svg xmlns=\"http://www.w3.org/2000/svg\" height=\"24px\"viewBox=\"0 0 24 24\"\n",
              "       width=\"24px\">\n",
              "    <path d=\"M0 0h24v24H0V0z\" fill=\"none\"/>\n",
              "    <path d=\"M18.56 5.44l.94 2.06.94-2.06 2.06-.94-2.06-.94-.94-2.06-.94 2.06-2.06.94zm-11 1L8.5 8.5l.94-2.06 2.06-.94-2.06-.94L8.5 2.5l-.94 2.06-2.06.94zm10 10l.94 2.06.94-2.06 2.06-.94-2.06-.94-.94-2.06-.94 2.06-2.06.94z\"/><path d=\"M17.41 7.96l-1.37-1.37c-.4-.4-.92-.59-1.43-.59-.52 0-1.04.2-1.43.59L10.3 9.45l-7.72 7.72c-.78.78-.78 2.05 0 2.83L4 21.41c.39.39.9.59 1.41.59.51 0 1.02-.2 1.41-.59l7.78-7.78 2.81-2.81c.8-.78.8-2.07 0-2.86zM5.41 20L4 18.59l7.72-7.72 1.47 1.35L5.41 20z\"/>\n",
              "  </svg>\n",
              "      </button>\n",
              "      \n",
              "  <style>\n",
              "    .colab-df-container {\n",
              "      display:flex;\n",
              "      flex-wrap:wrap;\n",
              "      gap: 12px;\n",
              "    }\n",
              "\n",
              "    .colab-df-convert {\n",
              "      background-color: #E8F0FE;\n",
              "      border: none;\n",
              "      border-radius: 50%;\n",
              "      cursor: pointer;\n",
              "      display: none;\n",
              "      fill: #1967D2;\n",
              "      height: 32px;\n",
              "      padding: 0 0 0 0;\n",
              "      width: 32px;\n",
              "    }\n",
              "\n",
              "    .colab-df-convert:hover {\n",
              "      background-color: #E2EBFA;\n",
              "      box-shadow: 0px 1px 2px rgba(60, 64, 67, 0.3), 0px 1px 3px 1px rgba(60, 64, 67, 0.15);\n",
              "      fill: #174EA6;\n",
              "    }\n",
              "\n",
              "    [theme=dark] .colab-df-convert {\n",
              "      background-color: #3B4455;\n",
              "      fill: #D2E3FC;\n",
              "    }\n",
              "\n",
              "    [theme=dark] .colab-df-convert:hover {\n",
              "      background-color: #434B5C;\n",
              "      box-shadow: 0px 1px 3px 1px rgba(0, 0, 0, 0.15);\n",
              "      filter: drop-shadow(0px 1px 2px rgba(0, 0, 0, 0.3));\n",
              "      fill: #FFFFFF;\n",
              "    }\n",
              "  </style>\n",
              "\n",
              "      <script>\n",
              "        const buttonEl =\n",
              "          document.querySelector('#df-556183ff-4286-46ca-aa91-06988f76bf52 button.colab-df-convert');\n",
              "        buttonEl.style.display =\n",
              "          google.colab.kernel.accessAllowed ? 'block' : 'none';\n",
              "\n",
              "        async function convertToInteractive(key) {\n",
              "          const element = document.querySelector('#df-556183ff-4286-46ca-aa91-06988f76bf52');\n",
              "          const dataTable =\n",
              "            await google.colab.kernel.invokeFunction('convertToInteractive',\n",
              "                                                     [key], {});\n",
              "          if (!dataTable) return;\n",
              "\n",
              "          const docLinkHtml = 'Like what you see? Visit the ' +\n",
              "            '<a target=\"_blank\" href=https://colab.research.google.com/notebooks/data_table.ipynb>data table notebook</a>'\n",
              "            + ' to learn more about interactive tables.';\n",
              "          element.innerHTML = '';\n",
              "          dataTable['output_type'] = 'display_data';\n",
              "          await google.colab.output.renderOutput(dataTable, element);\n",
              "          const docLink = document.createElement('div');\n",
              "          docLink.innerHTML = docLinkHtml;\n",
              "          element.appendChild(docLink);\n",
              "        }\n",
              "      </script>\n",
              "    </div>\n",
              "  </div>\n",
              "  "
            ]
          },
          "metadata": {},
          "execution_count": 23
        }
      ],
      "source": [
        "# Example dataframe\n",
        "df_example = pd.DataFrame([['Male', 1], ['Female', 3], ['Female', 2]], columns=['Sex', 'Age'])\n",
        "df_example"
      ]
    },
    {
      "cell_type": "code",
      "execution_count": null,
      "id": "909f41cb",
      "metadata": {
        "id": "909f41cb",
        "colab": {
          "base_uri": "https://localhost:8080/",
          "height": 352
        },
        "outputId": "ffdd9115-3754-490d-d99a-6d1a1f894b21"
      },
      "outputs": [
        {
          "output_type": "stream",
          "name": "stderr",
          "text": [
            "/usr/local/lib/python3.10/dist-packages/sklearn/preprocessing/_encoders.py:868: FutureWarning: `sparse` was renamed to `sparse_output` in version 1.2 and will be removed in 1.4. `sparse_output` is ignored unless you leave `sparse` to its default value.\n",
            "  warnings.warn(\n"
          ]
        },
        {
          "output_type": "execute_result",
          "data": {
            "text/plain": [
              "   Gender_F  Gender_M  Education_Level_College  Education_Level_Doctorate  \\\n",
              "0       0.0       1.0                      0.0                        0.0   \n",
              "1       1.0       0.0                      0.0                        0.0   \n",
              "2       0.0       1.0                      0.0                        0.0   \n",
              "3       1.0       0.0                      0.0                        0.0   \n",
              "4       0.0       1.0                      0.0                        0.0   \n",
              "\n",
              "   Education_Level_Graduate  Education_Level_High School  \\\n",
              "0                       0.0                          1.0   \n",
              "1                       1.0                          0.0   \n",
              "2                       1.0                          0.0   \n",
              "3                       0.0                          1.0   \n",
              "4                       0.0                          0.0   \n",
              "\n",
              "   Education_Level_Post-Graduate  Education_Level_Uneducated  \\\n",
              "0                            0.0                         0.0   \n",
              "1                            0.0                         0.0   \n",
              "2                            0.0                         0.0   \n",
              "3                            0.0                         0.0   \n",
              "4                            0.0                         1.0   \n",
              "\n",
              "   Education_Level_Unknown  Marital_Status_Divorced  ...  \\\n",
              "0                      0.0                      0.0  ...   \n",
              "1                      0.0                      0.0  ...   \n",
              "2                      0.0                      0.0  ...   \n",
              "3                      0.0                      0.0  ...   \n",
              "4                      0.0                      0.0  ...   \n",
              "\n",
              "   Income_Category_$120K +  Income_Category_$40K - $60K  \\\n",
              "0                      0.0                          0.0   \n",
              "1                      0.0                          0.0   \n",
              "2                      0.0                          0.0   \n",
              "3                      0.0                          0.0   \n",
              "4                      0.0                          0.0   \n",
              "\n",
              "   Income_Category_$60K - $80K  Income_Category_$80K - $120K  \\\n",
              "0                          1.0                           0.0   \n",
              "1                          0.0                           0.0   \n",
              "2                          0.0                           1.0   \n",
              "3                          0.0                           0.0   \n",
              "4                          1.0                           0.0   \n",
              "\n",
              "   Income_Category_Less than $40K  Income_Category_Unknown  \\\n",
              "0                             0.0                      0.0   \n",
              "1                             1.0                      0.0   \n",
              "2                             0.0                      0.0   \n",
              "3                             1.0                      0.0   \n",
              "4                             0.0                      0.0   \n",
              "\n",
              "   Card_Category_Blue  Card_Category_Gold  Card_Category_Platinum  \\\n",
              "0                 1.0                 0.0                     0.0   \n",
              "1                 1.0                 0.0                     0.0   \n",
              "2                 1.0                 0.0                     0.0   \n",
              "3                 1.0                 0.0                     0.0   \n",
              "4                 1.0                 0.0                     0.0   \n",
              "\n",
              "   Card_Category_Silver  \n",
              "0                   0.0  \n",
              "1                   0.0  \n",
              "2                   0.0  \n",
              "3                   0.0  \n",
              "4                   0.0  \n",
              "\n",
              "[5 rows x 23 columns]"
            ],
            "text/html": [
              "\n",
              "  <div id=\"df-876dabbf-b9e2-41bf-9d99-74b55f2ae9ba\">\n",
              "    <div class=\"colab-df-container\">\n",
              "      <div>\n",
              "<style scoped>\n",
              "    .dataframe tbody tr th:only-of-type {\n",
              "        vertical-align: middle;\n",
              "    }\n",
              "\n",
              "    .dataframe tbody tr th {\n",
              "        vertical-align: top;\n",
              "    }\n",
              "\n",
              "    .dataframe thead th {\n",
              "        text-align: right;\n",
              "    }\n",
              "</style>\n",
              "<table border=\"1\" class=\"dataframe\">\n",
              "  <thead>\n",
              "    <tr style=\"text-align: right;\">\n",
              "      <th></th>\n",
              "      <th>Gender_F</th>\n",
              "      <th>Gender_M</th>\n",
              "      <th>Education_Level_College</th>\n",
              "      <th>Education_Level_Doctorate</th>\n",
              "      <th>Education_Level_Graduate</th>\n",
              "      <th>Education_Level_High School</th>\n",
              "      <th>Education_Level_Post-Graduate</th>\n",
              "      <th>Education_Level_Uneducated</th>\n",
              "      <th>Education_Level_Unknown</th>\n",
              "      <th>Marital_Status_Divorced</th>\n",
              "      <th>...</th>\n",
              "      <th>Income_Category_$120K +</th>\n",
              "      <th>Income_Category_$40K - $60K</th>\n",
              "      <th>Income_Category_$60K - $80K</th>\n",
              "      <th>Income_Category_$80K - $120K</th>\n",
              "      <th>Income_Category_Less than $40K</th>\n",
              "      <th>Income_Category_Unknown</th>\n",
              "      <th>Card_Category_Blue</th>\n",
              "      <th>Card_Category_Gold</th>\n",
              "      <th>Card_Category_Platinum</th>\n",
              "      <th>Card_Category_Silver</th>\n",
              "    </tr>\n",
              "  </thead>\n",
              "  <tbody>\n",
              "    <tr>\n",
              "      <th>0</th>\n",
              "      <td>0.0</td>\n",
              "      <td>1.0</td>\n",
              "      <td>0.0</td>\n",
              "      <td>0.0</td>\n",
              "      <td>0.0</td>\n",
              "      <td>1.0</td>\n",
              "      <td>0.0</td>\n",
              "      <td>0.0</td>\n",
              "      <td>0.0</td>\n",
              "      <td>0.0</td>\n",
              "      <td>...</td>\n",
              "      <td>0.0</td>\n",
              "      <td>0.0</td>\n",
              "      <td>1.0</td>\n",
              "      <td>0.0</td>\n",
              "      <td>0.0</td>\n",
              "      <td>0.0</td>\n",
              "      <td>1.0</td>\n",
              "      <td>0.0</td>\n",
              "      <td>0.0</td>\n",
              "      <td>0.0</td>\n",
              "    </tr>\n",
              "    <tr>\n",
              "      <th>1</th>\n",
              "      <td>1.0</td>\n",
              "      <td>0.0</td>\n",
              "      <td>0.0</td>\n",
              "      <td>0.0</td>\n",
              "      <td>1.0</td>\n",
              "      <td>0.0</td>\n",
              "      <td>0.0</td>\n",
              "      <td>0.0</td>\n",
              "      <td>0.0</td>\n",
              "      <td>0.0</td>\n",
              "      <td>...</td>\n",
              "      <td>0.0</td>\n",
              "      <td>0.0</td>\n",
              "      <td>0.0</td>\n",
              "      <td>0.0</td>\n",
              "      <td>1.0</td>\n",
              "      <td>0.0</td>\n",
              "      <td>1.0</td>\n",
              "      <td>0.0</td>\n",
              "      <td>0.0</td>\n",
              "      <td>0.0</td>\n",
              "    </tr>\n",
              "    <tr>\n",
              "      <th>2</th>\n",
              "      <td>0.0</td>\n",
              "      <td>1.0</td>\n",
              "      <td>0.0</td>\n",
              "      <td>0.0</td>\n",
              "      <td>1.0</td>\n",
              "      <td>0.0</td>\n",
              "      <td>0.0</td>\n",
              "      <td>0.0</td>\n",
              "      <td>0.0</td>\n",
              "      <td>0.0</td>\n",
              "      <td>...</td>\n",
              "      <td>0.0</td>\n",
              "      <td>0.0</td>\n",
              "      <td>0.0</td>\n",
              "      <td>1.0</td>\n",
              "      <td>0.0</td>\n",
              "      <td>0.0</td>\n",
              "      <td>1.0</td>\n",
              "      <td>0.0</td>\n",
              "      <td>0.0</td>\n",
              "      <td>0.0</td>\n",
              "    </tr>\n",
              "    <tr>\n",
              "      <th>3</th>\n",
              "      <td>1.0</td>\n",
              "      <td>0.0</td>\n",
              "      <td>0.0</td>\n",
              "      <td>0.0</td>\n",
              "      <td>0.0</td>\n",
              "      <td>1.0</td>\n",
              "      <td>0.0</td>\n",
              "      <td>0.0</td>\n",
              "      <td>0.0</td>\n",
              "      <td>0.0</td>\n",
              "      <td>...</td>\n",
              "      <td>0.0</td>\n",
              "      <td>0.0</td>\n",
              "      <td>0.0</td>\n",
              "      <td>0.0</td>\n",
              "      <td>1.0</td>\n",
              "      <td>0.0</td>\n",
              "      <td>1.0</td>\n",
              "      <td>0.0</td>\n",
              "      <td>0.0</td>\n",
              "      <td>0.0</td>\n",
              "    </tr>\n",
              "    <tr>\n",
              "      <th>4</th>\n",
              "      <td>0.0</td>\n",
              "      <td>1.0</td>\n",
              "      <td>0.0</td>\n",
              "      <td>0.0</td>\n",
              "      <td>0.0</td>\n",
              "      <td>0.0</td>\n",
              "      <td>0.0</td>\n",
              "      <td>1.0</td>\n",
              "      <td>0.0</td>\n",
              "      <td>0.0</td>\n",
              "      <td>...</td>\n",
              "      <td>0.0</td>\n",
              "      <td>0.0</td>\n",
              "      <td>1.0</td>\n",
              "      <td>0.0</td>\n",
              "      <td>0.0</td>\n",
              "      <td>0.0</td>\n",
              "      <td>1.0</td>\n",
              "      <td>0.0</td>\n",
              "      <td>0.0</td>\n",
              "      <td>0.0</td>\n",
              "    </tr>\n",
              "  </tbody>\n",
              "</table>\n",
              "<p>5 rows × 23 columns</p>\n",
              "</div>\n",
              "      <button class=\"colab-df-convert\" onclick=\"convertToInteractive('df-876dabbf-b9e2-41bf-9d99-74b55f2ae9ba')\"\n",
              "              title=\"Convert this dataframe to an interactive table.\"\n",
              "              style=\"display:none;\">\n",
              "        \n",
              "  <svg xmlns=\"http://www.w3.org/2000/svg\" height=\"24px\"viewBox=\"0 0 24 24\"\n",
              "       width=\"24px\">\n",
              "    <path d=\"M0 0h24v24H0V0z\" fill=\"none\"/>\n",
              "    <path d=\"M18.56 5.44l.94 2.06.94-2.06 2.06-.94-2.06-.94-.94-2.06-.94 2.06-2.06.94zm-11 1L8.5 8.5l.94-2.06 2.06-.94-2.06-.94L8.5 2.5l-.94 2.06-2.06.94zm10 10l.94 2.06.94-2.06 2.06-.94-2.06-.94-.94-2.06-.94 2.06-2.06.94z\"/><path d=\"M17.41 7.96l-1.37-1.37c-.4-.4-.92-.59-1.43-.59-.52 0-1.04.2-1.43.59L10.3 9.45l-7.72 7.72c-.78.78-.78 2.05 0 2.83L4 21.41c.39.39.9.59 1.41.59.51 0 1.02-.2 1.41-.59l7.78-7.78 2.81-2.81c.8-.78.8-2.07 0-2.86zM5.41 20L4 18.59l7.72-7.72 1.47 1.35L5.41 20z\"/>\n",
              "  </svg>\n",
              "      </button>\n",
              "      \n",
              "  <style>\n",
              "    .colab-df-container {\n",
              "      display:flex;\n",
              "      flex-wrap:wrap;\n",
              "      gap: 12px;\n",
              "    }\n",
              "\n",
              "    .colab-df-convert {\n",
              "      background-color: #E8F0FE;\n",
              "      border: none;\n",
              "      border-radius: 50%;\n",
              "      cursor: pointer;\n",
              "      display: none;\n",
              "      fill: #1967D2;\n",
              "      height: 32px;\n",
              "      padding: 0 0 0 0;\n",
              "      width: 32px;\n",
              "    }\n",
              "\n",
              "    .colab-df-convert:hover {\n",
              "      background-color: #E2EBFA;\n",
              "      box-shadow: 0px 1px 2px rgba(60, 64, 67, 0.3), 0px 1px 3px 1px rgba(60, 64, 67, 0.15);\n",
              "      fill: #174EA6;\n",
              "    }\n",
              "\n",
              "    [theme=dark] .colab-df-convert {\n",
              "      background-color: #3B4455;\n",
              "      fill: #D2E3FC;\n",
              "    }\n",
              "\n",
              "    [theme=dark] .colab-df-convert:hover {\n",
              "      background-color: #434B5C;\n",
              "      box-shadow: 0px 1px 3px 1px rgba(0, 0, 0, 0.15);\n",
              "      filter: drop-shadow(0px 1px 2px rgba(0, 0, 0, 0.3));\n",
              "      fill: #FFFFFF;\n",
              "    }\n",
              "  </style>\n",
              "\n",
              "      <script>\n",
              "        const buttonEl =\n",
              "          document.querySelector('#df-876dabbf-b9e2-41bf-9d99-74b55f2ae9ba button.colab-df-convert');\n",
              "        buttonEl.style.display =\n",
              "          google.colab.kernel.accessAllowed ? 'block' : 'none';\n",
              "\n",
              "        async function convertToInteractive(key) {\n",
              "          const element = document.querySelector('#df-876dabbf-b9e2-41bf-9d99-74b55f2ae9ba');\n",
              "          const dataTable =\n",
              "            await google.colab.kernel.invokeFunction('convertToInteractive',\n",
              "                                                     [key], {});\n",
              "          if (!dataTable) return;\n",
              "\n",
              "          const docLinkHtml = 'Like what you see? Visit the ' +\n",
              "            '<a target=\"_blank\" href=https://colab.research.google.com/notebooks/data_table.ipynb>data table notebook</a>'\n",
              "            + ' to learn more about interactive tables.';\n",
              "          element.innerHTML = '';\n",
              "          dataTable['output_type'] = 'display_data';\n",
              "          await google.colab.output.renderOutput(dataTable, element);\n",
              "          const docLink = document.createElement('div');\n",
              "          docLink.innerHTML = docLinkHtml;\n",
              "          element.appendChild(docLink);\n",
              "        }\n",
              "      </script>\n",
              "    </div>\n",
              "  </div>\n",
              "  "
            ]
          },
          "metadata": {},
          "execution_count": 24
        }
      ],
      "source": [
        "from sklearn.preprocessing import OneHotEncoder\n",
        "\n",
        "# Set names of categorical columns\n",
        "categorical_columns = df.select_dtypes(include=['object']).columns\n",
        "\n",
        "# Create OneHotEncoder object\n",
        "encoder = OneHotEncoder(sparse=False)\n",
        "\n",
        "# Transform categorical columns and save them into array\n",
        "cat_encoded = encoder.fit_transform(df[categorical_columns])\n",
        "\n",
        "num_binary_columns = cat_encoded.shape[1]\n",
        "\n",
        "# Save categorical columns to pandas.DataFrame, with correct column names\n",
        "df_encoded = pd.DataFrame(cat_encoded, columns=encoder.get_feature_names_out(categorical_columns))\n",
        "\n",
        "# Check the resulting DataFrame\n",
        "df_encoded.head()"
      ]
    },
    {
      "cell_type": "code",
      "execution_count": null,
      "id": "f745281f",
      "metadata": {
        "id": "f745281f",
        "colab": {
          "base_uri": "https://localhost:8080/"
        },
        "outputId": "e0bb2b19-cff5-406f-cd16-61df2825b46b"
      },
      "outputs": [
        {
          "output_type": "stream",
          "name": "stdout",
          "text": [
            "Number of binary columns after one-hot encoding: 23\n"
          ]
        }
      ],
      "source": [
        "\n",
        "# Print the result\n",
        "print(\"Number of binary columns after one-hot encoding:\", num_binary_columns)"
      ]
    },
    {
      "cell_type": "markdown",
      "id": "8b6cc885",
      "metadata": {
        "id": "8b6cc885"
      },
      "source": [
        "# Drop original categorical columns and concat encoded with the numerical columns\n",
        "\n",
        "assuming your encoded columns are in `df_encoded` variable"
      ]
    },
    {
      "cell_type": "code",
      "execution_count": null,
      "id": "891e197a",
      "metadata": {
        "id": "891e197a"
      },
      "outputs": [],
      "source": [
        "df = df.drop(categorical_columns, axis=1)"
      ]
    },
    {
      "cell_type": "code",
      "execution_count": null,
      "id": "8137f458",
      "metadata": {
        "id": "8137f458"
      },
      "outputs": [],
      "source": [
        "df = pd.concat([df, df_encoded], axis=1)"
      ]
    },
    {
      "cell_type": "code",
      "execution_count": null,
      "id": "3939ce27",
      "metadata": {
        "id": "3939ce27"
      },
      "outputs": [],
      "source": []
    },
    {
      "cell_type": "markdown",
      "id": "36ee19fa",
      "metadata": {
        "id": "36ee19fa"
      },
      "source": [
        "# 7. Split data intro train and test parts\n",
        "\n",
        "Set the size of the test set to 30%, use startification over the target column (to preserve target ratio in train and test sets). Use `random_state=10`. How many observations do you have in your test set?\n"
      ]
    },
    {
      "cell_type": "code",
      "execution_count": null,
      "id": "c85ecb2b",
      "metadata": {
        "id": "c85ecb2b"
      },
      "outputs": [],
      "source": [
        "from sklearn.model_selection import train_test_split"
      ]
    },
    {
      "cell_type": "code",
      "execution_count": null,
      "id": "5bd2293f",
      "metadata": {
        "id": "5bd2293f",
        "colab": {
          "base_uri": "https://localhost:8080/"
        },
        "outputId": "8ffa477f-6287-4bda-c112-9df530e9ad0e"
      },
      "outputs": [
        {
          "output_type": "stream",
          "name": "stdout",
          "text": [
            "Number of observations in the test set: 3039\n"
          ]
        }
      ],
      "source": [
        "\n",
        "df_train, df_test = train_test_split(df, test_size=0.3, stratify=df['Attrition_Flag'])\n",
        "\n",
        "# Get the number of observations in the test set\n",
        "num_observations_test = df_test.shape[0]\n",
        "\n",
        "# Print the result\n",
        "print(\"Number of observations in the test set:\", num_observations_test)"
      ]
    },
    {
      "cell_type": "code",
      "execution_count": null,
      "id": "fcc7265c",
      "metadata": {
        "id": "fcc7265c",
        "colab": {
          "base_uri": "https://localhost:8080/",
          "height": 317
        },
        "outputId": "2303e354-4299-42bb-aa12-2449abb10486"
      },
      "outputs": [
        {
          "output_type": "execute_result",
          "data": {
            "text/plain": [
              "      Attrition_Flag  Customer_Age  Dependent_count  Months_on_book  \\\n",
              "1514               0            46                1              38   \n",
              "9971               0            46                2              36   \n",
              "5826               0            35                1              36   \n",
              "8827               0            49                3              36   \n",
              "7466               1            40                3              36   \n",
              "\n",
              "      Total_Relationship_Count  Months_Inactive_12_mon  Contacts_Count_12_mon  \\\n",
              "1514                         5                       2                      4   \n",
              "9971                         5                       1                      0   \n",
              "5826                         3                       2                      3   \n",
              "8827                         2                       3                      1   \n",
              "7466                         3                       3                      4   \n",
              "\n",
              "      Credit_Limit  Total_Revolving_Bal  Avg_Open_To_Buy  ...  \\\n",
              "1514       23996.0                 2517          21479.0  ...   \n",
              "9971        3818.0                 1142           2676.0  ...   \n",
              "5826        1438.3                  670            768.3  ...   \n",
              "8827        4557.0                  985           3572.0  ...   \n",
              "7466        2313.0                    0           2313.0  ...   \n",
              "\n",
              "      Income_Category_$120K +  Income_Category_$40K - $60K  \\\n",
              "1514                      0.0                          0.0   \n",
              "9971                      0.0                          0.0   \n",
              "5826                      0.0                          0.0   \n",
              "8827                      0.0                          0.0   \n",
              "7466                      0.0                          1.0   \n",
              "\n",
              "      Income_Category_$60K - $80K  Income_Category_$80K - $120K  \\\n",
              "1514                          1.0                           0.0   \n",
              "9971                          0.0                           0.0   \n",
              "5826                          0.0                           0.0   \n",
              "8827                          0.0                           1.0   \n",
              "7466                          0.0                           0.0   \n",
              "\n",
              "      Income_Category_Less than $40K  Income_Category_Unknown  \\\n",
              "1514                             0.0                      0.0   \n",
              "9971                             1.0                      0.0   \n",
              "5826                             1.0                      0.0   \n",
              "8827                             0.0                      0.0   \n",
              "7466                             0.0                      0.0   \n",
              "\n",
              "      Card_Category_Blue  Card_Category_Gold  Card_Category_Platinum  \\\n",
              "1514                 1.0                 0.0                     0.0   \n",
              "9971                 1.0                 0.0                     0.0   \n",
              "5826                 1.0                 0.0                     0.0   \n",
              "8827                 1.0                 0.0                     0.0   \n",
              "7466                 1.0                 0.0                     0.0   \n",
              "\n",
              "      Card_Category_Silver  \n",
              "1514                   0.0  \n",
              "9971                   0.0  \n",
              "5826                   0.0  \n",
              "8827                   0.0  \n",
              "7466                   0.0  \n",
              "\n",
              "[5 rows x 38 columns]"
            ],
            "text/html": [
              "\n",
              "  <div id=\"df-800e1842-c7b6-425d-90ab-200fdd9a99df\">\n",
              "    <div class=\"colab-df-container\">\n",
              "      <div>\n",
              "<style scoped>\n",
              "    .dataframe tbody tr th:only-of-type {\n",
              "        vertical-align: middle;\n",
              "    }\n",
              "\n",
              "    .dataframe tbody tr th {\n",
              "        vertical-align: top;\n",
              "    }\n",
              "\n",
              "    .dataframe thead th {\n",
              "        text-align: right;\n",
              "    }\n",
              "</style>\n",
              "<table border=\"1\" class=\"dataframe\">\n",
              "  <thead>\n",
              "    <tr style=\"text-align: right;\">\n",
              "      <th></th>\n",
              "      <th>Attrition_Flag</th>\n",
              "      <th>Customer_Age</th>\n",
              "      <th>Dependent_count</th>\n",
              "      <th>Months_on_book</th>\n",
              "      <th>Total_Relationship_Count</th>\n",
              "      <th>Months_Inactive_12_mon</th>\n",
              "      <th>Contacts_Count_12_mon</th>\n",
              "      <th>Credit_Limit</th>\n",
              "      <th>Total_Revolving_Bal</th>\n",
              "      <th>Avg_Open_To_Buy</th>\n",
              "      <th>...</th>\n",
              "      <th>Income_Category_$120K +</th>\n",
              "      <th>Income_Category_$40K - $60K</th>\n",
              "      <th>Income_Category_$60K - $80K</th>\n",
              "      <th>Income_Category_$80K - $120K</th>\n",
              "      <th>Income_Category_Less than $40K</th>\n",
              "      <th>Income_Category_Unknown</th>\n",
              "      <th>Card_Category_Blue</th>\n",
              "      <th>Card_Category_Gold</th>\n",
              "      <th>Card_Category_Platinum</th>\n",
              "      <th>Card_Category_Silver</th>\n",
              "    </tr>\n",
              "  </thead>\n",
              "  <tbody>\n",
              "    <tr>\n",
              "      <th>1514</th>\n",
              "      <td>0</td>\n",
              "      <td>46</td>\n",
              "      <td>1</td>\n",
              "      <td>38</td>\n",
              "      <td>5</td>\n",
              "      <td>2</td>\n",
              "      <td>4</td>\n",
              "      <td>23996.0</td>\n",
              "      <td>2517</td>\n",
              "      <td>21479.0</td>\n",
              "      <td>...</td>\n",
              "      <td>0.0</td>\n",
              "      <td>0.0</td>\n",
              "      <td>1.0</td>\n",
              "      <td>0.0</td>\n",
              "      <td>0.0</td>\n",
              "      <td>0.0</td>\n",
              "      <td>1.0</td>\n",
              "      <td>0.0</td>\n",
              "      <td>0.0</td>\n",
              "      <td>0.0</td>\n",
              "    </tr>\n",
              "    <tr>\n",
              "      <th>9971</th>\n",
              "      <td>0</td>\n",
              "      <td>46</td>\n",
              "      <td>2</td>\n",
              "      <td>36</td>\n",
              "      <td>5</td>\n",
              "      <td>1</td>\n",
              "      <td>0</td>\n",
              "      <td>3818.0</td>\n",
              "      <td>1142</td>\n",
              "      <td>2676.0</td>\n",
              "      <td>...</td>\n",
              "      <td>0.0</td>\n",
              "      <td>0.0</td>\n",
              "      <td>0.0</td>\n",
              "      <td>0.0</td>\n",
              "      <td>1.0</td>\n",
              "      <td>0.0</td>\n",
              "      <td>1.0</td>\n",
              "      <td>0.0</td>\n",
              "      <td>0.0</td>\n",
              "      <td>0.0</td>\n",
              "    </tr>\n",
              "    <tr>\n",
              "      <th>5826</th>\n",
              "      <td>0</td>\n",
              "      <td>35</td>\n",
              "      <td>1</td>\n",
              "      <td>36</td>\n",
              "      <td>3</td>\n",
              "      <td>2</td>\n",
              "      <td>3</td>\n",
              "      <td>1438.3</td>\n",
              "      <td>670</td>\n",
              "      <td>768.3</td>\n",
              "      <td>...</td>\n",
              "      <td>0.0</td>\n",
              "      <td>0.0</td>\n",
              "      <td>0.0</td>\n",
              "      <td>0.0</td>\n",
              "      <td>1.0</td>\n",
              "      <td>0.0</td>\n",
              "      <td>1.0</td>\n",
              "      <td>0.0</td>\n",
              "      <td>0.0</td>\n",
              "      <td>0.0</td>\n",
              "    </tr>\n",
              "    <tr>\n",
              "      <th>8827</th>\n",
              "      <td>0</td>\n",
              "      <td>49</td>\n",
              "      <td>3</td>\n",
              "      <td>36</td>\n",
              "      <td>2</td>\n",
              "      <td>3</td>\n",
              "      <td>1</td>\n",
              "      <td>4557.0</td>\n",
              "      <td>985</td>\n",
              "      <td>3572.0</td>\n",
              "      <td>...</td>\n",
              "      <td>0.0</td>\n",
              "      <td>0.0</td>\n",
              "      <td>0.0</td>\n",
              "      <td>1.0</td>\n",
              "      <td>0.0</td>\n",
              "      <td>0.0</td>\n",
              "      <td>1.0</td>\n",
              "      <td>0.0</td>\n",
              "      <td>0.0</td>\n",
              "      <td>0.0</td>\n",
              "    </tr>\n",
              "    <tr>\n",
              "      <th>7466</th>\n",
              "      <td>1</td>\n",
              "      <td>40</td>\n",
              "      <td>3</td>\n",
              "      <td>36</td>\n",
              "      <td>3</td>\n",
              "      <td>3</td>\n",
              "      <td>4</td>\n",
              "      <td>2313.0</td>\n",
              "      <td>0</td>\n",
              "      <td>2313.0</td>\n",
              "      <td>...</td>\n",
              "      <td>0.0</td>\n",
              "      <td>1.0</td>\n",
              "      <td>0.0</td>\n",
              "      <td>0.0</td>\n",
              "      <td>0.0</td>\n",
              "      <td>0.0</td>\n",
              "      <td>1.0</td>\n",
              "      <td>0.0</td>\n",
              "      <td>0.0</td>\n",
              "      <td>0.0</td>\n",
              "    </tr>\n",
              "  </tbody>\n",
              "</table>\n",
              "<p>5 rows × 38 columns</p>\n",
              "</div>\n",
              "      <button class=\"colab-df-convert\" onclick=\"convertToInteractive('df-800e1842-c7b6-425d-90ab-200fdd9a99df')\"\n",
              "              title=\"Convert this dataframe to an interactive table.\"\n",
              "              style=\"display:none;\">\n",
              "        \n",
              "  <svg xmlns=\"http://www.w3.org/2000/svg\" height=\"24px\"viewBox=\"0 0 24 24\"\n",
              "       width=\"24px\">\n",
              "    <path d=\"M0 0h24v24H0V0z\" fill=\"none\"/>\n",
              "    <path d=\"M18.56 5.44l.94 2.06.94-2.06 2.06-.94-2.06-.94-.94-2.06-.94 2.06-2.06.94zm-11 1L8.5 8.5l.94-2.06 2.06-.94-2.06-.94L8.5 2.5l-.94 2.06-2.06.94zm10 10l.94 2.06.94-2.06 2.06-.94-2.06-.94-.94-2.06-.94 2.06-2.06.94z\"/><path d=\"M17.41 7.96l-1.37-1.37c-.4-.4-.92-.59-1.43-.59-.52 0-1.04.2-1.43.59L10.3 9.45l-7.72 7.72c-.78.78-.78 2.05 0 2.83L4 21.41c.39.39.9.59 1.41.59.51 0 1.02-.2 1.41-.59l7.78-7.78 2.81-2.81c.8-.78.8-2.07 0-2.86zM5.41 20L4 18.59l7.72-7.72 1.47 1.35L5.41 20z\"/>\n",
              "  </svg>\n",
              "      </button>\n",
              "      \n",
              "  <style>\n",
              "    .colab-df-container {\n",
              "      display:flex;\n",
              "      flex-wrap:wrap;\n",
              "      gap: 12px;\n",
              "    }\n",
              "\n",
              "    .colab-df-convert {\n",
              "      background-color: #E8F0FE;\n",
              "      border: none;\n",
              "      border-radius: 50%;\n",
              "      cursor: pointer;\n",
              "      display: none;\n",
              "      fill: #1967D2;\n",
              "      height: 32px;\n",
              "      padding: 0 0 0 0;\n",
              "      width: 32px;\n",
              "    }\n",
              "\n",
              "    .colab-df-convert:hover {\n",
              "      background-color: #E2EBFA;\n",
              "      box-shadow: 0px 1px 2px rgba(60, 64, 67, 0.3), 0px 1px 3px 1px rgba(60, 64, 67, 0.15);\n",
              "      fill: #174EA6;\n",
              "    }\n",
              "\n",
              "    [theme=dark] .colab-df-convert {\n",
              "      background-color: #3B4455;\n",
              "      fill: #D2E3FC;\n",
              "    }\n",
              "\n",
              "    [theme=dark] .colab-df-convert:hover {\n",
              "      background-color: #434B5C;\n",
              "      box-shadow: 0px 1px 3px 1px rgba(0, 0, 0, 0.15);\n",
              "      filter: drop-shadow(0px 1px 2px rgba(0, 0, 0, 0.3));\n",
              "      fill: #FFFFFF;\n",
              "    }\n",
              "  </style>\n",
              "\n",
              "      <script>\n",
              "        const buttonEl =\n",
              "          document.querySelector('#df-800e1842-c7b6-425d-90ab-200fdd9a99df button.colab-df-convert');\n",
              "        buttonEl.style.display =\n",
              "          google.colab.kernel.accessAllowed ? 'block' : 'none';\n",
              "\n",
              "        async function convertToInteractive(key) {\n",
              "          const element = document.querySelector('#df-800e1842-c7b6-425d-90ab-200fdd9a99df');\n",
              "          const dataTable =\n",
              "            await google.colab.kernel.invokeFunction('convertToInteractive',\n",
              "                                                     [key], {});\n",
              "          if (!dataTable) return;\n",
              "\n",
              "          const docLinkHtml = 'Like what you see? Visit the ' +\n",
              "            '<a target=\"_blank\" href=https://colab.research.google.com/notebooks/data_table.ipynb>data table notebook</a>'\n",
              "            + ' to learn more about interactive tables.';\n",
              "          element.innerHTML = '';\n",
              "          dataTable['output_type'] = 'display_data';\n",
              "          await google.colab.output.renderOutput(dataTable, element);\n",
              "          const docLink = document.createElement('div');\n",
              "          docLink.innerHTML = docLinkHtml;\n",
              "          element.appendChild(docLink);\n",
              "        }\n",
              "      </script>\n",
              "    </div>\n",
              "  </div>\n",
              "  "
            ]
          },
          "metadata": {},
          "execution_count": 30
        }
      ],
      "source": [
        "df_test.head()"
      ]
    },
    {
      "cell_type": "markdown",
      "id": "b3e0e1aa",
      "metadata": {
        "id": "b3e0e1aa"
      },
      "source": [
        "# 8. This is a binary classification problem with  imbalanced classes, what are the appropriate metrics for this task?\n",
        "\n",
        "select all which apply\n",
        "\n",
        "- accuracy score\n",
        "- roc auc score\n",
        "- f1 score\n",
        "- mean absolute error\n",
        "- r-squared\n",
        "- precision"
      ]
    },
    {
      "cell_type": "code",
      "execution_count": null,
      "id": "533c9589",
      "metadata": {
        "id": "533c9589",
        "colab": {
          "base_uri": "https://localhost:8080/",
          "height": 36
        },
        "outputId": "ebafd421-2315-4628-eeec-6cd8c0b3e86e"
      },
      "outputs": [
        {
          "output_type": "execute_result",
          "data": {
            "text/plain": [
              "'The appropriate metrics for this task are:\\n\\nAccuracy score\\nROC AUC score\\nF1 score\\nPrecision\\n'"
            ],
            "application/vnd.google.colaboratory.intrinsic+json": {
              "type": "string"
            }
          },
          "metadata": {},
          "execution_count": 31
        }
      ],
      "source": [
        "\"\"\"The appropriate metrics for this task are:\n",
        "\n",
        "Accuracy score\n",
        "ROC AUC score\n",
        "F1 score\n",
        "Precision\n",
        "\"\"\""
      ]
    },
    {
      "cell_type": "markdown",
      "id": "6b8da5d3",
      "metadata": {
        "id": "6b8da5d3"
      },
      "source": [
        "# 9. Train a Random Forest Classifier on a `train` set\n",
        "\n",
        "Use RandomForestClassifier with default hyperparameters. What is the f1 score of a trained model on a test set?"
      ]
    },
    {
      "cell_type": "code",
      "execution_count": null,
      "id": "65d83f0d",
      "metadata": {
        "id": "65d83f0d"
      },
      "outputs": [],
      "source": [
        "from sklearn.ensemble import RandomForestClassifier\n",
        "from sklearn.metrics import f1_score"
      ]
    },
    {
      "cell_type": "code",
      "execution_count": null,
      "id": "c3204473",
      "metadata": {
        "id": "c3204473"
      },
      "outputs": [],
      "source": [
        "# y_pred_rf = model.predict_proba(...)"
      ]
    },
    {
      "cell_type": "code",
      "execution_count": null,
      "id": "3d98d407",
      "metadata": {
        "id": "3d98d407",
        "colab": {
          "base_uri": "https://localhost:8080/"
        },
        "outputId": "70330483-38c5-47f8-8a6f-8e15c160d8b5"
      },
      "outputs": [
        {
          "output_type": "stream",
          "name": "stdout",
          "text": [
            "F1 score on the test set: 0.8685082872928177\n"
          ]
        }
      ],
      "source": [
        "# Create a Random Forest Classifier with default hyperparameters\n",
        "rf_classifier = RandomForestClassifier()\n",
        "\n",
        "# Train the classifier on the train set\n",
        "rf_classifier.fit(df_train.drop('Attrition_Flag', axis=1), df_train['Attrition_Flag'])\n",
        "\n",
        "# Make predictions on the test set\n",
        "y_pred_rf = rf_classifier.predict(df_test.drop('Attrition_Flag', axis=1))\n",
        "\n",
        "# Calculate the F1 score\n",
        "f1 = f1_score(df_test['Attrition_Flag'], y_pred_rf)\n",
        "\n",
        "# Print the F1 score\n",
        "print(\"F1 score on the test set:\", f1)"
      ]
    },
    {
      "cell_type": "markdown",
      "id": "6ef2763d",
      "metadata": {
        "id": "6ef2763d"
      },
      "source": [
        "# 10. Build a confusion matrix with a default probability threshold (0.5)\n",
        "\n",
        "To analyse the resulting algorithm we will take a closer look on individual predictions. How many False Positives and False Negatives do you have?\n"
      ]
    },
    {
      "cell_type": "code",
      "execution_count": null,
      "id": "1f345e52",
      "metadata": {
        "id": "1f345e52"
      },
      "outputs": [],
      "source": [
        "from sklearn.metrics import confusion_matrix"
      ]
    },
    {
      "cell_type": "code",
      "execution_count": null,
      "id": "e9060e03",
      "metadata": {
        "id": "e9060e03",
        "colab": {
          "base_uri": "https://localhost:8080/",
          "height": 641
        },
        "outputId": "d2c6a37d-e93a-4578-82db-ec2b55a18bd6"
      },
      "outputs": [
        {
          "output_type": "display_data",
          "data": {
            "text/plain": [
              "<Figure size 1000x700 with 2 Axes>"
            ],
            "image/png": "[encoded data removed]"
          },
          "metadata": {}
        }
      ],
      "source": [
        "from sklearn.metrics import confusion_matrix\n",
        "import seaborn as sns\n",
        "import matplotlib.pyplot as plt\n",
        "\n",
        "# Create confusion matrix\n",
        "cm = confusion_matrix(df_test['Attrition_Flag'], y_pred_rf>0.5)\n",
        "\n",
        "# Visualize the confusion matrix using seaborn\n",
        "plt.figure(figsize=(10,7))\n",
        "sns.heatmap(cm, annot=True, fmt=\"d\")\n",
        "plt.title(\"Confusion matrix\")\n",
        "plt.ylabel('True label')\n",
        "plt.xlabel('Predicted label')\n",
        "plt.show()"
      ]
    },
    {
      "cell_type": "markdown",
      "id": "a3d8da38",
      "metadata": {
        "id": "a3d8da38"
      },
      "source": [
        "# 11. We will change probability threshold from 0.05 to 0.95 with step 0.05\n",
        "\n",
        "What happens to the number of True Positives and to the number of False Negatives, as you increase the probability threshold?\n"
      ]
    },
    {
      "cell_type": "code",
      "execution_count": null,
      "id": "477073d5",
      "metadata": {
        "id": "477073d5"
      },
      "outputs": [],
      "source": [
        "import numpy as np"
      ]
    },
    {
      "cell_type": "code",
      "execution_count": null,
      "id": "d35f7116",
      "metadata": {
        "id": "d35f7116"
      },
      "outputs": [],
      "source": [
        "true_positives = []\n",
        "false_negatives = []\n",
        "for t in np.linspace(0.05,0.95,19):\n",
        "    cm = confusion_matrix(df_test['Attrition_Flag'], y_pred_rf>0.5)\n",
        "    tp, fn = cm[1,1], cm[1,0]\n",
        "    true_positives.append(tp)\n",
        "    false_negatives.append(fn)"
      ]
    },
    {
      "cell_type": "code",
      "execution_count": null,
      "id": "1436bec9",
      "metadata": {
        "id": "1436bec9",
        "colab": {
          "base_uri": "https://localhost:8080/",
          "height": 449
        },
        "outputId": "e9d6099c-f5aa-468d-d26e-4c2c85065824"
      },
      "outputs": [
        {
          "output_type": "display_data",
          "data": {
            "text/plain": [
              "<Figure size 640x480 with 1 Axes>"
            ],
            "image/png": "[encoded data removed]"
          },
          "metadata": {}
        }
      ],
      "source": [
        "plt.plot(np.linspace(0.05,0.95,19), true_positives, label='True Positives')\n",
        "plt.plot(np.linspace(0.05,0.95,19), false_negatives, label='False Negatives')\n",
        "plt.xlabel('Probability threshold')\n",
        "plt.ylabel('# observations')\n",
        "plt.legend();"
      ]
    },
    {
      "cell_type": "code",
      "execution_count": null,
      "id": "8b8fc1a5",
      "metadata": {
        "id": "8b8fc1a5",
        "colab": {
          "base_uri": "https://localhost:8080/"
        },
        "outputId": "2a5d04c8-3e59-42ae-d321-0fd186c1c954"
      },
      "outputs": [
        {
          "output_type": "stream",
          "name": "stdout",
          "text": [
            "Threshold: 0.05\n",
            "True Positives: 393\n",
            "False Negatives: 95\n",
            "--------------------\n",
            "Threshold: 0.1\n",
            "True Positives: 393\n",
            "False Negatives: 95\n",
            "--------------------\n",
            "Threshold: 0.15\n",
            "True Positives: 393\n",
            "False Negatives: 95\n",
            "--------------------\n",
            "Threshold: 0.2\n",
            "True Positives: 393\n",
            "False Negatives: 95\n",
            "--------------------\n",
            "Threshold: 0.25\n",
            "True Positives: 393\n",
            "False Negatives: 95\n",
            "--------------------\n",
            "Threshold: 0.3\n",
            "True Positives: 393\n",
            "False Negatives: 95\n",
            "--------------------\n",
            "Threshold: 0.35\n",
            "True Positives: 393\n",
            "False Negatives: 95\n",
            "--------------------\n",
            "Threshold: 0.39999999999999997\n",
            "True Positives: 393\n",
            "False Negatives: 95\n",
            "--------------------\n",
            "Threshold: 0.44999999999999996\n",
            "True Positives: 393\n",
            "False Negatives: 95\n",
            "--------------------\n",
            "Threshold: 0.49999999999999994\n",
            "True Positives: 393\n",
            "False Negatives: 95\n",
            "--------------------\n",
            "Threshold: 0.5499999999999999\n",
            "True Positives: 393\n",
            "False Negatives: 95\n",
            "--------------------\n",
            "Threshold: 0.6\n",
            "True Positives: 393\n",
            "False Negatives: 95\n",
            "--------------------\n",
            "Threshold: 0.65\n",
            "True Positives: 393\n",
            "False Negatives: 95\n",
            "--------------------\n",
            "Threshold: 0.7\n",
            "True Positives: 393\n",
            "False Negatives: 95\n",
            "--------------------\n",
            "Threshold: 0.75\n",
            "True Positives: 393\n",
            "False Negatives: 95\n",
            "--------------------\n",
            "Threshold: 0.7999999999999999\n",
            "True Positives: 393\n",
            "False Negatives: 95\n",
            "--------------------\n",
            "Threshold: 0.85\n",
            "True Positives: 393\n",
            "False Negatives: 95\n",
            "--------------------\n",
            "Threshold: 0.9\n",
            "True Positives: 393\n",
            "False Negatives: 95\n",
            "--------------------\n",
            "Threshold: 0.95\n",
            "True Positives: 393\n",
            "False Negatives: 95\n",
            "--------------------\n"
          ]
        }
      ],
      "source": [
        "import numpy as np\n",
        "\n",
        "# Define the range of probability thresholds\n",
        "thresholds = np.linspace(0.05,0.95,19)\n",
        "\n",
        "# Initialize lists to store the number of True Positives and False Negatives\n",
        "true_positives = []\n",
        "false_negatives = []\n",
        "\n",
        "# Iterate over the probability thresholds\n",
        "for threshold in thresholds:\n",
        "    # Apply the probability threshold to the predicted probabilities\n",
        "    predictions = y_pred_rf > threshold\n",
        "\n",
        "    # Calculate the number of True Positives and False Negatives\n",
        "    true_positives.append(np.sum((predictions == 1) & (df_test['Attrition_Flag'] == 1)))\n",
        "    false_negatives.append(np.sum((predictions == 0) & (df_test['Attrition_Flag'] == 1)))\n",
        "\n",
        "# Print the changes in True Positives and False Negatives\n",
        "for threshold, tp, fn in zip(thresholds, true_positives, false_negatives):\n",
        "    print(\"Threshold:\", threshold)\n",
        "    print(\"True Positives:\", tp)\n",
        "    print(\"False Negatives:\", fn)\n",
        "    print(\"--------------------\")\n"
      ]
    },
    {
      "cell_type": "markdown",
      "id": "822be055",
      "metadata": {
        "id": "822be055"
      },
      "source": [
        "# 12. Estimate revenue\n",
        "\n",
        "Let's consider a toy economic setup:\n",
        "1. Each client earns a company $50\\$$ per month\n",
        "2. If you predict that a client will churn, the company can provide she with a discount of $200\\$$ and the client will stay for another year\n",
        "\n",
        "If the company do nothing (has no Churn model), then the revenue over the year will be:\n",
        "\n",
        "$$S = N*50*12 + P*0$$\n",
        "\n",
        "where N (negative) is number of non-Churn clients, and P (positive) is number of clients who Churn. If the company implements some Churn model, the revenue will be the following:\n",
        "\n",
        "$$S = TN*50*12 + FP*(50*12-200) + TP*(50*12-200)  + FN * 0$$\n",
        "\n",
        "where\n",
        "- TN are non-Churning clients, predicted as non-Churning (true negatives)\n",
        "- FP are non-Churning clients, predicted as Churning (false positives)\n",
        "- TP are Churning clients, predicted as Churning (true positives)\n",
        "- FN are Churning clients, predicted as non-Churning (false negatives)\n",
        "\n",
        "## Compute the revenue for different thresholds based on your model, what is the optimal probability threshold? Report two numbers divided by a comma, e.g. `0.5,1500000`"
      ]
    },
    {
      "cell_type": "code",
      "execution_count": null,
      "id": "da433bed",
      "metadata": {
        "id": "da433bed"
      },
      "outputs": [],
      "source": [
        "profit = []\n",
        "for t in np.linspace(0.05,0.95,19):\n",
        "    cm = confusion_matrix(df_test['Attrition_Flag'], y_pred_rf>t)\n",
        "    tn, fp, tp, fn = cm[0,0], cm[0,1], cm[1,1], cm[1,0]\n",
        "    S = tn*50*12 + fp*(50*12-200) + tp*(50*12-200)\n",
        "    profit.append(S)"
      ]
    },
    {
      "cell_type": "code",
      "execution_count": null,
      "id": "e6256091",
      "metadata": {
        "id": "e6256091",
        "colab": {
          "base_uri": "https://localhost:8080/",
          "height": 465
        },
        "outputId": "4323283c-2600-4dbc-ecc8-84ae3f62b476"
      },
      "outputs": [
        {
          "output_type": "display_data",
          "data": {
            "text/plain": [
              "<Figure size 640x480 with 1 Axes>"
            ],
            "image/png": "[encoded data removed]"
          },
          "metadata": {}
        }
      ],
      "source": [
        "plt.plot(np.linspace(0.05,0.95,19), profit);\n",
        "plt.xlabel('Probability')\n",
        "plt.ylabel('Revenue, mln $');"
      ]
    },
    {
      "cell_type": "code",
      "execution_count": null,
      "id": "7e56a4ac",
      "metadata": {
        "id": "7e56a4ac",
        "colab": {
          "base_uri": "https://localhost:8080/"
        },
        "outputId": "f52314b0-8f64-476c-ed7c-9cf696caefdd"
      },
      "outputs": [
        {
          "output_type": "stream",
          "name": "stdout",
          "text": [
            "Optimal Threshold: 0.05\n",
            "Maximum Revenue: 1683000\n"
          ]
        }
      ],
      "source": [
        "# Define the range of probability thresholds\n",
        "thresholds = np.linspace(0.05,0.95,19)\n",
        "\n",
        "# Initialize variables to store the optimal threshold and maximum revenue\n",
        "optimal_threshold = 0\n",
        "max_revenue = -np.inf\n",
        "\n",
        "# Iterate over the probability thresholds\n",
        "for threshold in thresholds:\n",
        "    # Apply the threshold to the predicted probabilities\n",
        "    predictions = y_pred_rf > threshold\n",
        "\n",
        "    # Calculate the number of True Positives (TP), False Positives (FP), True Negatives (TN), and False Negatives (FN)\n",
        "    TP = np.sum((predictions == 1) & (df_test['Attrition_Flag'] == 1))\n",
        "    FP = np.sum((predictions == 1) & (df_test['Attrition_Flag'] == 0))\n",
        "    TN = np.sum((predictions == 0) & (df_test['Attrition_Flag'] == 0))\n",
        "    FN = np.sum((predictions == 0) & (df_test['Attrition_Flag'] == 1))\n",
        "\n",
        "    # Calculate the revenue based on the formula\n",
        "    revenue = TN * 50 * 12 + FP * (50 * 12 - 200) + TP * (50 * 12 - 200) + FN * 0\n",
        "\n",
        "    # Check if the current revenue is greater than the maximum revenue\n",
        "    if revenue > max_revenue:\n",
        "        max_revenue = revenue\n",
        "        optimal_threshold = threshold\n",
        "\n",
        "# Print the optimal threshold and maximum revenue\n",
        "print(\"Optimal Threshold:\", optimal_threshold)\n",
        "print(\"Maximum Revenue:\", max_revenue)\n"
      ]
    },
    {
      "cell_type": "code",
      "execution_count": null,
      "id": "69e2b704",
      "metadata": {
        "id": "69e2b704"
      },
      "outputs": [],
      "source": []
    },
    {
      "cell_type": "markdown",
      "id": "c4abf7ce",
      "metadata": {
        "id": "c4abf7ce"
      },
      "source": [
        "# 13. Compute economic value\n",
        "\n",
        "Is there any economic value from introducing a ML model (compared to not using a model and not providing a discounts)?\n",
        "\n",
        "First scenario - no ML model, no discounts; Second scenario - ML model from question 12."
      ]
    },
    {
      "cell_type": "code",
      "execution_count": null,
      "id": "53c5a2d3",
      "metadata": {
        "id": "53c5a2d3",
        "colab": {
          "base_uri": "https://localhost:8080/"
        },
        "outputId": "d201cffa-005b-4585-fd6f-823cdd57ee75"
      },
      "outputs": [
        {
          "output_type": "stream",
          "name": "stdout",
          "text": [
            "Economic Value: -140400\n"
          ]
        }
      ],
      "source": [
        "# Calculate the revenue for Scenario 1 (no ML model, no discounts)\n",
        "revenue_scenario1 = len(df_test.drop('Attrition_Flag', axis=1)) * 50 * 12\n",
        "\n",
        "# Calculate the revenue for Scenario 2 (ML model with discounts)\n",
        "revenue_scenario2 = TN * 50 * 12 + FP * (50 * 12 - 200) + TP * (50 * 12 - 200) + FN * 0\n",
        "\n",
        "# Compute the economic value\n",
        "economic_value = revenue_scenario2 - revenue_scenario1\n",
        "\n",
        "# Print the economic value\n",
        "print(\"Economic Value:\", economic_value)\n"
      ]
    },
    {
      "cell_type": "code",
      "execution_count": null,
      "id": "34416519",
      "metadata": {
        "id": "34416519"
      },
      "outputs": [],
      "source": []
    },
    {
      "cell_type": "code",
      "execution_count": null,
      "id": "e3986ea6",
      "metadata": {
        "id": "e3986ea6"
      },
      "outputs": [],
      "source": []
    },
    {
      "cell_type": "markdown",
      "id": "515bc968",
      "metadata": {
        "id": "515bc968"
      },
      "source": [
        "# 14. Build a confusion matrix\n",
        "\n",
        "assosiated with an optimal probability threshold. What happend to the number of False Positives and False Negatives, compared to the default probability threshold (question 10)?"
      ]
    },
    {
      "cell_type": "code",
      "execution_count": null,
      "id": "36775560",
      "metadata": {
        "id": "36775560",
        "colab": {
          "base_uri": "https://localhost:8080/",
          "height": 641
        },
        "outputId": "729f1acf-4565-4e0c-df63-ea1483408a36"
      },
      "outputs": [
        {
          "output_type": "display_data",
          "data": {
            "text/plain": [
              "<Figure size 1000x700 with 2 Axes>"
            ],
            "image/png": "[encoded data removed]"
          },
          "metadata": {}
        }
      ],
      "source": [
        "import seaborn as sns\n",
        "import matplotlib.pyplot as plt\n",
        "\n",
        "# Create confusion matrix\n",
        "cm = confusion_matrix(df_test['Attrition_Flag'], y_pred_rf>0.05)\n",
        "\n",
        "# Visualize the confusion matrix using seaborn\n",
        "plt.figure(figsize=(10,7))\n",
        "sns.heatmap(cm, annot=True, fmt=\"d\")\n",
        "plt.title(\"Confusion matrix\")\n",
        "plt.ylabel('True label')\n",
        "plt.xlabel('Predicted label')\n",
        "plt.show()"
      ]
    },
    {
      "cell_type": "code",
      "execution_count": null,
      "id": "300ecf80",
      "metadata": {
        "id": "300ecf80",
        "colab": {
          "base_uri": "https://localhost:8080/",
          "height": 53
        },
        "outputId": "14490919-b289-4edc-bee5-6fab30af34e0"
      },
      "outputs": [
        {
          "output_type": "execute_result",
          "data": {
            "text/plain": [
              "'based on the results there is no change in the number of False Positives and False Negatives, \\nhowever by decreasing the probability threshold from the default threshold, the number of False Positives (FP) \\nis expected to increase and the number of False Negatives (FN) is expected to decrease.'"
            ],
            "application/vnd.google.colaboratory.intrinsic+json": {
              "type": "string"
            }
          },
          "metadata": {},
          "execution_count": 46
        }
      ],
      "source": [
        "\"\"\"based on the results there is no change in the number of False Positives and False Negatives,\n",
        "however by decreasing the probability threshold from the default threshold, the number of False Positives (FP)\n",
        "is expected to increase and the number of False Negatives (FN) is expected to decrease.\"\"\""
      ]
    },
    {
      "cell_type": "code",
      "execution_count": null,
      "id": "1e737844",
      "metadata": {
        "id": "1e737844"
      },
      "outputs": [],
      "source": []
    },
    {
      "cell_type": "markdown",
      "id": "d5810b7c",
      "metadata": {
        "id": "d5810b7c"
      },
      "source": [
        "# 15. What if the price to keep the client goes up to 500?\n",
        "\n",
        "Does optimal probability treshold changes?"
      ]
    },
    {
      "cell_type": "code",
      "execution_count": null,
      "id": "fccb8269",
      "metadata": {
        "id": "fccb8269",
        "colab": {
          "base_uri": "https://localhost:8080/"
        },
        "outputId": "684a76d1-62ab-4a35-9e48-0c0cee196bf7"
      },
      "outputs": [
        {
          "output_type": "stream",
          "name": "stdout",
          "text": [
            "Optimal Threshold: 0.05\n",
            "Maximum Revenue: 1557900\n"
          ]
        }
      ],
      "source": [
        "# Define the range of probability thresholds\n",
        "thresholds = np.linspace(0.05,0.95,19)\n",
        "\n",
        "# Initialize variables to store the optimal threshold and maximum revenue\n",
        "optimal_threshold = 0\n",
        "max_revenue = -np.inf\n",
        "\n",
        "# Cost of keeping the client\n",
        "keep_cost = 500\n",
        "\n",
        "# Iterate over the probability thresholds\n",
        "for threshold in thresholds:\n",
        "    # Apply the threshold to the predicted probabilities\n",
        "    predictions = y_pred_rf> threshold\n",
        "\n",
        "    # Calculate the number of True Positives (TP), False Positives (FP), True Negatives (TN), and False Negatives (FN)\n",
        "    TP = np.sum((predictions == 1) & (df_test['Attrition_Flag'] == 1))\n",
        "    FP = np.sum((predictions == 1) & (df_test['Attrition_Flag'] == 0))\n",
        "    TN = np.sum((predictions == 0) & (df_test['Attrition_Flag'] == 0))\n",
        "    FN = np.sum((predictions == 0) & (df_test['Attrition_Flag'] == 1))\n",
        "\n",
        "    # Calculate the revenue based on the formula with updated keep_cost\n",
        "    revenue = TN * 50 * 12 + FP * (50 * 12 - keep_cost) + TP * (50 * 12 - keep_cost) + FN * 0\n",
        "\n",
        "    # Check if the current revenue is greater than the maximum revenue\n",
        "    if revenue > max_revenue:\n",
        "        max_revenue = revenue\n",
        "        optimal_threshold = threshold\n",
        "\n",
        "# Print the optimal threshold and maximum revenue\n",
        "print(\"Optimal Threshold:\", optimal_threshold)\n",
        "print(\"Maximum Revenue:\", max_revenue)\n"
      ]
    },
    {
      "cell_type": "code",
      "execution_count": null,
      "id": "2d9869cc",
      "metadata": {
        "id": "2d9869cc"
      },
      "outputs": [],
      "source": []
    },
    {
      "cell_type": "markdown",
      "id": "09215063",
      "metadata": {
        "id": "09215063"
      },
      "source": [
        "# 16. Built an assosiated confusion matrix\n",
        "\n",
        "How many False Positives and False Negatives do you have?"
      ]
    },
    {
      "cell_type": "code",
      "execution_count": null,
      "id": "610910b5",
      "metadata": {
        "id": "610910b5",
        "colab": {
          "base_uri": "https://localhost:8080/",
          "height": 676
        },
        "outputId": "8ebc0f1f-6889-4960-ccd2-19c4d1cd8dec"
      },
      "outputs": [
        {
          "output_type": "stream",
          "name": "stdout",
          "text": [
            "False Positives (FP): 24\n",
            "False Negatives (FN): 95\n"
          ]
        },
        {
          "output_type": "display_data",
          "data": {
            "text/plain": [
              "<Figure size 1000x700 with 2 Axes>"
            ],
            "image/png": "[encoded data removed]"
          },
          "metadata": {}
        }
      ],
      "source": [
        "# Apply the threshold to the predicted probabilities\n",
        "predictions = y_pred_rf> 0.05\n",
        "\n",
        "# Calculate the number of False Positives (FP) and False Negatives (FN)\n",
        "FP = np.sum((predictions == 1) & (df_test['Attrition_Flag'] == 0))\n",
        "FN = np.sum((predictions == 0) & (df_test['Attrition_Flag'] == 1))\n",
        "\n",
        "# Print the results\n",
        "print(\"False Positives (FP):\", FP)\n",
        "print(\"False Negatives (FN):\", FN)\n",
        "\n",
        "# Create confusion matrix\n",
        "cm = confusion_matrix(df_test['Attrition_Flag'], y_pred_rf>0.05)\n",
        "\n",
        "# Visualize the confusion matrix using seaborn\n",
        "plt.figure(figsize=(10,7))\n",
        "sns.heatmap(cm, annot=True, fmt=\"d\")\n",
        "plt.title(\"Confusion matrix\")\n",
        "plt.ylabel('True label')\n",
        "plt.xlabel('Predicted label')\n",
        "plt.show()\n"
      ]
    },
    {
      "cell_type": "markdown",
      "id": "ad2666f9",
      "metadata": {
        "id": "ad2666f9"
      },
      "source": [
        "# 17. Compare confusion matrices from 14 and 16\n",
        "\n"
      ]
    },
    {
      "cell_type": "code",
      "execution_count": null,
      "id": "30d5c9e9",
      "metadata": {
        "id": "30d5c9e9",
        "colab": {
          "base_uri": "https://localhost:8080/"
        },
        "outputId": "3ad74061-b9fd-4558-a037-cedb430a0777"
      },
      "outputs": [
        {
          "output_type": "stream",
          "name": "stdout",
          "text": [
            "Confusion Matrix 1:\n",
            "[[2525, 26], [107, 381]]\n",
            "Accuracy: 0.9608423823626193\n",
            "Precision: 0.9424460431654677\n",
            "Recall: 0.805327868852459\n",
            "F1 Score: 0.8685082872928177\n",
            "\n",
            "Confusion Matrix 2:\n",
            "[[2525, 26], [107, 381]]\n",
            "Accuracy: 0.9608423823626193\n",
            "Precision: 0.9424460431654677\n",
            "Recall: 0.805327868852459\n",
            "F1 Score: 0.8685082872928177\n"
          ]
        }
      ],
      "source": [
        "from sklearn.metrics import confusion_matrix, accuracy_score, precision_score, recall_score, f1_score\n",
        "\n",
        "# Confusion matrix 1\n",
        "cm1 = [[2525, 26], [107, 381]]\n",
        "\n",
        "# Confusion matrix 2\n",
        "cm2 = [[2525, 26], [107, 381]]\n",
        "\n",
        "# Compute performance metrics for confusion matrix 1\n",
        "accuracy1 = accuracy_score(df_test['Attrition_Flag'], y_pred_rf)\n",
        "precision1 = precision_score(df_test['Attrition_Flag'], y_pred_rf)\n",
        "recall1 = recall_score(df_test['Attrition_Flag'], y_pred_rf)\n",
        "f1_score1 = f1_score(df_test['Attrition_Flag'], y_pred_rf)\n",
        "\n",
        "# Compute performance metrics for confusion matrix 2\n",
        "accuracy2 =  accuracy_score(df_test['Attrition_Flag'], y_pred_rf)\n",
        "precision2 = precision_score(df_test['Attrition_Flag'], y_pred_rf)\n",
        "recall2 = recall_score(df_test['Attrition_Flag'], y_pred_rf)\n",
        "f1_score2 = f1_score(df_test['Attrition_Flag'], y_pred_rf)\n",
        "\n",
        "# Print the performance metrics\n",
        "print(\"Confusion Matrix 1:\")\n",
        "print(cm1)\n",
        "print(\"Accuracy:\", accuracy1)\n",
        "print(\"Precision:\", precision1)\n",
        "print(\"Recall:\", recall1)\n",
        "print(\"F1 Score:\", f1_score1)\n",
        "print()\n",
        "\n",
        "print(\"Confusion Matrix 2:\")\n",
        "print(cm2)\n",
        "print(\"Accuracy:\", accuracy2)\n",
        "print(\"Precision:\", precision2)\n",
        "print(\"Recall:\", recall2)\n",
        "print(\"F1 Score:\", f1_score2)\n"
      ]
    },
    {
      "cell_type": "markdown",
      "id": "c6ff7a49",
      "metadata": {
        "id": "c6ff7a49"
      },
      "source": [
        "# 18. Train catboost\n",
        "\n",
        "Train a catboost.CatBoostClassifier on a **unprocessed data** (no preprocessing for categorical columns) with default hyperparameters, see example below."
      ]
    },
    {
      "cell_type": "code",
      "execution_count": null,
      "id": "60c1781a",
      "metadata": {
        "id": "60c1781a"
      },
      "outputs": [],
      "source": [
        "df = pd.read_csv('BankChurners.csv')\n",
        "\n",
        "# We will drop two last columns from the table\n",
        "df = df.drop([\n",
        "    'CLIENTNUM',\n",
        "    'Naive_Bayes_Classifier_Attrition_Flag_Card_Category_Contacts_Count_12_mon_Dependent_count_Education_Level_Months_Inactive_12_mon_1',\n",
        "    'Naive_Bayes_Classifier_Attrition_Flag_Card_Category_Contacts_Count_12_mon_Dependent_count_Education_Level_Months_Inactive_12_mon_2'],\n",
        "    axis=1)"
      ]
    },
    {
      "cell_type": "code",
      "source": [
        "!pip install catboost"
      ],
      "metadata": {
        "colab": {
          "base_uri": "https://localhost:8080/"
        },
        "id": "uOa2j7pWHhAM",
        "outputId": "d68c4aee-8ae7-43b0-9efb-a7c7fed9ff28"
      },
      "id": "uOa2j7pWHhAM",
      "execution_count": null,
      "outputs": [
        {
          "output_type": "stream",
          "name": "stdout",
          "text": [
            "Looking in indexes: https://pypi.org/simple, https://us-python.pkg.dev/colab-wheels/public/simple/\n",
            "Requirement already satisfied: catboost in /usr/local/lib/python3.10/dist-packages (1.2)\n",
            "Requirement already satisfied: graphviz in /usr/local/lib/python3.10/dist-packages (from catboost) (0.20.1)\n",
            "Requirement already satisfied: matplotlib in /usr/local/lib/python3.10/dist-packages (from catboost) (3.7.1)\n",
            "Requirement already satisfied: numpy>=1.16.0 in /usr/local/lib/python3.10/dist-packages (from catboost) (1.22.4)\n",
            "Requirement already satisfied: pandas>=0.24 in /usr/local/lib/python3.10/dist-packages (from catboost) (1.5.3)\n",
            "Requirement already satisfied: scipy in /usr/local/lib/python3.10/dist-packages (from catboost) (1.10.1)\n",
            "Requirement already satisfied: plotly in /usr/local/lib/python3.10/dist-packages (from catboost) (5.13.1)\n",
            "Requirement already satisfied: six in /usr/local/lib/python3.10/dist-packages (from catboost) (1.16.0)\n",
            "Requirement already satisfied: python-dateutil>=2.8.1 in /usr/local/lib/python3.10/dist-packages (from pandas>=0.24->catboost) (2.8.2)\n",
            "Requirement already satisfied: pytz>=2020.1 in /usr/local/lib/python3.10/dist-packages (from pandas>=0.24->catboost) (2022.7.1)\n",
            "Requirement already satisfied: contourpy>=1.0.1 in /usr/local/lib/python3.10/dist-packages (from matplotlib->catboost) (1.0.7)\n",
            "Requirement already satisfied: cycler>=0.10 in /usr/local/lib/python3.10/dist-packages (from matplotlib->catboost) (0.11.0)\n",
            "Requirement already satisfied: fonttools>=4.22.0 in /usr/local/lib/python3.10/dist-packages (from matplotlib->catboost) (4.39.3)\n",
            "Requirement already satisfied: kiwisolver>=1.0.1 in /usr/local/lib/python3.10/dist-packages (from matplotlib->catboost) (1.4.4)\n",
            "Requirement already satisfied: packaging>=20.0 in /usr/local/lib/python3.10/dist-packages (from matplotlib->catboost) (23.1)\n",
            "Requirement already satisfied: pillow>=6.2.0 in /usr/local/lib/python3.10/dist-packages (from matplotlib->catboost) (8.4.0)\n",
            "Requirement already satisfied: pyparsing>=2.3.1 in /usr/local/lib/python3.10/dist-packages (from matplotlib->catboost) (3.0.9)\n",
            "Requirement already satisfied: tenacity>=6.2.0 in /usr/local/lib/python3.10/dist-packages (from plotly->catboost) (8.2.2)\n"
          ]
        }
      ]
    },
    {
      "cell_type": "code",
      "execution_count": null,
      "id": "8fbb9611",
      "metadata": {
        "id": "8fbb9611"
      },
      "outputs": [],
      "source": [
        "from catboost import CatBoostClassifier"
      ]
    },
    {
      "cell_type": "code",
      "execution_count": null,
      "id": "23d1dbaa",
      "metadata": {
        "id": "23d1dbaa"
      },
      "outputs": [],
      "source": [
        "df1_train, df1_test = train_test_split(df, test_size=0.3, stratify=df['Attrition_Flag'])"
      ]
    },
    {
      "cell_type": "code",
      "execution_count": null,
      "id": "aa163b02",
      "metadata": {
        "id": "aa163b02",
        "colab": {
          "base_uri": "https://localhost:8080/"
        },
        "outputId": "f4b9cea2-148d-4bcf-bb2b-cac0c72a3c1a"
      },
      "outputs": [
        {
          "output_type": "execute_result",
          "data": {
            "text/plain": [
              "['Gender',\n",
              " 'Education_Level',\n",
              " 'Marital_Status',\n",
              " 'Income_Category',\n",
              " 'Card_Category']"
            ]
          },
          "metadata": {},
          "execution_count": 54
        }
      ],
      "source": [
        "categorical_columns = list(df.select_dtypes(include=['object']).columns)# put all categorical columns names instead of ...\n",
        "categorical_columns.remove('Attrition_Flag')\n",
        "categorical_columns"
      ]
    },
    {
      "cell_type": "code",
      "execution_count": null,
      "id": "b942fa0d",
      "metadata": {
        "id": "b942fa0d"
      },
      "outputs": [],
      "source": [
        "clf = CatBoostClassifier()"
      ]
    },
    {
      "cell_type": "code",
      "execution_count": null,
      "id": "42ece33d",
      "metadata": {
        "id": "42ece33d",
        "colab": {
          "base_uri": "https://localhost:8080/"
        },
        "outputId": "1f8c7fed-8d3d-4b13-aa51-4486df89afdb"
      },
      "outputs": [
        {
          "output_type": "stream",
          "name": "stdout",
          "text": [
            "Learning rate set to 0.023774\n",
            "0:\tlearn: 0.6623838\ttotal: 114ms\tremaining: 1m 53s\n",
            "1:\tlearn: 0.6262412\ttotal: 171ms\tremaining: 1m 25s\n",
            "2:\tlearn: 0.6031824\ttotal: 220ms\tremaining: 1m 13s\n",
            "3:\tlearn: 0.5777151\ttotal: 280ms\tremaining: 1m 9s\n",
            "4:\tlearn: 0.5577852\ttotal: 334ms\tremaining: 1m 6s\n",
            "5:\tlearn: 0.5372439\ttotal: 387ms\tremaining: 1m 4s\n",
            "6:\tlearn: 0.5169414\ttotal: 437ms\tremaining: 1m 2s\n",
            "7:\tlearn: 0.4972594\ttotal: 484ms\tremaining: 1m\n",
            "8:\tlearn: 0.4748470\ttotal: 537ms\tremaining: 59.2s\n",
            "9:\tlearn: 0.4577966\ttotal: 589ms\tremaining: 58.3s\n",
            "10:\tlearn: 0.4408208\ttotal: 627ms\tremaining: 56.4s\n",
            "11:\tlearn: 0.4232631\ttotal: 660ms\tremaining: 54.4s\n",
            "12:\tlearn: 0.4052660\ttotal: 690ms\tremaining: 52.4s\n",
            "13:\tlearn: 0.3932758\ttotal: 723ms\tremaining: 50.9s\n",
            "14:\tlearn: 0.3829272\ttotal: 756ms\tremaining: 49.6s\n",
            "15:\tlearn: 0.3737662\ttotal: 799ms\tremaining: 49.2s\n",
            "16:\tlearn: 0.3588093\ttotal: 833ms\tremaining: 48.2s\n",
            "17:\tlearn: 0.3513897\ttotal: 869ms\tremaining: 47.4s\n",
            "18:\tlearn: 0.3410610\ttotal: 903ms\tremaining: 46.6s\n",
            "19:\tlearn: 0.3332780\ttotal: 936ms\tremaining: 45.9s\n",
            "20:\tlearn: 0.3253411\ttotal: 972ms\tremaining: 45.3s\n",
            "21:\tlearn: 0.3181345\ttotal: 1s\tremaining: 44.5s\n",
            "22:\tlearn: 0.3124728\ttotal: 1.03s\tremaining: 43.9s\n",
            "23:\tlearn: 0.3073681\ttotal: 1.07s\tremaining: 43.6s\n",
            "24:\tlearn: 0.3002142\ttotal: 1.11s\tremaining: 43.4s\n",
            "25:\tlearn: 0.2941975\ttotal: 1.15s\tremaining: 43s\n",
            "26:\tlearn: 0.2885120\ttotal: 1.17s\tremaining: 42.3s\n",
            "27:\tlearn: 0.2812255\ttotal: 1.21s\tremaining: 41.9s\n",
            "28:\tlearn: 0.2766600\ttotal: 1.23s\tremaining: 41.2s\n",
            "29:\tlearn: 0.2723492\ttotal: 1.26s\tremaining: 40.8s\n",
            "30:\tlearn: 0.2683874\ttotal: 1.29s\tremaining: 40.4s\n",
            "31:\tlearn: 0.2646233\ttotal: 1.34s\tremaining: 40.4s\n",
            "32:\tlearn: 0.2577286\ttotal: 1.38s\tremaining: 40.5s\n",
            "33:\tlearn: 0.2518077\ttotal: 1.42s\tremaining: 40.4s\n",
            "34:\tlearn: 0.2484486\ttotal: 1.46s\tremaining: 40.4s\n",
            "35:\tlearn: 0.2446801\ttotal: 1.52s\tremaining: 40.7s\n",
            "36:\tlearn: 0.2389997\ttotal: 1.57s\tremaining: 40.8s\n",
            "37:\tlearn: 0.2361254\ttotal: 1.6s\tremaining: 40.5s\n",
            "38:\tlearn: 0.2312368\ttotal: 1.64s\tremaining: 40.3s\n",
            "39:\tlearn: 0.2293414\ttotal: 1.66s\tremaining: 39.9s\n",
            "40:\tlearn: 0.2262636\ttotal: 1.68s\tremaining: 39.4s\n",
            "41:\tlearn: 0.2229191\ttotal: 1.71s\tremaining: 39s\n",
            "42:\tlearn: 0.2206222\ttotal: 1.74s\tremaining: 38.8s\n",
            "43:\tlearn: 0.2186171\ttotal: 1.77s\tremaining: 38.5s\n",
            "44:\tlearn: 0.2166337\ttotal: 1.8s\tremaining: 38.2s\n",
            "45:\tlearn: 0.2146778\ttotal: 1.82s\tremaining: 37.8s\n",
            "46:\tlearn: 0.2108570\ttotal: 1.85s\tremaining: 37.5s\n",
            "47:\tlearn: 0.2086014\ttotal: 1.87s\tremaining: 37.1s\n",
            "48:\tlearn: 0.2059280\ttotal: 1.9s\tremaining: 36.8s\n",
            "49:\tlearn: 0.2039899\ttotal: 1.93s\tremaining: 36.6s\n",
            "50:\tlearn: 0.2019607\ttotal: 1.94s\tremaining: 36.2s\n",
            "51:\tlearn: 0.2002167\ttotal: 1.96s\tremaining: 35.7s\n",
            "52:\tlearn: 0.1976153\ttotal: 1.97s\tremaining: 35.3s\n",
            "53:\tlearn: 0.1959615\ttotal: 1.99s\tremaining: 34.8s\n",
            "54:\tlearn: 0.1929203\ttotal: 2s\tremaining: 34.4s\n",
            "55:\tlearn: 0.1896690\ttotal: 2.02s\tremaining: 34.1s\n",
            "56:\tlearn: 0.1876758\ttotal: 2.04s\tremaining: 33.7s\n",
            "57:\tlearn: 0.1845827\ttotal: 2.05s\tremaining: 33.3s\n",
            "58:\tlearn: 0.1833906\ttotal: 2.06s\tremaining: 32.9s\n",
            "59:\tlearn: 0.1817220\ttotal: 2.08s\tremaining: 32.6s\n",
            "60:\tlearn: 0.1802475\ttotal: 2.09s\tremaining: 32.2s\n",
            "61:\tlearn: 0.1786172\ttotal: 2.1s\tremaining: 31.8s\n",
            "62:\tlearn: 0.1772094\ttotal: 2.12s\tremaining: 31.5s\n",
            "63:\tlearn: 0.1760192\ttotal: 2.13s\tremaining: 31.2s\n",
            "64:\tlearn: 0.1751191\ttotal: 2.17s\tremaining: 31.1s\n",
            "65:\tlearn: 0.1741784\ttotal: 2.18s\tremaining: 30.9s\n",
            "66:\tlearn: 0.1723802\ttotal: 2.19s\tremaining: 30.6s\n",
            "67:\tlearn: 0.1704323\ttotal: 2.21s\tremaining: 30.3s\n",
            "68:\tlearn: 0.1693980\ttotal: 2.22s\tremaining: 30s\n",
            "69:\tlearn: 0.1684370\ttotal: 2.24s\tremaining: 29.7s\n",
            "70:\tlearn: 0.1668553\ttotal: 2.26s\tremaining: 29.6s\n",
            "71:\tlearn: 0.1662079\ttotal: 2.27s\tremaining: 29.3s\n",
            "72:\tlearn: 0.1647637\ttotal: 2.3s\tremaining: 29.2s\n",
            "73:\tlearn: 0.1632231\ttotal: 2.31s\tremaining: 28.9s\n",
            "74:\tlearn: 0.1623372\ttotal: 2.33s\tremaining: 28.7s\n",
            "75:\tlearn: 0.1614244\ttotal: 2.34s\tremaining: 28.5s\n",
            "76:\tlearn: 0.1595090\ttotal: 2.36s\tremaining: 28.2s\n",
            "77:\tlearn: 0.1580926\ttotal: 2.38s\tremaining: 28.1s\n",
            "78:\tlearn: 0.1573337\ttotal: 2.39s\tremaining: 27.9s\n",
            "79:\tlearn: 0.1556005\ttotal: 2.4s\tremaining: 27.7s\n",
            "80:\tlearn: 0.1541762\ttotal: 2.42s\tremaining: 27.4s\n",
            "81:\tlearn: 0.1531255\ttotal: 2.43s\tremaining: 27.2s\n",
            "82:\tlearn: 0.1523830\ttotal: 2.45s\tremaining: 27s\n",
            "83:\tlearn: 0.1516165\ttotal: 2.48s\tremaining: 27s\n",
            "84:\tlearn: 0.1507522\ttotal: 2.5s\tremaining: 27s\n",
            "85:\tlearn: 0.1496852\ttotal: 2.52s\tremaining: 26.8s\n",
            "86:\tlearn: 0.1484068\ttotal: 2.56s\tremaining: 26.8s\n",
            "87:\tlearn: 0.1476392\ttotal: 2.59s\tremaining: 26.8s\n",
            "88:\tlearn: 0.1467498\ttotal: 2.62s\tremaining: 26.9s\n",
            "89:\tlearn: 0.1459541\ttotal: 2.65s\tremaining: 26.8s\n",
            "90:\tlearn: 0.1448148\ttotal: 2.66s\tremaining: 26.6s\n",
            "91:\tlearn: 0.1441205\ttotal: 2.69s\tremaining: 26.5s\n",
            "92:\tlearn: 0.1427390\ttotal: 2.72s\tremaining: 26.5s\n",
            "93:\tlearn: 0.1420876\ttotal: 2.75s\tremaining: 26.5s\n",
            "94:\tlearn: 0.1411774\ttotal: 2.78s\tremaining: 26.5s\n",
            "95:\tlearn: 0.1399420\ttotal: 2.82s\tremaining: 26.5s\n",
            "96:\tlearn: 0.1392738\ttotal: 2.85s\tremaining: 26.5s\n",
            "97:\tlearn: 0.1383248\ttotal: 2.86s\tremaining: 26.3s\n",
            "98:\tlearn: 0.1373616\ttotal: 2.87s\tremaining: 26.2s\n",
            "99:\tlearn: 0.1366920\ttotal: 2.89s\tremaining: 26s\n",
            "100:\tlearn: 0.1357162\ttotal: 2.9s\tremaining: 25.8s\n",
            "101:\tlearn: 0.1348883\ttotal: 2.92s\tremaining: 25.7s\n",
            "102:\tlearn: 0.1343067\ttotal: 2.93s\tremaining: 25.5s\n",
            "103:\tlearn: 0.1336904\ttotal: 2.94s\tremaining: 25.4s\n",
            "104:\tlearn: 0.1332468\ttotal: 2.96s\tremaining: 25.2s\n",
            "105:\tlearn: 0.1326618\ttotal: 2.97s\tremaining: 25.1s\n",
            "106:\tlearn: 0.1319005\ttotal: 2.99s\tremaining: 24.9s\n",
            "107:\tlearn: 0.1313829\ttotal: 3s\tremaining: 24.8s\n",
            "108:\tlearn: 0.1310030\ttotal: 3.02s\tremaining: 24.6s\n",
            "109:\tlearn: 0.1305370\ttotal: 3.04s\tremaining: 24.6s\n",
            "110:\tlearn: 0.1299513\ttotal: 3.06s\tremaining: 24.5s\n",
            "111:\tlearn: 0.1291131\ttotal: 3.08s\tremaining: 24.4s\n",
            "112:\tlearn: 0.1281825\ttotal: 3.09s\tremaining: 24.3s\n",
            "113:\tlearn: 0.1275142\ttotal: 3.1s\tremaining: 24.1s\n",
            "114:\tlearn: 0.1268899\ttotal: 3.12s\tremaining: 24s\n",
            "115:\tlearn: 0.1265216\ttotal: 3.13s\tremaining: 23.9s\n",
            "116:\tlearn: 0.1260305\ttotal: 3.15s\tremaining: 23.8s\n",
            "117:\tlearn: 0.1251764\ttotal: 3.16s\tremaining: 23.6s\n",
            "118:\tlearn: 0.1247004\ttotal: 3.18s\tremaining: 23.5s\n",
            "119:\tlearn: 0.1242011\ttotal: 3.19s\tremaining: 23.4s\n",
            "120:\tlearn: 0.1235665\ttotal: 3.21s\tremaining: 23.3s\n",
            "121:\tlearn: 0.1230093\ttotal: 3.22s\tremaining: 23.2s\n",
            "122:\tlearn: 0.1222455\ttotal: 3.24s\tremaining: 23.1s\n",
            "123:\tlearn: 0.1218349\ttotal: 3.26s\tremaining: 23s\n",
            "124:\tlearn: 0.1209787\ttotal: 3.27s\tremaining: 22.9s\n",
            "125:\tlearn: 0.1205392\ttotal: 3.3s\tremaining: 22.9s\n",
            "126:\tlearn: 0.1200451\ttotal: 3.32s\tremaining: 22.8s\n",
            "127:\tlearn: 0.1193360\ttotal: 3.33s\tremaining: 22.7s\n",
            "128:\tlearn: 0.1189631\ttotal: 3.35s\tremaining: 22.6s\n",
            "129:\tlearn: 0.1184049\ttotal: 3.36s\tremaining: 22.5s\n",
            "130:\tlearn: 0.1180725\ttotal: 3.37s\tremaining: 22.4s\n",
            "131:\tlearn: 0.1174091\ttotal: 3.39s\tremaining: 22.3s\n",
            "132:\tlearn: 0.1167395\ttotal: 3.4s\tremaining: 22.2s\n",
            "133:\tlearn: 0.1162221\ttotal: 3.43s\tremaining: 22.1s\n",
            "134:\tlearn: 0.1157422\ttotal: 3.44s\tremaining: 22s\n",
            "135:\tlearn: 0.1153158\ttotal: 3.46s\tremaining: 22s\n",
            "136:\tlearn: 0.1149225\ttotal: 3.47s\tremaining: 21.9s\n",
            "137:\tlearn: 0.1147304\ttotal: 3.48s\tremaining: 21.8s\n",
            "138:\tlearn: 0.1140037\ttotal: 3.5s\tremaining: 21.7s\n",
            "139:\tlearn: 0.1135974\ttotal: 3.51s\tremaining: 21.6s\n",
            "140:\tlearn: 0.1132114\ttotal: 3.53s\tremaining: 21.5s\n",
            "141:\tlearn: 0.1129963\ttotal: 3.54s\tremaining: 21.4s\n",
            "142:\tlearn: 0.1127024\ttotal: 3.56s\tremaining: 21.3s\n",
            "143:\tlearn: 0.1123493\ttotal: 3.57s\tremaining: 21.2s\n",
            "144:\tlearn: 0.1119342\ttotal: 3.59s\tremaining: 21.2s\n",
            "145:\tlearn: 0.1116283\ttotal: 3.6s\tremaining: 21.1s\n",
            "146:\tlearn: 0.1114078\ttotal: 3.61s\tremaining: 21s\n",
            "147:\tlearn: 0.1109076\ttotal: 3.63s\tremaining: 20.9s\n",
            "148:\tlearn: 0.1104848\ttotal: 3.64s\tremaining: 20.8s\n",
            "149:\tlearn: 0.1101674\ttotal: 3.65s\tremaining: 20.7s\n",
            "150:\tlearn: 0.1098441\ttotal: 3.67s\tremaining: 20.7s\n",
            "151:\tlearn: 0.1093791\ttotal: 3.69s\tremaining: 20.6s\n",
            "152:\tlearn: 0.1091713\ttotal: 3.7s\tremaining: 20.5s\n",
            "153:\tlearn: 0.1087021\ttotal: 3.72s\tremaining: 20.4s\n",
            "154:\tlearn: 0.1081472\ttotal: 3.73s\tremaining: 20.4s\n",
            "155:\tlearn: 0.1076057\ttotal: 3.75s\tremaining: 20.3s\n",
            "156:\tlearn: 0.1070716\ttotal: 3.76s\tremaining: 20.2s\n",
            "157:\tlearn: 0.1066743\ttotal: 3.77s\tremaining: 20.1s\n",
            "158:\tlearn: 0.1062854\ttotal: 3.79s\tremaining: 20s\n",
            "159:\tlearn: 0.1060008\ttotal: 3.8s\tremaining: 20s\n",
            "160:\tlearn: 0.1054878\ttotal: 3.83s\tremaining: 20s\n",
            "161:\tlearn: 0.1052044\ttotal: 3.84s\tremaining: 19.9s\n",
            "162:\tlearn: 0.1048667\ttotal: 3.86s\tremaining: 19.8s\n",
            "163:\tlearn: 0.1046737\ttotal: 3.87s\tremaining: 19.7s\n",
            "164:\tlearn: 0.1042935\ttotal: 3.89s\tremaining: 19.7s\n",
            "165:\tlearn: 0.1039562\ttotal: 3.9s\tremaining: 19.6s\n",
            "166:\tlearn: 0.1034845\ttotal: 3.92s\tremaining: 19.5s\n",
            "167:\tlearn: 0.1032242\ttotal: 3.93s\tremaining: 19.5s\n",
            "168:\tlearn: 0.1027563\ttotal: 3.94s\tremaining: 19.4s\n",
            "169:\tlearn: 0.1023816\ttotal: 3.97s\tremaining: 19.4s\n",
            "170:\tlearn: 0.1019069\ttotal: 3.98s\tremaining: 19.3s\n",
            "171:\tlearn: 0.1016308\ttotal: 4s\tremaining: 19.2s\n",
            "172:\tlearn: 0.1013733\ttotal: 4.01s\tremaining: 19.2s\n",
            "173:\tlearn: 0.1011307\ttotal: 4.02s\tremaining: 19.1s\n",
            "174:\tlearn: 0.1006143\ttotal: 4.04s\tremaining: 19s\n",
            "175:\tlearn: 0.1002308\ttotal: 4.05s\tremaining: 19s\n",
            "176:\tlearn: 0.1000581\ttotal: 4.07s\tremaining: 18.9s\n",
            "177:\tlearn: 0.0994916\ttotal: 4.08s\tremaining: 18.9s\n",
            "178:\tlearn: 0.0991005\ttotal: 4.1s\tremaining: 18.8s\n",
            "179:\tlearn: 0.0987681\ttotal: 4.11s\tremaining: 18.7s\n",
            "180:\tlearn: 0.0985371\ttotal: 4.13s\tremaining: 18.7s\n",
            "181:\tlearn: 0.0982657\ttotal: 4.15s\tremaining: 18.6s\n",
            "182:\tlearn: 0.0978690\ttotal: 4.16s\tremaining: 18.6s\n",
            "183:\tlearn: 0.0975498\ttotal: 4.18s\tremaining: 18.5s\n",
            "184:\tlearn: 0.0973254\ttotal: 4.19s\tremaining: 18.5s\n",
            "185:\tlearn: 0.0970799\ttotal: 4.21s\tremaining: 18.4s\n",
            "186:\tlearn: 0.0967030\ttotal: 4.22s\tremaining: 18.4s\n",
            "187:\tlearn: 0.0965780\ttotal: 4.24s\tremaining: 18.3s\n",
            "188:\tlearn: 0.0962073\ttotal: 4.25s\tremaining: 18.2s\n",
            "189:\tlearn: 0.0958857\ttotal: 4.26s\tremaining: 18.2s\n",
            "190:\tlearn: 0.0955874\ttotal: 4.28s\tremaining: 18.1s\n",
            "191:\tlearn: 0.0953040\ttotal: 4.31s\tremaining: 18.1s\n",
            "192:\tlearn: 0.0949598\ttotal: 4.32s\tremaining: 18.1s\n",
            "193:\tlearn: 0.0947679\ttotal: 4.33s\tremaining: 18s\n",
            "194:\tlearn: 0.0945270\ttotal: 4.35s\tremaining: 18s\n",
            "195:\tlearn: 0.0942020\ttotal: 4.36s\tremaining: 17.9s\n",
            "196:\tlearn: 0.0938252\ttotal: 4.38s\tremaining: 17.8s\n",
            "197:\tlearn: 0.0935144\ttotal: 4.39s\tremaining: 17.8s\n",
            "198:\tlearn: 0.0933929\ttotal: 4.41s\tremaining: 17.7s\n",
            "199:\tlearn: 0.0930601\ttotal: 4.42s\tremaining: 17.7s\n",
            "200:\tlearn: 0.0926641\ttotal: 4.43s\tremaining: 17.6s\n",
            "201:\tlearn: 0.0923021\ttotal: 4.45s\tremaining: 17.6s\n",
            "202:\tlearn: 0.0921073\ttotal: 4.46s\tremaining: 17.5s\n",
            "203:\tlearn: 0.0917649\ttotal: 4.47s\tremaining: 17.5s\n",
            "204:\tlearn: 0.0915400\ttotal: 4.49s\tremaining: 17.4s\n",
            "205:\tlearn: 0.0913736\ttotal: 4.54s\tremaining: 17.5s\n",
            "206:\tlearn: 0.0910438\ttotal: 4.57s\tremaining: 17.5s\n",
            "207:\tlearn: 0.0908937\ttotal: 4.6s\tremaining: 17.5s\n",
            "208:\tlearn: 0.0906848\ttotal: 4.62s\tremaining: 17.5s\n",
            "209:\tlearn: 0.0904203\ttotal: 4.65s\tremaining: 17.5s\n",
            "210:\tlearn: 0.0902424\ttotal: 4.67s\tremaining: 17.5s\n",
            "211:\tlearn: 0.0900672\ttotal: 4.71s\tremaining: 17.5s\n",
            "212:\tlearn: 0.0899017\ttotal: 4.75s\tremaining: 17.6s\n",
            "213:\tlearn: 0.0895201\ttotal: 4.78s\tremaining: 17.6s\n",
            "214:\tlearn: 0.0893768\ttotal: 4.8s\tremaining: 17.5s\n",
            "215:\tlearn: 0.0891757\ttotal: 4.83s\tremaining: 17.5s\n",
            "216:\tlearn: 0.0887959\ttotal: 4.86s\tremaining: 17.5s\n",
            "217:\tlearn: 0.0885231\ttotal: 4.89s\tremaining: 17.5s\n",
            "218:\tlearn: 0.0883572\ttotal: 4.92s\tremaining: 17.6s\n",
            "219:\tlearn: 0.0882024\ttotal: 4.96s\tremaining: 17.6s\n",
            "220:\tlearn: 0.0880121\ttotal: 5s\tremaining: 17.6s\n",
            "221:\tlearn: 0.0877224\ttotal: 5.03s\tremaining: 17.6s\n",
            "222:\tlearn: 0.0875289\ttotal: 5.05s\tremaining: 17.6s\n",
            "223:\tlearn: 0.0873703\ttotal: 5.08s\tremaining: 17.6s\n",
            "224:\tlearn: 0.0873035\ttotal: 5.12s\tremaining: 17.6s\n",
            "225:\tlearn: 0.0871309\ttotal: 5.15s\tremaining: 17.6s\n",
            "226:\tlearn: 0.0869054\ttotal: 5.18s\tremaining: 17.6s\n",
            "227:\tlearn: 0.0867767\ttotal: 5.21s\tremaining: 17.7s\n",
            "228:\tlearn: 0.0865085\ttotal: 5.25s\tremaining: 17.7s\n",
            "229:\tlearn: 0.0862899\ttotal: 5.28s\tremaining: 17.7s\n",
            "230:\tlearn: 0.0861040\ttotal: 5.31s\tremaining: 17.7s\n",
            "231:\tlearn: 0.0859181\ttotal: 5.37s\tremaining: 17.8s\n",
            "232:\tlearn: 0.0856558\ttotal: 5.45s\tremaining: 17.9s\n",
            "233:\tlearn: 0.0854314\ttotal: 5.48s\tremaining: 18s\n",
            "234:\tlearn: 0.0852102\ttotal: 5.54s\tremaining: 18.1s\n",
            "235:\tlearn: 0.0849763\ttotal: 5.59s\tremaining: 18.1s\n",
            "236:\tlearn: 0.0847816\ttotal: 5.63s\tremaining: 18.1s\n",
            "237:\tlearn: 0.0845999\ttotal: 5.67s\tremaining: 18.2s\n",
            "238:\tlearn: 0.0844912\ttotal: 5.72s\tremaining: 18.2s\n",
            "239:\tlearn: 0.0843127\ttotal: 5.75s\tremaining: 18.2s\n",
            "240:\tlearn: 0.0840650\ttotal: 5.8s\tremaining: 18.3s\n",
            "241:\tlearn: 0.0839891\ttotal: 5.86s\tremaining: 18.4s\n",
            "242:\tlearn: 0.0838020\ttotal: 5.91s\tremaining: 18.4s\n",
            "243:\tlearn: 0.0836189\ttotal: 5.95s\tremaining: 18.4s\n",
            "244:\tlearn: 0.0834760\ttotal: 6s\tremaining: 18.5s\n",
            "245:\tlearn: 0.0832674\ttotal: 6.02s\tremaining: 18.4s\n",
            "246:\tlearn: 0.0831880\ttotal: 6.05s\tremaining: 18.4s\n",
            "247:\tlearn: 0.0828042\ttotal: 6.07s\tremaining: 18.4s\n",
            "248:\tlearn: 0.0824295\ttotal: 6.09s\tremaining: 18.4s\n",
            "249:\tlearn: 0.0823244\ttotal: 6.12s\tremaining: 18.4s\n",
            "250:\tlearn: 0.0820278\ttotal: 6.14s\tremaining: 18.3s\n",
            "251:\tlearn: 0.0817806\ttotal: 6.16s\tremaining: 18.3s\n",
            "252:\tlearn: 0.0815818\ttotal: 6.18s\tremaining: 18.2s\n",
            "253:\tlearn: 0.0813851\ttotal: 6.21s\tremaining: 18.2s\n",
            "254:\tlearn: 0.0811195\ttotal: 6.24s\tremaining: 18.2s\n",
            "255:\tlearn: 0.0809551\ttotal: 6.27s\tremaining: 18.2s\n",
            "256:\tlearn: 0.0808171\ttotal: 6.29s\tremaining: 18.2s\n",
            "257:\tlearn: 0.0805767\ttotal: 6.33s\tremaining: 18.2s\n",
            "258:\tlearn: 0.0804831\ttotal: 6.36s\tremaining: 18.2s\n",
            "259:\tlearn: 0.0803496\ttotal: 6.39s\tremaining: 18.2s\n",
            "260:\tlearn: 0.0802015\ttotal: 6.43s\tremaining: 18.2s\n",
            "261:\tlearn: 0.0800257\ttotal: 6.46s\tremaining: 18.2s\n",
            "262:\tlearn: 0.0798883\ttotal: 6.5s\tremaining: 18.2s\n",
            "263:\tlearn: 0.0797629\ttotal: 6.53s\tremaining: 18.2s\n",
            "264:\tlearn: 0.0796109\ttotal: 6.56s\tremaining: 18.2s\n",
            "265:\tlearn: 0.0794338\ttotal: 6.59s\tremaining: 18.2s\n",
            "266:\tlearn: 0.0792805\ttotal: 6.64s\tremaining: 18.2s\n",
            "267:\tlearn: 0.0790831\ttotal: 6.68s\tremaining: 18.2s\n",
            "268:\tlearn: 0.0788376\ttotal: 6.71s\tremaining: 18.2s\n",
            "269:\tlearn: 0.0787428\ttotal: 6.73s\tremaining: 18.2s\n",
            "270:\tlearn: 0.0786814\ttotal: 6.75s\tremaining: 18.2s\n",
            "271:\tlearn: 0.0785228\ttotal: 6.76s\tremaining: 18.1s\n",
            "272:\tlearn: 0.0783134\ttotal: 6.78s\tremaining: 18.1s\n",
            "273:\tlearn: 0.0782059\ttotal: 6.81s\tremaining: 18s\n",
            "274:\tlearn: 0.0780350\ttotal: 6.84s\tremaining: 18s\n",
            "275:\tlearn: 0.0779629\ttotal: 6.86s\tremaining: 18s\n",
            "276:\tlearn: 0.0777676\ttotal: 6.89s\tremaining: 18s\n",
            "277:\tlearn: 0.0775306\ttotal: 6.92s\tremaining: 18s\n",
            "278:\tlearn: 0.0774116\ttotal: 6.96s\tremaining: 18s\n",
            "279:\tlearn: 0.0772782\ttotal: 6.98s\tremaining: 18s\n",
            "280:\tlearn: 0.0770673\ttotal: 7.01s\tremaining: 17.9s\n",
            "281:\tlearn: 0.0768933\ttotal: 7.04s\tremaining: 17.9s\n",
            "282:\tlearn: 0.0766295\ttotal: 7.07s\tremaining: 17.9s\n",
            "283:\tlearn: 0.0764471\ttotal: 7.11s\tremaining: 17.9s\n",
            "284:\tlearn: 0.0763927\ttotal: 7.13s\tremaining: 17.9s\n",
            "285:\tlearn: 0.0761016\ttotal: 7.17s\tremaining: 17.9s\n",
            "286:\tlearn: 0.0759803\ttotal: 7.2s\tremaining: 17.9s\n",
            "287:\tlearn: 0.0758387\ttotal: 7.23s\tremaining: 17.9s\n",
            "288:\tlearn: 0.0756934\ttotal: 7.26s\tremaining: 17.9s\n",
            "289:\tlearn: 0.0755713\ttotal: 7.29s\tremaining: 17.9s\n",
            "290:\tlearn: 0.0754282\ttotal: 7.33s\tremaining: 17.9s\n",
            "291:\tlearn: 0.0753777\ttotal: 7.35s\tremaining: 17.8s\n",
            "292:\tlearn: 0.0752891\ttotal: 7.39s\tremaining: 17.8s\n",
            "293:\tlearn: 0.0750415\ttotal: 7.42s\tremaining: 17.8s\n",
            "294:\tlearn: 0.0749147\ttotal: 7.45s\tremaining: 17.8s\n",
            "295:\tlearn: 0.0746409\ttotal: 7.49s\tremaining: 17.8s\n",
            "296:\tlearn: 0.0744493\ttotal: 7.52s\tremaining: 17.8s\n",
            "297:\tlearn: 0.0742759\ttotal: 7.55s\tremaining: 17.8s\n",
            "298:\tlearn: 0.0742089\ttotal: 7.57s\tremaining: 17.8s\n",
            "299:\tlearn: 0.0740057\ttotal: 7.61s\tremaining: 17.7s\n",
            "300:\tlearn: 0.0738615\ttotal: 7.64s\tremaining: 17.7s\n",
            "301:\tlearn: 0.0736832\ttotal: 7.67s\tremaining: 17.7s\n",
            "302:\tlearn: 0.0734812\ttotal: 7.7s\tremaining: 17.7s\n",
            "303:\tlearn: 0.0733296\ttotal: 7.73s\tremaining: 17.7s\n",
            "304:\tlearn: 0.0731211\ttotal: 7.76s\tremaining: 17.7s\n",
            "305:\tlearn: 0.0730508\ttotal: 7.81s\tremaining: 17.7s\n",
            "306:\tlearn: 0.0729315\ttotal: 7.85s\tremaining: 17.7s\n",
            "307:\tlearn: 0.0727052\ttotal: 7.88s\tremaining: 17.7s\n",
            "308:\tlearn: 0.0726586\ttotal: 7.93s\tremaining: 17.7s\n",
            "309:\tlearn: 0.0725921\ttotal: 7.96s\tremaining: 17.7s\n",
            "310:\tlearn: 0.0724346\ttotal: 7.99s\tremaining: 17.7s\n",
            "311:\tlearn: 0.0722021\ttotal: 8.03s\tremaining: 17.7s\n",
            "312:\tlearn: 0.0720546\ttotal: 8.06s\tremaining: 17.7s\n",
            "313:\tlearn: 0.0719650\ttotal: 8.09s\tremaining: 17.7s\n",
            "314:\tlearn: 0.0718083\ttotal: 8.12s\tremaining: 17.7s\n",
            "315:\tlearn: 0.0717224\ttotal: 8.15s\tremaining: 17.6s\n",
            "316:\tlearn: 0.0715243\ttotal: 8.19s\tremaining: 17.6s\n",
            "317:\tlearn: 0.0713268\ttotal: 8.23s\tremaining: 17.6s\n",
            "318:\tlearn: 0.0711959\ttotal: 8.27s\tremaining: 17.7s\n",
            "319:\tlearn: 0.0711007\ttotal: 8.31s\tremaining: 17.7s\n",
            "320:\tlearn: 0.0709201\ttotal: 8.35s\tremaining: 17.7s\n",
            "321:\tlearn: 0.0708663\ttotal: 8.37s\tremaining: 17.6s\n",
            "322:\tlearn: 0.0707756\ttotal: 8.39s\tremaining: 17.6s\n",
            "323:\tlearn: 0.0707250\ttotal: 8.42s\tremaining: 17.6s\n",
            "324:\tlearn: 0.0705885\ttotal: 8.44s\tremaining: 17.5s\n",
            "325:\tlearn: 0.0704088\ttotal: 8.49s\tremaining: 17.5s\n",
            "326:\tlearn: 0.0702655\ttotal: 8.54s\tremaining: 17.6s\n",
            "327:\tlearn: 0.0701919\ttotal: 8.57s\tremaining: 17.6s\n",
            "328:\tlearn: 0.0700669\ttotal: 8.59s\tremaining: 17.5s\n",
            "329:\tlearn: 0.0699785\ttotal: 8.64s\tremaining: 17.6s\n",
            "330:\tlearn: 0.0697714\ttotal: 8.67s\tremaining: 17.5s\n",
            "331:\tlearn: 0.0696711\ttotal: 8.7s\tremaining: 17.5s\n",
            "332:\tlearn: 0.0695747\ttotal: 8.73s\tremaining: 17.5s\n",
            "333:\tlearn: 0.0694753\ttotal: 8.77s\tremaining: 17.5s\n",
            "334:\tlearn: 0.0692954\ttotal: 8.81s\tremaining: 17.5s\n",
            "335:\tlearn: 0.0691335\ttotal: 8.87s\tremaining: 17.5s\n",
            "336:\tlearn: 0.0690859\ttotal: 8.92s\tremaining: 17.5s\n",
            "337:\tlearn: 0.0689492\ttotal: 8.98s\tremaining: 17.6s\n",
            "338:\tlearn: 0.0687942\ttotal: 9.01s\tremaining: 17.6s\n",
            "339:\tlearn: 0.0686637\ttotal: 9.04s\tremaining: 17.5s\n",
            "340:\tlearn: 0.0686176\ttotal: 9.07s\tremaining: 17.5s\n",
            "341:\tlearn: 0.0685782\ttotal: 9.11s\tremaining: 17.5s\n",
            "342:\tlearn: 0.0684269\ttotal: 9.13s\tremaining: 17.5s\n",
            "343:\tlearn: 0.0682353\ttotal: 9.16s\tremaining: 17.5s\n",
            "344:\tlearn: 0.0680866\ttotal: 9.19s\tremaining: 17.4s\n",
            "345:\tlearn: 0.0679743\ttotal: 9.24s\tremaining: 17.5s\n",
            "346:\tlearn: 0.0678695\ttotal: 9.27s\tremaining: 17.4s\n",
            "347:\tlearn: 0.0676924\ttotal: 9.32s\tremaining: 17.5s\n",
            "348:\tlearn: 0.0675577\ttotal: 9.35s\tremaining: 17.4s\n",
            "349:\tlearn: 0.0673454\ttotal: 9.38s\tremaining: 17.4s\n",
            "350:\tlearn: 0.0672557\ttotal: 9.41s\tremaining: 17.4s\n",
            "351:\tlearn: 0.0672453\ttotal: 9.44s\tremaining: 17.4s\n",
            "352:\tlearn: 0.0671532\ttotal: 9.46s\tremaining: 17.3s\n",
            "353:\tlearn: 0.0669626\ttotal: 9.49s\tremaining: 17.3s\n",
            "354:\tlearn: 0.0668125\ttotal: 9.53s\tremaining: 17.3s\n",
            "355:\tlearn: 0.0666867\ttotal: 9.56s\tremaining: 17.3s\n",
            "356:\tlearn: 0.0665569\ttotal: 9.59s\tremaining: 17.3s\n",
            "357:\tlearn: 0.0664944\ttotal: 9.62s\tremaining: 17.3s\n",
            "358:\tlearn: 0.0663435\ttotal: 9.65s\tremaining: 17.2s\n",
            "359:\tlearn: 0.0662233\ttotal: 9.67s\tremaining: 17.2s\n",
            "360:\tlearn: 0.0661533\ttotal: 9.7s\tremaining: 17.2s\n",
            "361:\tlearn: 0.0660827\ttotal: 9.75s\tremaining: 17.2s\n",
            "362:\tlearn: 0.0659890\ttotal: 9.78s\tremaining: 17.2s\n",
            "363:\tlearn: 0.0659194\ttotal: 9.8s\tremaining: 17.1s\n",
            "364:\tlearn: 0.0658190\ttotal: 9.86s\tremaining: 17.1s\n",
            "365:\tlearn: 0.0657204\ttotal: 9.9s\tremaining: 17.1s\n",
            "366:\tlearn: 0.0655718\ttotal: 9.93s\tremaining: 17.1s\n",
            "367:\tlearn: 0.0654168\ttotal: 9.97s\tremaining: 17.1s\n",
            "368:\tlearn: 0.0652981\ttotal: 9.98s\tremaining: 17.1s\n",
            "369:\tlearn: 0.0651430\ttotal: 10s\tremaining: 17s\n",
            "370:\tlearn: 0.0649958\ttotal: 10s\tremaining: 17s\n",
            "371:\tlearn: 0.0647863\ttotal: 10.1s\tremaining: 17s\n",
            "372:\tlearn: 0.0646057\ttotal: 10.1s\tremaining: 17s\n",
            "373:\tlearn: 0.0644341\ttotal: 10.1s\tremaining: 16.9s\n",
            "374:\tlearn: 0.0643419\ttotal: 10.1s\tremaining: 16.9s\n",
            "375:\tlearn: 0.0642501\ttotal: 10.2s\tremaining: 16.9s\n",
            "376:\tlearn: 0.0641136\ttotal: 10.2s\tremaining: 16.9s\n",
            "377:\tlearn: 0.0639744\ttotal: 10.3s\tremaining: 16.9s\n",
            "378:\tlearn: 0.0638448\ttotal: 10.3s\tremaining: 16.9s\n",
            "379:\tlearn: 0.0636703\ttotal: 10.3s\tremaining: 16.8s\n",
            "380:\tlearn: 0.0635388\ttotal: 10.3s\tremaining: 16.8s\n",
            "381:\tlearn: 0.0634181\ttotal: 10.4s\tremaining: 16.8s\n",
            "382:\tlearn: 0.0633420\ttotal: 10.4s\tremaining: 16.8s\n",
            "383:\tlearn: 0.0632270\ttotal: 10.5s\tremaining: 16.8s\n",
            "384:\tlearn: 0.0631032\ttotal: 10.5s\tremaining: 16.8s\n",
            "385:\tlearn: 0.0629172\ttotal: 10.5s\tremaining: 16.8s\n",
            "386:\tlearn: 0.0628228\ttotal: 10.6s\tremaining: 16.7s\n",
            "387:\tlearn: 0.0626825\ttotal: 10.6s\tremaining: 16.7s\n",
            "388:\tlearn: 0.0625308\ttotal: 10.6s\tremaining: 16.7s\n",
            "389:\tlearn: 0.0623604\ttotal: 10.7s\tremaining: 16.7s\n",
            "390:\tlearn: 0.0623281\ttotal: 10.7s\tremaining: 16.6s\n",
            "391:\tlearn: 0.0622757\ttotal: 10.7s\tremaining: 16.6s\n",
            "392:\tlearn: 0.0622079\ttotal: 10.7s\tremaining: 16.6s\n",
            "393:\tlearn: 0.0621512\ttotal: 10.7s\tremaining: 16.5s\n",
            "394:\tlearn: 0.0619885\ttotal: 10.8s\tremaining: 16.5s\n",
            "395:\tlearn: 0.0619431\ttotal: 10.8s\tremaining: 16.5s\n",
            "396:\tlearn: 0.0617829\ttotal: 10.8s\tremaining: 16.5s\n",
            "397:\tlearn: 0.0616424\ttotal: 10.9s\tremaining: 16.5s\n",
            "398:\tlearn: 0.0615285\ttotal: 10.9s\tremaining: 16.5s\n",
            "399:\tlearn: 0.0614598\ttotal: 11s\tremaining: 16.5s\n",
            "400:\tlearn: 0.0613838\ttotal: 11s\tremaining: 16.4s\n",
            "401:\tlearn: 0.0612660\ttotal: 11s\tremaining: 16.4s\n",
            "402:\tlearn: 0.0611223\ttotal: 11.1s\tremaining: 16.4s\n",
            "403:\tlearn: 0.0609803\ttotal: 11.1s\tremaining: 16.4s\n",
            "404:\tlearn: 0.0608558\ttotal: 11.1s\tremaining: 16.4s\n",
            "405:\tlearn: 0.0607821\ttotal: 11.2s\tremaining: 16.3s\n",
            "406:\tlearn: 0.0606356\ttotal: 11.2s\tremaining: 16.3s\n",
            "407:\tlearn: 0.0605266\ttotal: 11.2s\tremaining: 16.3s\n",
            "408:\tlearn: 0.0605184\ttotal: 11.3s\tremaining: 16.3s\n",
            "409:\tlearn: 0.0604028\ttotal: 11.3s\tremaining: 16.2s\n",
            "410:\tlearn: 0.0603370\ttotal: 11.3s\tremaining: 16.2s\n",
            "411:\tlearn: 0.0601496\ttotal: 11.3s\tremaining: 16.2s\n",
            "412:\tlearn: 0.0600647\ttotal: 11.4s\tremaining: 16.2s\n",
            "413:\tlearn: 0.0599552\ttotal: 11.4s\tremaining: 16.1s\n",
            "414:\tlearn: 0.0598534\ttotal: 11.4s\tremaining: 16.1s\n",
            "415:\tlearn: 0.0597734\ttotal: 11.5s\tremaining: 16.1s\n",
            "416:\tlearn: 0.0596114\ttotal: 11.5s\tremaining: 16.1s\n",
            "417:\tlearn: 0.0595650\ttotal: 11.5s\tremaining: 16.1s\n",
            "418:\tlearn: 0.0594285\ttotal: 11.6s\tremaining: 16.1s\n",
            "419:\tlearn: 0.0592929\ttotal: 11.7s\tremaining: 16.1s\n",
            "420:\tlearn: 0.0592098\ttotal: 11.7s\tremaining: 16.1s\n",
            "421:\tlearn: 0.0590736\ttotal: 11.7s\tremaining: 16.1s\n",
            "422:\tlearn: 0.0589581\ttotal: 11.8s\tremaining: 16.1s\n",
            "423:\tlearn: 0.0588776\ttotal: 11.8s\tremaining: 16.1s\n",
            "424:\tlearn: 0.0587999\ttotal: 11.9s\tremaining: 16.1s\n",
            "425:\tlearn: 0.0586638\ttotal: 11.9s\tremaining: 16.1s\n",
            "426:\tlearn: 0.0585956\ttotal: 12s\tremaining: 16.1s\n",
            "427:\tlearn: 0.0584628\ttotal: 12.1s\tremaining: 16.1s\n",
            "428:\tlearn: 0.0583027\ttotal: 12.1s\tremaining: 16.1s\n",
            "429:\tlearn: 0.0581621\ttotal: 12.1s\tremaining: 16.1s\n",
            "430:\tlearn: 0.0580618\ttotal: 12.2s\tremaining: 16.1s\n",
            "431:\tlearn: 0.0579865\ttotal: 12.2s\tremaining: 16.1s\n",
            "432:\tlearn: 0.0579103\ttotal: 12.3s\tremaining: 16.1s\n",
            "433:\tlearn: 0.0578680\ttotal: 12.3s\tremaining: 16.1s\n",
            "434:\tlearn: 0.0577156\ttotal: 12.4s\tremaining: 16.1s\n",
            "435:\tlearn: 0.0576289\ttotal: 12.4s\tremaining: 16.1s\n",
            "436:\tlearn: 0.0575837\ttotal: 12.4s\tremaining: 16s\n",
            "437:\tlearn: 0.0574326\ttotal: 12.5s\tremaining: 16.1s\n",
            "438:\tlearn: 0.0572978\ttotal: 12.6s\tremaining: 16.1s\n",
            "439:\tlearn: 0.0572679\ttotal: 12.6s\tremaining: 16.1s\n",
            "440:\tlearn: 0.0571248\ttotal: 12.7s\tremaining: 16.1s\n",
            "441:\tlearn: 0.0569736\ttotal: 12.7s\tremaining: 16.1s\n",
            "442:\tlearn: 0.0568160\ttotal: 12.8s\tremaining: 16.1s\n",
            "443:\tlearn: 0.0567193\ttotal: 12.8s\tremaining: 16.1s\n",
            "444:\tlearn: 0.0567128\ttotal: 12.9s\tremaining: 16.1s\n",
            "445:\tlearn: 0.0566278\ttotal: 12.9s\tremaining: 16.1s\n",
            "446:\tlearn: 0.0565315\ttotal: 13s\tremaining: 16s\n",
            "447:\tlearn: 0.0564320\ttotal: 13s\tremaining: 16s\n",
            "448:\tlearn: 0.0563380\ttotal: 13.1s\tremaining: 16s\n",
            "449:\tlearn: 0.0562547\ttotal: 13.1s\tremaining: 16s\n",
            "450:\tlearn: 0.0561368\ttotal: 13.2s\tremaining: 16.1s\n",
            "451:\tlearn: 0.0560331\ttotal: 13.3s\tremaining: 16.1s\n",
            "452:\tlearn: 0.0558671\ttotal: 13.4s\tremaining: 16.2s\n",
            "453:\tlearn: 0.0557856\ttotal: 13.5s\tremaining: 16.2s\n",
            "454:\tlearn: 0.0556776\ttotal: 13.6s\tremaining: 16.2s\n",
            "455:\tlearn: 0.0555748\ttotal: 13.6s\tremaining: 16.2s\n",
            "456:\tlearn: 0.0554625\ttotal: 13.6s\tremaining: 16.2s\n",
            "457:\tlearn: 0.0553747\ttotal: 13.7s\tremaining: 16.2s\n",
            "458:\tlearn: 0.0552923\ttotal: 13.7s\tremaining: 16.2s\n",
            "459:\tlearn: 0.0551912\ttotal: 13.8s\tremaining: 16.2s\n",
            "460:\tlearn: 0.0551088\ttotal: 13.8s\tremaining: 16.2s\n",
            "461:\tlearn: 0.0549614\ttotal: 13.9s\tremaining: 16.1s\n",
            "462:\tlearn: 0.0548812\ttotal: 13.9s\tremaining: 16.1s\n",
            "463:\tlearn: 0.0547762\ttotal: 14s\tremaining: 16.1s\n",
            "464:\tlearn: 0.0547168\ttotal: 14s\tremaining: 16.1s\n",
            "465:\tlearn: 0.0547139\ttotal: 14.1s\tremaining: 16.1s\n",
            "466:\tlearn: 0.0545917\ttotal: 14.1s\tremaining: 16.1s\n",
            "467:\tlearn: 0.0544887\ttotal: 14.2s\tremaining: 16.1s\n",
            "468:\tlearn: 0.0544207\ttotal: 14.2s\tremaining: 16.1s\n",
            "469:\tlearn: 0.0543623\ttotal: 14.3s\tremaining: 16.1s\n",
            "470:\tlearn: 0.0543371\ttotal: 14.4s\tremaining: 16.2s\n",
            "471:\tlearn: 0.0542872\ttotal: 14.5s\tremaining: 16.2s\n",
            "472:\tlearn: 0.0542118\ttotal: 14.5s\tremaining: 16.2s\n",
            "473:\tlearn: 0.0540788\ttotal: 14.6s\tremaining: 16.2s\n",
            "474:\tlearn: 0.0539921\ttotal: 14.6s\tremaining: 16.2s\n",
            "475:\tlearn: 0.0539501\ttotal: 14.7s\tremaining: 16.2s\n",
            "476:\tlearn: 0.0537414\ttotal: 14.7s\tremaining: 16.1s\n",
            "477:\tlearn: 0.0536273\ttotal: 14.8s\tremaining: 16.1s\n",
            "478:\tlearn: 0.0535554\ttotal: 14.8s\tremaining: 16.1s\n",
            "479:\tlearn: 0.0534858\ttotal: 14.8s\tremaining: 16s\n",
            "480:\tlearn: 0.0534131\ttotal: 14.8s\tremaining: 16s\n",
            "481:\tlearn: 0.0533445\ttotal: 14.9s\tremaining: 16s\n",
            "482:\tlearn: 0.0533029\ttotal: 14.9s\tremaining: 15.9s\n",
            "483:\tlearn: 0.0531831\ttotal: 14.9s\tremaining: 15.9s\n",
            "484:\tlearn: 0.0530999\ttotal: 15s\tremaining: 15.9s\n",
            "485:\tlearn: 0.0530059\ttotal: 15s\tremaining: 15.9s\n",
            "486:\tlearn: 0.0528771\ttotal: 15s\tremaining: 15.8s\n",
            "487:\tlearn: 0.0527616\ttotal: 15.1s\tremaining: 15.8s\n",
            "488:\tlearn: 0.0526474\ttotal: 15.1s\tremaining: 15.8s\n",
            "489:\tlearn: 0.0525936\ttotal: 15.2s\tremaining: 15.8s\n",
            "490:\tlearn: 0.0525009\ttotal: 15.2s\tremaining: 15.8s\n",
            "491:\tlearn: 0.0524401\ttotal: 15.3s\tremaining: 15.8s\n",
            "492:\tlearn: 0.0524067\ttotal: 15.3s\tremaining: 15.7s\n",
            "493:\tlearn: 0.0523408\ttotal: 15.3s\tremaining: 15.7s\n",
            "494:\tlearn: 0.0522116\ttotal: 15.4s\tremaining: 15.7s\n",
            "495:\tlearn: 0.0521785\ttotal: 15.4s\tremaining: 15.6s\n",
            "496:\tlearn: 0.0520872\ttotal: 15.4s\tremaining: 15.6s\n",
            "497:\tlearn: 0.0519657\ttotal: 15.5s\tremaining: 15.6s\n",
            "498:\tlearn: 0.0519233\ttotal: 15.5s\tremaining: 15.6s\n",
            "499:\tlearn: 0.0518061\ttotal: 15.5s\tremaining: 15.5s\n",
            "500:\tlearn: 0.0516823\ttotal: 15.6s\tremaining: 15.5s\n",
            "501:\tlearn: 0.0515741\ttotal: 15.6s\tremaining: 15.5s\n",
            "502:\tlearn: 0.0514692\ttotal: 15.6s\tremaining: 15.4s\n",
            "503:\tlearn: 0.0513601\ttotal: 15.6s\tremaining: 15.4s\n",
            "504:\tlearn: 0.0513052\ttotal: 15.6s\tremaining: 15.3s\n",
            "505:\tlearn: 0.0512150\ttotal: 15.7s\tremaining: 15.3s\n",
            "506:\tlearn: 0.0511413\ttotal: 15.7s\tremaining: 15.3s\n",
            "507:\tlearn: 0.0510506\ttotal: 15.7s\tremaining: 15.2s\n",
            "508:\tlearn: 0.0510296\ttotal: 15.7s\tremaining: 15.2s\n",
            "509:\tlearn: 0.0509013\ttotal: 15.8s\tremaining: 15.2s\n",
            "510:\tlearn: 0.0507732\ttotal: 15.8s\tremaining: 15.1s\n",
            "511:\tlearn: 0.0506841\ttotal: 15.8s\tremaining: 15.1s\n",
            "512:\tlearn: 0.0506190\ttotal: 15.9s\tremaining: 15.1s\n",
            "513:\tlearn: 0.0505180\ttotal: 15.9s\tremaining: 15s\n",
            "514:\tlearn: 0.0504514\ttotal: 15.9s\tremaining: 15s\n",
            "515:\tlearn: 0.0503491\ttotal: 15.9s\tremaining: 15s\n",
            "516:\tlearn: 0.0503148\ttotal: 16s\tremaining: 14.9s\n",
            "517:\tlearn: 0.0501905\ttotal: 16s\tremaining: 14.9s\n",
            "518:\tlearn: 0.0501418\ttotal: 16s\tremaining: 14.9s\n",
            "519:\tlearn: 0.0500558\ttotal: 16.1s\tremaining: 14.8s\n",
            "520:\tlearn: 0.0500076\ttotal: 16.1s\tremaining: 14.8s\n",
            "521:\tlearn: 0.0498878\ttotal: 16.1s\tremaining: 14.8s\n",
            "522:\tlearn: 0.0497752\ttotal: 16.2s\tremaining: 14.7s\n",
            "523:\tlearn: 0.0497215\ttotal: 16.2s\tremaining: 14.7s\n",
            "524:\tlearn: 0.0496566\ttotal: 16.3s\tremaining: 14.7s\n",
            "525:\tlearn: 0.0496042\ttotal: 16.3s\tremaining: 14.7s\n",
            "526:\tlearn: 0.0495809\ttotal: 16.3s\tremaining: 14.7s\n",
            "527:\tlearn: 0.0494625\ttotal: 16.4s\tremaining: 14.6s\n",
            "528:\tlearn: 0.0494581\ttotal: 16.4s\tremaining: 14.6s\n",
            "529:\tlearn: 0.0493538\ttotal: 16.4s\tremaining: 14.6s\n",
            "530:\tlearn: 0.0492676\ttotal: 16.4s\tremaining: 14.5s\n",
            "531:\tlearn: 0.0491888\ttotal: 16.5s\tremaining: 14.5s\n",
            "532:\tlearn: 0.0490929\ttotal: 16.5s\tremaining: 14.5s\n",
            "533:\tlearn: 0.0490006\ttotal: 16.6s\tremaining: 14.4s\n",
            "534:\tlearn: 0.0489170\ttotal: 16.6s\tremaining: 14.4s\n",
            "535:\tlearn: 0.0488013\ttotal: 16.6s\tremaining: 14.4s\n",
            "536:\tlearn: 0.0487140\ttotal: 16.7s\tremaining: 14.4s\n",
            "537:\tlearn: 0.0486742\ttotal: 16.7s\tremaining: 14.3s\n",
            "538:\tlearn: 0.0486091\ttotal: 16.7s\tremaining: 14.3s\n",
            "539:\tlearn: 0.0485378\ttotal: 16.8s\tremaining: 14.3s\n",
            "540:\tlearn: 0.0485300\ttotal: 16.8s\tremaining: 14.3s\n",
            "541:\tlearn: 0.0484380\ttotal: 16.8s\tremaining: 14.2s\n",
            "542:\tlearn: 0.0483995\ttotal: 16.9s\tremaining: 14.2s\n",
            "543:\tlearn: 0.0483816\ttotal: 16.9s\tremaining: 14.2s\n",
            "544:\tlearn: 0.0482606\ttotal: 17s\tremaining: 14.2s\n",
            "545:\tlearn: 0.0481796\ttotal: 17s\tremaining: 14.1s\n",
            "546:\tlearn: 0.0481494\ttotal: 17.1s\tremaining: 14.1s\n",
            "547:\tlearn: 0.0480896\ttotal: 17.1s\tremaining: 14.1s\n",
            "548:\tlearn: 0.0479899\ttotal: 17.1s\tremaining: 14.1s\n",
            "549:\tlearn: 0.0479511\ttotal: 17.2s\tremaining: 14.1s\n",
            "550:\tlearn: 0.0478378\ttotal: 17.2s\tremaining: 14.1s\n",
            "551:\tlearn: 0.0477887\ttotal: 17.3s\tremaining: 14s\n",
            "552:\tlearn: 0.0477519\ttotal: 17.4s\tremaining: 14s\n",
            "553:\tlearn: 0.0477379\ttotal: 17.4s\tremaining: 14s\n",
            "554:\tlearn: 0.0476674\ttotal: 17.4s\tremaining: 14s\n",
            "555:\tlearn: 0.0475918\ttotal: 17.5s\tremaining: 13.9s\n",
            "556:\tlearn: 0.0475889\ttotal: 17.5s\tremaining: 13.9s\n",
            "557:\tlearn: 0.0475599\ttotal: 17.5s\tremaining: 13.9s\n",
            "558:\tlearn: 0.0474505\ttotal: 17.6s\tremaining: 13.8s\n",
            "559:\tlearn: 0.0473693\ttotal: 17.6s\tremaining: 13.8s\n",
            "560:\tlearn: 0.0473009\ttotal: 17.6s\tremaining: 13.8s\n",
            "561:\tlearn: 0.0471965\ttotal: 17.7s\tremaining: 13.8s\n",
            "562:\tlearn: 0.0471405\ttotal: 17.7s\tremaining: 13.7s\n",
            "563:\tlearn: 0.0470799\ttotal: 17.7s\tremaining: 13.7s\n",
            "564:\tlearn: 0.0470091\ttotal: 17.8s\tremaining: 13.7s\n",
            "565:\tlearn: 0.0469257\ttotal: 17.8s\tremaining: 13.7s\n",
            "566:\tlearn: 0.0468658\ttotal: 17.9s\tremaining: 13.7s\n",
            "567:\tlearn: 0.0468515\ttotal: 17.9s\tremaining: 13.6s\n",
            "568:\tlearn: 0.0468480\ttotal: 18s\tremaining: 13.6s\n",
            "569:\tlearn: 0.0468098\ttotal: 18s\tremaining: 13.6s\n",
            "570:\tlearn: 0.0467106\ttotal: 18s\tremaining: 13.5s\n",
            "571:\tlearn: 0.0466316\ttotal: 18s\tremaining: 13.5s\n",
            "572:\tlearn: 0.0465985\ttotal: 18.1s\tremaining: 13.5s\n",
            "573:\tlearn: 0.0465537\ttotal: 18.1s\tremaining: 13.5s\n",
            "574:\tlearn: 0.0464621\ttotal: 18.2s\tremaining: 13.4s\n",
            "575:\tlearn: 0.0463811\ttotal: 18.2s\tremaining: 13.4s\n",
            "576:\tlearn: 0.0463010\ttotal: 18.3s\tremaining: 13.4s\n",
            "577:\tlearn: 0.0462074\ttotal: 18.3s\tremaining: 13.3s\n",
            "578:\tlearn: 0.0461307\ttotal: 18.3s\tremaining: 13.3s\n",
            "579:\tlearn: 0.0460741\ttotal: 18.3s\tremaining: 13.3s\n",
            "580:\tlearn: 0.0460017\ttotal: 18.4s\tremaining: 13.3s\n",
            "581:\tlearn: 0.0459337\ttotal: 18.4s\tremaining: 13.2s\n",
            "582:\tlearn: 0.0458398\ttotal: 18.4s\tremaining: 13.2s\n",
            "583:\tlearn: 0.0457501\ttotal: 18.5s\tremaining: 13.2s\n",
            "584:\tlearn: 0.0456941\ttotal: 18.5s\tremaining: 13.1s\n",
            "585:\tlearn: 0.0456276\ttotal: 18.5s\tremaining: 13.1s\n",
            "586:\tlearn: 0.0456079\ttotal: 18.6s\tremaining: 13.1s\n",
            "587:\tlearn: 0.0455687\ttotal: 18.6s\tremaining: 13s\n",
            "588:\tlearn: 0.0454897\ttotal: 18.6s\tremaining: 13s\n",
            "589:\tlearn: 0.0454717\ttotal: 18.7s\tremaining: 13s\n",
            "590:\tlearn: 0.0454099\ttotal: 18.7s\tremaining: 12.9s\n",
            "591:\tlearn: 0.0453516\ttotal: 18.7s\tremaining: 12.9s\n",
            "592:\tlearn: 0.0453090\ttotal: 18.8s\tremaining: 12.9s\n",
            "593:\tlearn: 0.0452324\ttotal: 18.8s\tremaining: 12.9s\n",
            "594:\tlearn: 0.0451854\ttotal: 18.8s\tremaining: 12.8s\n",
            "595:\tlearn: 0.0451323\ttotal: 18.9s\tremaining: 12.8s\n",
            "596:\tlearn: 0.0450435\ttotal: 18.9s\tremaining: 12.8s\n",
            "597:\tlearn: 0.0449817\ttotal: 18.9s\tremaining: 12.7s\n",
            "598:\tlearn: 0.0449177\ttotal: 19s\tremaining: 12.7s\n",
            "599:\tlearn: 0.0449078\ttotal: 19s\tremaining: 12.7s\n",
            "600:\tlearn: 0.0448623\ttotal: 19.1s\tremaining: 12.7s\n",
            "601:\tlearn: 0.0448346\ttotal: 19.1s\tremaining: 12.6s\n",
            "602:\tlearn: 0.0447860\ttotal: 19.1s\tremaining: 12.6s\n",
            "603:\tlearn: 0.0447715\ttotal: 19.2s\tremaining: 12.6s\n",
            "604:\tlearn: 0.0447208\ttotal: 19.2s\tremaining: 12.5s\n",
            "605:\tlearn: 0.0446456\ttotal: 19.2s\tremaining: 12.5s\n",
            "606:\tlearn: 0.0445609\ttotal: 19.3s\tremaining: 12.5s\n",
            "607:\tlearn: 0.0445269\ttotal: 19.3s\tremaining: 12.4s\n",
            "608:\tlearn: 0.0444528\ttotal: 19.3s\tremaining: 12.4s\n",
            "609:\tlearn: 0.0444400\ttotal: 19.3s\tremaining: 12.4s\n",
            "610:\tlearn: 0.0443843\ttotal: 19.4s\tremaining: 12.3s\n",
            "611:\tlearn: 0.0442916\ttotal: 19.4s\tremaining: 12.3s\n",
            "612:\tlearn: 0.0442199\ttotal: 19.4s\tremaining: 12.3s\n",
            "613:\tlearn: 0.0441647\ttotal: 19.5s\tremaining: 12.2s\n",
            "614:\tlearn: 0.0441048\ttotal: 19.5s\tremaining: 12.2s\n",
            "615:\tlearn: 0.0440346\ttotal: 19.5s\tremaining: 12.2s\n",
            "616:\tlearn: 0.0439420\ttotal: 19.6s\tremaining: 12.1s\n",
            "617:\tlearn: 0.0439060\ttotal: 19.6s\tremaining: 12.1s\n",
            "618:\tlearn: 0.0438791\ttotal: 19.7s\tremaining: 12.1s\n",
            "619:\tlearn: 0.0438240\ttotal: 19.7s\tremaining: 12.1s\n",
            "620:\tlearn: 0.0437401\ttotal: 19.7s\tremaining: 12s\n",
            "621:\tlearn: 0.0436723\ttotal: 19.8s\tremaining: 12s\n",
            "622:\tlearn: 0.0436060\ttotal: 19.8s\tremaining: 12s\n",
            "623:\tlearn: 0.0435238\ttotal: 19.8s\tremaining: 12s\n",
            "624:\tlearn: 0.0434836\ttotal: 19.9s\tremaining: 11.9s\n",
            "625:\tlearn: 0.0434674\ttotal: 19.9s\tremaining: 11.9s\n",
            "626:\tlearn: 0.0433717\ttotal: 19.9s\tremaining: 11.9s\n",
            "627:\tlearn: 0.0433305\ttotal: 20s\tremaining: 11.8s\n",
            "628:\tlearn: 0.0433207\ttotal: 20s\tremaining: 11.8s\n",
            "629:\tlearn: 0.0432768\ttotal: 20.1s\tremaining: 11.8s\n",
            "630:\tlearn: 0.0432125\ttotal: 20.1s\tremaining: 11.8s\n",
            "631:\tlearn: 0.0432011\ttotal: 20.2s\tremaining: 11.7s\n",
            "632:\tlearn: 0.0431379\ttotal: 20.2s\tremaining: 11.7s\n",
            "633:\tlearn: 0.0431304\ttotal: 20.2s\tremaining: 11.7s\n",
            "634:\tlearn: 0.0430587\ttotal: 20.3s\tremaining: 11.7s\n",
            "635:\tlearn: 0.0430025\ttotal: 20.3s\tremaining: 11.6s\n",
            "636:\tlearn: 0.0429377\ttotal: 20.3s\tremaining: 11.6s\n",
            "637:\tlearn: 0.0429156\ttotal: 20.4s\tremaining: 11.5s\n",
            "638:\tlearn: 0.0428721\ttotal: 20.4s\tremaining: 11.5s\n",
            "639:\tlearn: 0.0428026\ttotal: 20.4s\tremaining: 11.5s\n",
            "640:\tlearn: 0.0427585\ttotal: 20.4s\tremaining: 11.4s\n",
            "641:\tlearn: 0.0427003\ttotal: 20.5s\tremaining: 11.4s\n",
            "642:\tlearn: 0.0426586\ttotal: 20.5s\tremaining: 11.4s\n",
            "643:\tlearn: 0.0426112\ttotal: 20.5s\tremaining: 11.3s\n",
            "644:\tlearn: 0.0425432\ttotal: 20.6s\tremaining: 11.3s\n",
            "645:\tlearn: 0.0425190\ttotal: 20.6s\tremaining: 11.3s\n",
            "646:\tlearn: 0.0424580\ttotal: 20.7s\tremaining: 11.3s\n",
            "647:\tlearn: 0.0424553\ttotal: 20.7s\tremaining: 11.3s\n",
            "648:\tlearn: 0.0423898\ttotal: 20.8s\tremaining: 11.2s\n",
            "649:\tlearn: 0.0423480\ttotal: 20.8s\tremaining: 11.2s\n",
            "650:\tlearn: 0.0423151\ttotal: 20.8s\tremaining: 11.2s\n",
            "651:\tlearn: 0.0422816\ttotal: 20.8s\tremaining: 11.1s\n",
            "652:\tlearn: 0.0422431\ttotal: 20.9s\tremaining: 11.1s\n",
            "653:\tlearn: 0.0421963\ttotal: 20.9s\tremaining: 11.1s\n",
            "654:\tlearn: 0.0421203\ttotal: 20.9s\tremaining: 11s\n",
            "655:\tlearn: 0.0420309\ttotal: 21s\tremaining: 11s\n",
            "656:\tlearn: 0.0419756\ttotal: 21s\tremaining: 11s\n",
            "657:\tlearn: 0.0418761\ttotal: 21s\tremaining: 10.9s\n",
            "658:\tlearn: 0.0418505\ttotal: 21s\tremaining: 10.9s\n",
            "659:\tlearn: 0.0418367\ttotal: 21.1s\tremaining: 10.9s\n",
            "660:\tlearn: 0.0418180\ttotal: 21.1s\tremaining: 10.8s\n",
            "661:\tlearn: 0.0417614\ttotal: 21.1s\tremaining: 10.8s\n",
            "662:\tlearn: 0.0416800\ttotal: 21.2s\tremaining: 10.8s\n",
            "663:\tlearn: 0.0416166\ttotal: 21.2s\tremaining: 10.7s\n",
            "664:\tlearn: 0.0415850\ttotal: 21.2s\tremaining: 10.7s\n",
            "665:\tlearn: 0.0415531\ttotal: 21.3s\tremaining: 10.7s\n",
            "666:\tlearn: 0.0415148\ttotal: 21.3s\tremaining: 10.6s\n",
            "667:\tlearn: 0.0414600\ttotal: 21.3s\tremaining: 10.6s\n",
            "668:\tlearn: 0.0414372\ttotal: 21.4s\tremaining: 10.6s\n",
            "669:\tlearn: 0.0414094\ttotal: 21.4s\tremaining: 10.5s\n",
            "670:\tlearn: 0.0413197\ttotal: 21.4s\tremaining: 10.5s\n",
            "671:\tlearn: 0.0412890\ttotal: 21.5s\tremaining: 10.5s\n",
            "672:\tlearn: 0.0412340\ttotal: 21.5s\tremaining: 10.4s\n",
            "673:\tlearn: 0.0412185\ttotal: 21.5s\tremaining: 10.4s\n",
            "674:\tlearn: 0.0411871\ttotal: 21.5s\tremaining: 10.4s\n",
            "675:\tlearn: 0.0411565\ttotal: 21.6s\tremaining: 10.3s\n",
            "676:\tlearn: 0.0411013\ttotal: 21.6s\tremaining: 10.3s\n",
            "677:\tlearn: 0.0410681\ttotal: 21.6s\tremaining: 10.3s\n",
            "678:\tlearn: 0.0410284\ttotal: 21.7s\tremaining: 10.2s\n",
            "679:\tlearn: 0.0409565\ttotal: 21.7s\tremaining: 10.2s\n",
            "680:\tlearn: 0.0408729\ttotal: 21.7s\tremaining: 10.2s\n",
            "681:\tlearn: 0.0408091\ttotal: 21.8s\tremaining: 10.2s\n",
            "682:\tlearn: 0.0408016\ttotal: 21.8s\tremaining: 10.1s\n",
            "683:\tlearn: 0.0407449\ttotal: 21.9s\tremaining: 10.1s\n",
            "684:\tlearn: 0.0406876\ttotal: 21.9s\tremaining: 10.1s\n",
            "685:\tlearn: 0.0406463\ttotal: 21.9s\tremaining: 10s\n",
            "686:\tlearn: 0.0405765\ttotal: 21.9s\tremaining: 9.98s\n",
            "687:\tlearn: 0.0405246\ttotal: 21.9s\tremaining: 9.95s\n",
            "688:\tlearn: 0.0404461\ttotal: 22s\tremaining: 9.94s\n",
            "689:\tlearn: 0.0403850\ttotal: 22s\tremaining: 9.9s\n",
            "690:\tlearn: 0.0403763\ttotal: 22.1s\tremaining: 9.87s\n",
            "691:\tlearn: 0.0403441\ttotal: 22.1s\tremaining: 9.84s\n",
            "692:\tlearn: 0.0402646\ttotal: 22.1s\tremaining: 9.81s\n",
            "693:\tlearn: 0.0402448\ttotal: 22.2s\tremaining: 9.78s\n",
            "694:\tlearn: 0.0401335\ttotal: 22.2s\tremaining: 9.75s\n",
            "695:\tlearn: 0.0400686\ttotal: 22.2s\tremaining: 9.71s\n",
            "696:\tlearn: 0.0399943\ttotal: 22.3s\tremaining: 9.69s\n",
            "697:\tlearn: 0.0399158\ttotal: 22.3s\tremaining: 9.65s\n",
            "698:\tlearn: 0.0399014\ttotal: 22.3s\tremaining: 9.62s\n",
            "699:\tlearn: 0.0398319\ttotal: 22.4s\tremaining: 9.59s\n",
            "700:\tlearn: 0.0397347\ttotal: 22.4s\tremaining: 9.57s\n",
            "701:\tlearn: 0.0397062\ttotal: 22.5s\tremaining: 9.54s\n",
            "702:\tlearn: 0.0396206\ttotal: 22.5s\tremaining: 9.5s\n",
            "703:\tlearn: 0.0395657\ttotal: 22.5s\tremaining: 9.48s\n",
            "704:\tlearn: 0.0395311\ttotal: 22.6s\tremaining: 9.45s\n",
            "705:\tlearn: 0.0395290\ttotal: 22.6s\tremaining: 9.41s\n",
            "706:\tlearn: 0.0394548\ttotal: 22.6s\tremaining: 9.38s\n",
            "707:\tlearn: 0.0394050\ttotal: 22.7s\tremaining: 9.35s\n",
            "708:\tlearn: 0.0393736\ttotal: 22.7s\tremaining: 9.32s\n",
            "709:\tlearn: 0.0393431\ttotal: 22.7s\tremaining: 9.29s\n",
            "710:\tlearn: 0.0393224\ttotal: 22.8s\tremaining: 9.26s\n",
            "711:\tlearn: 0.0392998\ttotal: 22.8s\tremaining: 9.23s\n",
            "712:\tlearn: 0.0392124\ttotal: 22.8s\tremaining: 9.19s\n",
            "713:\tlearn: 0.0391408\ttotal: 22.9s\tremaining: 9.16s\n",
            "714:\tlearn: 0.0390925\ttotal: 22.9s\tremaining: 9.14s\n",
            "715:\tlearn: 0.0390654\ttotal: 23s\tremaining: 9.11s\n",
            "716:\tlearn: 0.0390215\ttotal: 23s\tremaining: 9.08s\n",
            "717:\tlearn: 0.0389849\ttotal: 23s\tremaining: 9.05s\n",
            "718:\tlearn: 0.0389568\ttotal: 23.1s\tremaining: 9.02s\n",
            "719:\tlearn: 0.0389027\ttotal: 23.1s\tremaining: 8.98s\n",
            "720:\tlearn: 0.0388407\ttotal: 23.1s\tremaining: 8.95s\n",
            "721:\tlearn: 0.0388266\ttotal: 23.2s\tremaining: 8.91s\n",
            "722:\tlearn: 0.0387781\ttotal: 23.2s\tremaining: 8.88s\n",
            "723:\tlearn: 0.0387166\ttotal: 23.2s\tremaining: 8.85s\n",
            "724:\tlearn: 0.0387037\ttotal: 23.3s\tremaining: 8.82s\n",
            "725:\tlearn: 0.0386715\ttotal: 23.3s\tremaining: 8.8s\n",
            "726:\tlearn: 0.0386240\ttotal: 23.3s\tremaining: 8.77s\n",
            "727:\tlearn: 0.0386240\ttotal: 23.4s\tremaining: 8.73s\n",
            "728:\tlearn: 0.0386008\ttotal: 23.4s\tremaining: 8.71s\n",
            "729:\tlearn: 0.0385852\ttotal: 23.4s\tremaining: 8.67s\n",
            "730:\tlearn: 0.0385423\ttotal: 23.5s\tremaining: 8.64s\n",
            "731:\tlearn: 0.0384516\ttotal: 23.5s\tremaining: 8.62s\n",
            "732:\tlearn: 0.0383885\ttotal: 23.6s\tremaining: 8.59s\n",
            "733:\tlearn: 0.0383670\ttotal: 23.6s\tremaining: 8.55s\n",
            "734:\tlearn: 0.0383462\ttotal: 23.6s\tremaining: 8.52s\n",
            "735:\tlearn: 0.0382873\ttotal: 23.7s\tremaining: 8.49s\n",
            "736:\tlearn: 0.0381863\ttotal: 23.7s\tremaining: 8.47s\n",
            "737:\tlearn: 0.0381457\ttotal: 23.8s\tremaining: 8.44s\n",
            "738:\tlearn: 0.0380938\ttotal: 23.8s\tremaining: 8.41s\n",
            "739:\tlearn: 0.0380489\ttotal: 23.8s\tremaining: 8.37s\n",
            "740:\tlearn: 0.0380147\ttotal: 23.9s\tremaining: 8.36s\n",
            "741:\tlearn: 0.0379578\ttotal: 24s\tremaining: 8.33s\n",
            "742:\tlearn: 0.0379235\ttotal: 24s\tremaining: 8.31s\n",
            "743:\tlearn: 0.0378580\ttotal: 24.1s\tremaining: 8.28s\n",
            "744:\tlearn: 0.0378240\ttotal: 24.1s\tremaining: 8.26s\n",
            "745:\tlearn: 0.0377432\ttotal: 24.2s\tremaining: 8.22s\n",
            "746:\tlearn: 0.0376808\ttotal: 24.2s\tremaining: 8.19s\n",
            "747:\tlearn: 0.0376441\ttotal: 24.2s\tremaining: 8.16s\n",
            "748:\tlearn: 0.0376036\ttotal: 24.2s\tremaining: 8.13s\n",
            "749:\tlearn: 0.0375664\ttotal: 24.3s\tremaining: 8.09s\n",
            "750:\tlearn: 0.0375223\ttotal: 24.3s\tremaining: 8.06s\n",
            "751:\tlearn: 0.0374891\ttotal: 24.3s\tremaining: 8.03s\n",
            "752:\tlearn: 0.0374575\ttotal: 24.4s\tremaining: 7.99s\n",
            "753:\tlearn: 0.0373920\ttotal: 24.4s\tremaining: 7.97s\n",
            "754:\tlearn: 0.0373437\ttotal: 24.5s\tremaining: 7.95s\n",
            "755:\tlearn: 0.0373420\ttotal: 24.5s\tremaining: 7.92s\n",
            "756:\tlearn: 0.0372662\ttotal: 24.6s\tremaining: 7.9s\n",
            "757:\tlearn: 0.0372272\ttotal: 24.7s\tremaining: 7.88s\n",
            "758:\tlearn: 0.0371965\ttotal: 24.7s\tremaining: 7.84s\n",
            "759:\tlearn: 0.0371294\ttotal: 24.8s\tremaining: 7.82s\n",
            "760:\tlearn: 0.0370697\ttotal: 24.8s\tremaining: 7.79s\n",
            "761:\tlearn: 0.0370548\ttotal: 24.8s\tremaining: 7.76s\n",
            "762:\tlearn: 0.0370050\ttotal: 24.9s\tremaining: 7.72s\n",
            "763:\tlearn: 0.0369899\ttotal: 24.9s\tremaining: 7.7s\n",
            "764:\tlearn: 0.0369620\ttotal: 25s\tremaining: 7.68s\n",
            "765:\tlearn: 0.0369361\ttotal: 25s\tremaining: 7.65s\n",
            "766:\tlearn: 0.0368720\ttotal: 25.1s\tremaining: 7.62s\n",
            "767:\tlearn: 0.0368574\ttotal: 25.1s\tremaining: 7.59s\n",
            "768:\tlearn: 0.0368304\ttotal: 25.2s\tremaining: 7.56s\n",
            "769:\tlearn: 0.0367661\ttotal: 25.2s\tremaining: 7.52s\n",
            "770:\tlearn: 0.0367317\ttotal: 25.2s\tremaining: 7.49s\n",
            "771:\tlearn: 0.0367249\ttotal: 25.2s\tremaining: 7.45s\n",
            "772:\tlearn: 0.0366860\ttotal: 25.3s\tremaining: 7.43s\n",
            "773:\tlearn: 0.0366370\ttotal: 25.3s\tremaining: 7.39s\n",
            "774:\tlearn: 0.0365799\ttotal: 25.4s\tremaining: 7.37s\n",
            "775:\tlearn: 0.0365452\ttotal: 25.4s\tremaining: 7.34s\n",
            "776:\tlearn: 0.0365153\ttotal: 25.5s\tremaining: 7.31s\n",
            "777:\tlearn: 0.0365006\ttotal: 25.5s\tremaining: 7.28s\n",
            "778:\tlearn: 0.0364436\ttotal: 25.5s\tremaining: 7.25s\n",
            "779:\tlearn: 0.0364256\ttotal: 25.6s\tremaining: 7.22s\n",
            "780:\tlearn: 0.0363573\ttotal: 25.7s\tremaining: 7.2s\n",
            "781:\tlearn: 0.0363437\ttotal: 25.7s\tremaining: 7.18s\n",
            "782:\tlearn: 0.0363030\ttotal: 25.8s\tremaining: 7.15s\n",
            "783:\tlearn: 0.0362710\ttotal: 25.8s\tremaining: 7.12s\n",
            "784:\tlearn: 0.0362141\ttotal: 25.9s\tremaining: 7.09s\n",
            "785:\tlearn: 0.0362093\ttotal: 26s\tremaining: 7.07s\n",
            "786:\tlearn: 0.0362029\ttotal: 26s\tremaining: 7.04s\n",
            "787:\tlearn: 0.0361440\ttotal: 26.1s\tremaining: 7.01s\n",
            "788:\tlearn: 0.0361106\ttotal: 26.1s\tremaining: 6.99s\n",
            "789:\tlearn: 0.0360763\ttotal: 26.2s\tremaining: 6.97s\n",
            "790:\tlearn: 0.0360578\ttotal: 26.3s\tremaining: 6.94s\n",
            "791:\tlearn: 0.0360191\ttotal: 26.4s\tremaining: 6.92s\n",
            "792:\tlearn: 0.0359772\ttotal: 26.4s\tremaining: 6.9s\n",
            "793:\tlearn: 0.0359492\ttotal: 26.5s\tremaining: 6.87s\n",
            "794:\tlearn: 0.0359023\ttotal: 26.6s\tremaining: 6.85s\n",
            "795:\tlearn: 0.0358389\ttotal: 26.6s\tremaining: 6.82s\n",
            "796:\tlearn: 0.0357827\ttotal: 26.7s\tremaining: 6.79s\n",
            "797:\tlearn: 0.0357512\ttotal: 26.7s\tremaining: 6.77s\n",
            "798:\tlearn: 0.0356855\ttotal: 26.8s\tremaining: 6.75s\n",
            "799:\tlearn: 0.0356379\ttotal: 26.9s\tremaining: 6.73s\n",
            "800:\tlearn: 0.0356100\ttotal: 27s\tremaining: 6.7s\n",
            "801:\tlearn: 0.0355542\ttotal: 27s\tremaining: 6.67s\n",
            "802:\tlearn: 0.0355245\ttotal: 27.1s\tremaining: 6.65s\n",
            "803:\tlearn: 0.0354989\ttotal: 27.2s\tremaining: 6.62s\n",
            "804:\tlearn: 0.0354532\ttotal: 27.2s\tremaining: 6.59s\n",
            "805:\tlearn: 0.0354218\ttotal: 27.3s\tremaining: 6.56s\n",
            "806:\tlearn: 0.0353910\ttotal: 27.3s\tremaining: 6.54s\n",
            "807:\tlearn: 0.0353672\ttotal: 27.4s\tremaining: 6.51s\n",
            "808:\tlearn: 0.0353227\ttotal: 27.4s\tremaining: 6.48s\n",
            "809:\tlearn: 0.0353057\ttotal: 27.5s\tremaining: 6.45s\n",
            "810:\tlearn: 0.0352684\ttotal: 27.6s\tremaining: 6.43s\n",
            "811:\tlearn: 0.0352433\ttotal: 27.6s\tremaining: 6.39s\n",
            "812:\tlearn: 0.0352349\ttotal: 27.7s\tremaining: 6.36s\n",
            "813:\tlearn: 0.0351951\ttotal: 27.7s\tremaining: 6.33s\n",
            "814:\tlearn: 0.0351510\ttotal: 27.7s\tremaining: 6.29s\n",
            "815:\tlearn: 0.0351171\ttotal: 27.8s\tremaining: 6.26s\n",
            "816:\tlearn: 0.0350790\ttotal: 27.8s\tremaining: 6.23s\n",
            "817:\tlearn: 0.0350611\ttotal: 27.8s\tremaining: 6.19s\n",
            "818:\tlearn: 0.0350404\ttotal: 27.9s\tremaining: 6.16s\n",
            "819:\tlearn: 0.0350153\ttotal: 27.9s\tremaining: 6.12s\n",
            "820:\tlearn: 0.0349587\ttotal: 27.9s\tremaining: 6.08s\n",
            "821:\tlearn: 0.0349427\ttotal: 28s\tremaining: 6.05s\n",
            "822:\tlearn: 0.0348791\ttotal: 28s\tremaining: 6.02s\n",
            "823:\tlearn: 0.0348264\ttotal: 28s\tremaining: 5.99s\n",
            "824:\tlearn: 0.0348182\ttotal: 28.1s\tremaining: 5.95s\n",
            "825:\tlearn: 0.0347937\ttotal: 28.1s\tremaining: 5.92s\n",
            "826:\tlearn: 0.0347250\ttotal: 28.2s\tremaining: 5.89s\n",
            "827:\tlearn: 0.0346813\ttotal: 28.2s\tremaining: 5.86s\n",
            "828:\tlearn: 0.0346320\ttotal: 28.2s\tremaining: 5.83s\n",
            "829:\tlearn: 0.0346032\ttotal: 28.3s\tremaining: 5.79s\n",
            "830:\tlearn: 0.0345804\ttotal: 28.3s\tremaining: 5.76s\n",
            "831:\tlearn: 0.0345412\ttotal: 28.4s\tremaining: 5.73s\n",
            "832:\tlearn: 0.0344860\ttotal: 28.4s\tremaining: 5.7s\n",
            "833:\tlearn: 0.0344635\ttotal: 28.5s\tremaining: 5.66s\n",
            "834:\tlearn: 0.0344288\ttotal: 28.5s\tremaining: 5.63s\n",
            "835:\tlearn: 0.0343953\ttotal: 28.5s\tremaining: 5.59s\n",
            "836:\tlearn: 0.0343344\ttotal: 28.6s\tremaining: 5.56s\n",
            "837:\tlearn: 0.0342734\ttotal: 28.6s\tremaining: 5.53s\n",
            "838:\tlearn: 0.0341858\ttotal: 28.6s\tremaining: 5.5s\n",
            "839:\tlearn: 0.0341694\ttotal: 28.7s\tremaining: 5.46s\n",
            "840:\tlearn: 0.0341526\ttotal: 28.7s\tremaining: 5.43s\n",
            "841:\tlearn: 0.0341175\ttotal: 28.7s\tremaining: 5.39s\n",
            "842:\tlearn: 0.0340802\ttotal: 28.8s\tremaining: 5.36s\n",
            "843:\tlearn: 0.0340618\ttotal: 28.8s\tremaining: 5.33s\n",
            "844:\tlearn: 0.0340226\ttotal: 28.9s\tremaining: 5.29s\n",
            "845:\tlearn: 0.0339989\ttotal: 28.9s\tremaining: 5.26s\n",
            "846:\tlearn: 0.0339655\ttotal: 28.9s\tremaining: 5.23s\n",
            "847:\tlearn: 0.0339327\ttotal: 29s\tremaining: 5.19s\n",
            "848:\tlearn: 0.0339076\ttotal: 29s\tremaining: 5.16s\n",
            "849:\tlearn: 0.0338403\ttotal: 29.1s\tremaining: 5.13s\n",
            "850:\tlearn: 0.0338188\ttotal: 29.1s\tremaining: 5.09s\n",
            "851:\tlearn: 0.0337897\ttotal: 29.1s\tremaining: 5.06s\n",
            "852:\tlearn: 0.0337492\ttotal: 29.1s\tremaining: 5.02s\n",
            "853:\tlearn: 0.0337144\ttotal: 29.2s\tremaining: 4.98s\n",
            "854:\tlearn: 0.0337010\ttotal: 29.2s\tremaining: 4.95s\n",
            "855:\tlearn: 0.0336732\ttotal: 29.2s\tremaining: 4.92s\n",
            "856:\tlearn: 0.0336136\ttotal: 29.3s\tremaining: 4.88s\n",
            "857:\tlearn: 0.0335543\ttotal: 29.3s\tremaining: 4.85s\n",
            "858:\tlearn: 0.0335292\ttotal: 29.3s\tremaining: 4.81s\n",
            "859:\tlearn: 0.0334554\ttotal: 29.3s\tremaining: 4.78s\n",
            "860:\tlearn: 0.0334123\ttotal: 29.4s\tremaining: 4.74s\n",
            "861:\tlearn: 0.0333599\ttotal: 29.4s\tremaining: 4.71s\n",
            "862:\tlearn: 0.0333123\ttotal: 29.5s\tremaining: 4.67s\n",
            "863:\tlearn: 0.0332908\ttotal: 29.5s\tremaining: 4.64s\n",
            "864:\tlearn: 0.0332343\ttotal: 29.5s\tremaining: 4.61s\n",
            "865:\tlearn: 0.0332034\ttotal: 29.6s\tremaining: 4.57s\n",
            "866:\tlearn: 0.0331780\ttotal: 29.6s\tremaining: 4.54s\n",
            "867:\tlearn: 0.0331174\ttotal: 29.6s\tremaining: 4.5s\n",
            "868:\tlearn: 0.0331060\ttotal: 29.6s\tremaining: 4.47s\n",
            "869:\tlearn: 0.0330432\ttotal: 29.7s\tremaining: 4.43s\n",
            "870:\tlearn: 0.0330309\ttotal: 29.7s\tremaining: 4.4s\n",
            "871:\tlearn: 0.0329962\ttotal: 29.8s\tremaining: 4.37s\n",
            "872:\tlearn: 0.0329962\ttotal: 29.8s\tremaining: 4.33s\n",
            "873:\tlearn: 0.0329614\ttotal: 29.8s\tremaining: 4.3s\n",
            "874:\tlearn: 0.0329262\ttotal: 29.8s\tremaining: 4.26s\n",
            "875:\tlearn: 0.0328865\ttotal: 29.9s\tremaining: 4.23s\n",
            "876:\tlearn: 0.0328618\ttotal: 29.9s\tremaining: 4.19s\n",
            "877:\tlearn: 0.0328489\ttotal: 30s\tremaining: 4.16s\n",
            "878:\tlearn: 0.0328250\ttotal: 30s\tremaining: 4.13s\n",
            "879:\tlearn: 0.0327886\ttotal: 30s\tremaining: 4.1s\n",
            "880:\tlearn: 0.0327346\ttotal: 30.1s\tremaining: 4.06s\n",
            "881:\tlearn: 0.0326999\ttotal: 30.1s\tremaining: 4.03s\n",
            "882:\tlearn: 0.0326357\ttotal: 30.2s\tremaining: 4s\n",
            "883:\tlearn: 0.0325857\ttotal: 30.2s\tremaining: 3.96s\n",
            "884:\tlearn: 0.0325428\ttotal: 30.3s\tremaining: 3.93s\n",
            "885:\tlearn: 0.0325282\ttotal: 30.3s\tremaining: 3.9s\n",
            "886:\tlearn: 0.0324886\ttotal: 30.3s\tremaining: 3.86s\n",
            "887:\tlearn: 0.0324417\ttotal: 30.3s\tremaining: 3.83s\n",
            "888:\tlearn: 0.0323923\ttotal: 30.4s\tremaining: 3.79s\n",
            "889:\tlearn: 0.0323521\ttotal: 30.4s\tremaining: 3.76s\n",
            "890:\tlearn: 0.0323086\ttotal: 30.4s\tremaining: 3.72s\n",
            "891:\tlearn: 0.0322879\ttotal: 30.5s\tremaining: 3.69s\n",
            "892:\tlearn: 0.0322783\ttotal: 30.5s\tremaining: 3.65s\n",
            "893:\tlearn: 0.0322428\ttotal: 30.5s\tremaining: 3.62s\n",
            "894:\tlearn: 0.0321939\ttotal: 30.6s\tremaining: 3.59s\n",
            "895:\tlearn: 0.0321611\ttotal: 30.6s\tremaining: 3.56s\n",
            "896:\tlearn: 0.0321162\ttotal: 30.7s\tremaining: 3.52s\n",
            "897:\tlearn: 0.0320715\ttotal: 30.7s\tremaining: 3.49s\n",
            "898:\tlearn: 0.0320611\ttotal: 30.8s\tremaining: 3.46s\n",
            "899:\tlearn: 0.0320256\ttotal: 30.8s\tremaining: 3.42s\n",
            "900:\tlearn: 0.0320248\ttotal: 30.8s\tremaining: 3.39s\n",
            "901:\tlearn: 0.0319871\ttotal: 30.9s\tremaining: 3.35s\n",
            "902:\tlearn: 0.0319732\ttotal: 30.9s\tremaining: 3.32s\n",
            "903:\tlearn: 0.0319501\ttotal: 30.9s\tremaining: 3.28s\n",
            "904:\tlearn: 0.0319093\ttotal: 31s\tremaining: 3.25s\n",
            "905:\tlearn: 0.0318666\ttotal: 31s\tremaining: 3.21s\n",
            "906:\tlearn: 0.0318412\ttotal: 31s\tremaining: 3.18s\n",
            "907:\tlearn: 0.0318074\ttotal: 31.1s\tremaining: 3.15s\n",
            "908:\tlearn: 0.0317499\ttotal: 31.1s\tremaining: 3.11s\n",
            "909:\tlearn: 0.0317363\ttotal: 31.1s\tremaining: 3.08s\n",
            "910:\tlearn: 0.0317008\ttotal: 31.1s\tremaining: 3.04s\n",
            "911:\tlearn: 0.0316751\ttotal: 31.2s\tremaining: 3.01s\n",
            "912:\tlearn: 0.0316314\ttotal: 31.2s\tremaining: 2.97s\n",
            "913:\tlearn: 0.0316001\ttotal: 31.2s\tremaining: 2.94s\n",
            "914:\tlearn: 0.0315653\ttotal: 31.3s\tremaining: 2.9s\n",
            "915:\tlearn: 0.0315273\ttotal: 31.3s\tremaining: 2.87s\n",
            "916:\tlearn: 0.0314856\ttotal: 31.3s\tremaining: 2.83s\n",
            "917:\tlearn: 0.0314299\ttotal: 31.4s\tremaining: 2.8s\n",
            "918:\tlearn: 0.0314047\ttotal: 31.4s\tremaining: 2.77s\n",
            "919:\tlearn: 0.0313674\ttotal: 31.4s\tremaining: 2.73s\n",
            "920:\tlearn: 0.0313467\ttotal: 31.5s\tremaining: 2.7s\n",
            "921:\tlearn: 0.0313331\ttotal: 31.5s\tremaining: 2.66s\n",
            "922:\tlearn: 0.0313023\ttotal: 31.5s\tremaining: 2.63s\n",
            "923:\tlearn: 0.0312823\ttotal: 31.6s\tremaining: 2.6s\n",
            "924:\tlearn: 0.0312121\ttotal: 31.6s\tremaining: 2.56s\n",
            "925:\tlearn: 0.0311702\ttotal: 31.6s\tremaining: 2.53s\n",
            "926:\tlearn: 0.0311161\ttotal: 31.7s\tremaining: 2.49s\n",
            "927:\tlearn: 0.0310863\ttotal: 31.7s\tremaining: 2.46s\n",
            "928:\tlearn: 0.0310534\ttotal: 31.7s\tremaining: 2.42s\n",
            "929:\tlearn: 0.0310005\ttotal: 31.7s\tremaining: 2.39s\n",
            "930:\tlearn: 0.0309884\ttotal: 31.8s\tremaining: 2.35s\n",
            "931:\tlearn: 0.0309884\ttotal: 31.8s\tremaining: 2.32s\n",
            "932:\tlearn: 0.0309644\ttotal: 31.8s\tremaining: 2.29s\n",
            "933:\tlearn: 0.0309415\ttotal: 31.9s\tremaining: 2.25s\n",
            "934:\tlearn: 0.0308756\ttotal: 31.9s\tremaining: 2.22s\n",
            "935:\tlearn: 0.0308454\ttotal: 31.9s\tremaining: 2.18s\n",
            "936:\tlearn: 0.0308275\ttotal: 32s\tremaining: 2.15s\n",
            "937:\tlearn: 0.0307951\ttotal: 32s\tremaining: 2.12s\n",
            "938:\tlearn: 0.0307675\ttotal: 32s\tremaining: 2.08s\n",
            "939:\tlearn: 0.0307054\ttotal: 32.1s\tremaining: 2.05s\n",
            "940:\tlearn: 0.0306639\ttotal: 32.1s\tremaining: 2.01s\n",
            "941:\tlearn: 0.0306134\ttotal: 32.1s\tremaining: 1.98s\n",
            "942:\tlearn: 0.0305723\ttotal: 32.2s\tremaining: 1.94s\n",
            "943:\tlearn: 0.0305050\ttotal: 32.2s\tremaining: 1.91s\n",
            "944:\tlearn: 0.0304849\ttotal: 32.2s\tremaining: 1.88s\n",
            "945:\tlearn: 0.0304600\ttotal: 32.3s\tremaining: 1.84s\n",
            "946:\tlearn: 0.0304216\ttotal: 32.3s\tremaining: 1.81s\n",
            "947:\tlearn: 0.0304003\ttotal: 32.4s\tremaining: 1.78s\n",
            "948:\tlearn: 0.0303413\ttotal: 32.4s\tremaining: 1.74s\n",
            "949:\tlearn: 0.0303351\ttotal: 32.4s\tremaining: 1.71s\n",
            "950:\tlearn: 0.0303018\ttotal: 32.5s\tremaining: 1.67s\n",
            "951:\tlearn: 0.0302376\ttotal: 32.5s\tremaining: 1.64s\n",
            "952:\tlearn: 0.0302290\ttotal: 32.5s\tremaining: 1.6s\n",
            "953:\tlearn: 0.0301940\ttotal: 32.6s\tremaining: 1.57s\n",
            "954:\tlearn: 0.0301686\ttotal: 32.6s\tremaining: 1.54s\n",
            "955:\tlearn: 0.0301272\ttotal: 32.6s\tremaining: 1.5s\n",
            "956:\tlearn: 0.0300841\ttotal: 32.7s\tremaining: 1.47s\n",
            "957:\tlearn: 0.0300599\ttotal: 32.7s\tremaining: 1.43s\n",
            "958:\tlearn: 0.0300303\ttotal: 32.7s\tremaining: 1.4s\n",
            "959:\tlearn: 0.0299664\ttotal: 32.8s\tremaining: 1.36s\n",
            "960:\tlearn: 0.0299228\ttotal: 32.8s\tremaining: 1.33s\n",
            "961:\tlearn: 0.0299168\ttotal: 32.8s\tremaining: 1.3s\n",
            "962:\tlearn: 0.0298855\ttotal: 32.8s\tremaining: 1.26s\n",
            "963:\tlearn: 0.0298639\ttotal: 32.9s\tremaining: 1.23s\n",
            "964:\tlearn: 0.0298287\ttotal: 32.9s\tremaining: 1.19s\n",
            "965:\tlearn: 0.0298081\ttotal: 33s\tremaining: 1.16s\n",
            "966:\tlearn: 0.0297691\ttotal: 33s\tremaining: 1.13s\n",
            "967:\tlearn: 0.0297456\ttotal: 33s\tremaining: 1.09s\n",
            "968:\tlearn: 0.0297033\ttotal: 33s\tremaining: 1.06s\n",
            "969:\tlearn: 0.0296886\ttotal: 33s\tremaining: 1.02s\n",
            "970:\tlearn: 0.0296820\ttotal: 33.1s\tremaining: 988ms\n",
            "971:\tlearn: 0.0296433\ttotal: 33.1s\tremaining: 954ms\n",
            "972:\tlearn: 0.0296278\ttotal: 33.2s\tremaining: 920ms\n",
            "973:\tlearn: 0.0295973\ttotal: 33.2s\tremaining: 887ms\n",
            "974:\tlearn: 0.0295709\ttotal: 33.2s\tremaining: 852ms\n",
            "975:\tlearn: 0.0295462\ttotal: 33.3s\tremaining: 818ms\n",
            "976:\tlearn: 0.0294774\ttotal: 33.3s\tremaining: 784ms\n",
            "977:\tlearn: 0.0294551\ttotal: 33.4s\tremaining: 751ms\n",
            "978:\tlearn: 0.0294430\ttotal: 33.4s\tremaining: 717ms\n",
            "979:\tlearn: 0.0293936\ttotal: 33.4s\tremaining: 683ms\n",
            "980:\tlearn: 0.0293599\ttotal: 33.5s\tremaining: 648ms\n",
            "981:\tlearn: 0.0293346\ttotal: 33.5s\tremaining: 614ms\n",
            "982:\tlearn: 0.0292986\ttotal: 33.5s\tremaining: 580ms\n",
            "983:\tlearn: 0.0292225\ttotal: 33.6s\tremaining: 546ms\n",
            "984:\tlearn: 0.0291939\ttotal: 33.6s\tremaining: 512ms\n",
            "985:\tlearn: 0.0291892\ttotal: 33.6s\tremaining: 477ms\n",
            "986:\tlearn: 0.0291514\ttotal: 33.7s\tremaining: 443ms\n",
            "987:\tlearn: 0.0291404\ttotal: 33.7s\tremaining: 409ms\n",
            "988:\tlearn: 0.0291137\ttotal: 33.7s\tremaining: 375ms\n",
            "989:\tlearn: 0.0290768\ttotal: 33.7s\tremaining: 341ms\n",
            "990:\tlearn: 0.0290130\ttotal: 33.8s\tremaining: 307ms\n",
            "991:\tlearn: 0.0289887\ttotal: 33.8s\tremaining: 273ms\n",
            "992:\tlearn: 0.0289563\ttotal: 33.9s\tremaining: 239ms\n",
            "993:\tlearn: 0.0289152\ttotal: 33.9s\tremaining: 205ms\n",
            "994:\tlearn: 0.0288771\ttotal: 33.9s\tremaining: 171ms\n",
            "995:\tlearn: 0.0288337\ttotal: 34s\tremaining: 137ms\n",
            "996:\tlearn: 0.0287858\ttotal: 34.1s\tremaining: 103ms\n",
            "997:\tlearn: 0.0287746\ttotal: 34.1s\tremaining: 68.4ms\n",
            "998:\tlearn: 0.0287169\ttotal: 34.2s\tremaining: 34.2ms\n",
            "999:\tlearn: 0.0286293\ttotal: 34.2s\tremaining: 0us\n"
          ]
        },
        {
          "output_type": "execute_result",
          "data": {
            "text/plain": [
              "<catboost.core.CatBoostClassifier at 0x7fdf3bd8f1c0>"
            ]
          },
          "metadata": {},
          "execution_count": 56
        }
      ],
      "source": [
        "clf.fit(df1_train.drop('Attrition_Flag', axis=1), df1_train['Attrition_Flag'], cat_features=categorical_columns)"
      ]
    },
    {
      "cell_type": "code",
      "execution_count": null,
      "id": "d5181bdc",
      "metadata": {
        "id": "d5181bdc",
        "colab": {
          "base_uri": "https://localhost:8080/"
        },
        "outputId": "bef29e4d-8f35-4206-e515-46ae475e7daf"
      },
      "outputs": [
        {
          "output_type": "stream",
          "name": "stdout",
          "text": [
            "F1 Score: 0.9847834568864613\n"
          ]
        }
      ],
      "source": [
        "from sklearn.metrics import f1_score\n",
        "\n",
        "# Get predicted probabilities for each class\n",
        "y_pred_proba = clf.predict_proba(df1_test.drop('Attrition_Flag', axis=1))[:, 1]\n",
        "\n",
        "# Set a threshold to convert probabilities to binary labels\n",
        "threshold = 0.5\n",
        "y_pred = (y_pred_proba > threshold).astype(int)\n",
        "\n",
        "# Map label values to binary encoding\n",
        "label_mapping = {'Existing Customer': 1, 'Attrited Customer': 0}\n",
        "y_true = df1_test['Attrition_Flag'].map(label_mapping)\n",
        "\n",
        "# Calculate the F1 score\n",
        "f1 = f1_score(y_true, y_pred)\n",
        "\n",
        "print(\"F1 Score:\", f1)\n"
      ]
    },
    {
      "cell_type": "code",
      "execution_count": null,
      "id": "9686aad6",
      "metadata": {
        "id": "9686aad6",
        "colab": {
          "base_uri": "https://localhost:8080/"
        },
        "outputId": "7de5f60e-d889-4e5f-f4b2-edb45fca35f4"
      },
      "outputs": [
        {
          "output_type": "execute_result",
          "data": {
            "text/plain": [
              "array([1, 0, 0, ..., 1, 1, 1])"
            ]
          },
          "metadata": {},
          "execution_count": 58
        }
      ],
      "source": [
        "y_pred"
      ]
    },
    {
      "cell_type": "markdown",
      "id": "a6e2f952",
      "metadata": {
        "id": "a6e2f952"
      },
      "source": [
        "# 19. Compute ROC AUC score for your RandomForest and Catboost model\n",
        "\n",
        "Comment on how increase/decrease in roc auc (machine learning metric) compares with increase/decrease of revenue (business metric). Propose how you could improve the economic model to make it more realistic (and how to use your ML model in this new setup). Upload a pdf, up to 500 words."
      ]
    },
    {
      "cell_type": "code",
      "execution_count": null,
      "id": "9399cbf5",
      "metadata": {
        "id": "9399cbf5",
        "colab": {
          "base_uri": "https://localhost:8080/"
        },
        "outputId": "051691e2-b73f-4a6a-9bf5-27c05a3e49ed"
      },
      "outputs": [
        {
          "output_type": "stream",
          "name": "stdout",
          "text": [
            "ROC AUC Score - RandomForest: 0.8979598967939285\n",
            "ROC AUC Score - Catboost: 0.9424538593030055\n"
          ]
        }
      ],
      "source": [
        "from sklearn.metrics import roc_auc_score\n",
        "\n",
        "# Compute ROC AUC score for RandomForest model\n",
        "roc_auc_rf = roc_auc_score(df_test['Attrition_Flag'], y_pred_rf)\n",
        "\n",
        "# Compute ROC AUC score for Catboost model\n",
        "roc_auc_catboost = roc_auc_score(df1_test['Attrition_Flag'], y_pred)\n",
        "\n",
        "print(\"ROC AUC Score - RandomForest:\", roc_auc_rf)\n",
        "print(\"ROC AUC Score - Catboost:\", roc_auc_catboost)\n"
      ]
    },
    {
      "cell_type": "code",
      "execution_count": null,
      "id": "58c8bfc0",
      "metadata": {
        "id": "58c8bfc0"
      },
      "outputs": [],
      "source": []
    },
    {
      "cell_type": "markdown",
      "id": "6a049694",
      "metadata": {
        "id": "6a049694"
      },
      "source": [
        "# 20. Upload your ipynb solution"
      ]
    },
    {
      "cell_type": "code",
      "execution_count": null,
      "id": "3308b344",
      "metadata": {
        "id": "3308b344"
      },
      "outputs": [],
      "source": []
    },
    {
      "cell_type": "code",
      "execution_count": null,
      "id": "bb57a955",
      "metadata": {
        "id": "bb57a955"
      },
      "outputs": [],
      "source": []
    },
    {
      "cell_type": "code",
      "execution_count": null,
      "id": "9eb2a9e0",
      "metadata": {
        "id": "9eb2a9e0"
      },
      "outputs": [],
      "source": []
    }
  ],
  "metadata": {
    "kernelspec": {
      "display_name": "Python 3 (ipykernel)",
      "language": "python",
      "name": "python3"
    },
    "language_info": {
      "codemirror_mode": {
        "name": "ipython",
        "version": 3
      },
      "file_extension": ".py",
      "mimetype": "text/x-python",
      "name": "python",
      "nbconvert_exporter": "python",
      "pygments_lexer": "ipython3",
      "version": "3.9.13"
    },
    "colab": {
      "provenance": []
    }
  },
  "nbformat": 4,
  "nbformat_minor": 5
}